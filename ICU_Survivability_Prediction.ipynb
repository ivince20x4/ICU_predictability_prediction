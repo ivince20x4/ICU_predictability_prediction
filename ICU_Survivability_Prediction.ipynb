{
 "cells": [
  {
   "cell_type": "markdown",
   "metadata": {
    "colab_type": "text",
    "id": "STLlekwG3NBc"
   },
   "source": [
    "# **WiDS Datathon 2020 Challenge** \n",
    "Problem Overview:\n",
    "\n",
    "The challenge is to create a model that uses data from the first 24 hours of intensive care to predict patient survival. MIT's GOSSIS community initiative, with privacy certification from the Harvard Privacy Lab as acceptable for use in the WiDS Datathon, has provided a dataset of more than 130,000 hospital Intensive Care Unit (ICU) visits from patients, spanning a one-year timeframe. This data is part of a growing global effort and consortium spanning Argentina, Australia, New Zealand, Sri Lanka, Brazil, and more than 200 hospitals in the United States.\n",
    "\n",
    "The datathon task is to train a model that takes as input the patient record data and outputs a prediction of how likely it is that the patient survives. Labeled training and test datasets are provided for model development; you will then upload your predictions for an unlabeled test set to Kaggle and these predictions will be used to determine the public leaderboard rankings, and the final winners of the competition. Data analysis can be done using your preferred tools. The winners will be determined by the leaderboard on the Kaggle platform at the time the contest closes February 24 2020\n",
    "\n",
    "Link for the Kaggle website: https://www.kaggle.com/c/widsdatathon2020/overview\n",
    "\n",
    "\n"
   ]
  },
  {
   "cell_type": "markdown",
   "metadata": {},
   "source": [
    "Author: Vincent Lee\n",
    "\n",
    "Date: 02/24/2019\n"
   ]
  },
  {
   "cell_type": "markdown",
   "metadata": {
    "colab_type": "text",
    "id": "8hoKWkjOWjiJ"
   },
   "source": [
    "## Import libraries"
   ]
  },
  {
   "cell_type": "code",
   "execution_count": 1,
   "metadata": {
    "colab": {},
    "colab_type": "code",
    "id": "3qJ8pvEfFvZs"
   },
   "outputs": [],
   "source": [
    "# import packages\n",
    "import warnings\n",
    "warnings.filterwarnings(\"ignore\")\n",
    "\n",
    "# data prep and EDA\n",
    "import numpy as np\n",
    "import pandas as pd\n",
    "import scipy\n",
    "import scipy.stats as st\n",
    "from scipy.stats import randint as sp_randint\n",
    "from scipy.stats import uniform as sp_uniform\n",
    "import matplotlib.pyplot as plt\n",
    "%matplotlib inline\n",
    "import seaborn as sns\n",
    "import time\n",
    "from sklearn.preprocessing import LabelEncoder\n",
    "from sklearn.model_selection import train_test_split\n",
    "\n",
    "# parameter tuning\n",
    "from sklearn.model_selection import cross_val_score\n",
    "from sklearn.model_selection import RandomizedSearchCV\n",
    "from sklearn.model_selection import GridSearchCV\n",
    "\n",
    "# algorithms\n",
    "import statsmodels.api as sm\n",
    "from sklearn.linear_model import LogisticRegression\n",
    "from sklearn.ensemble import RandomForestClassifier\n",
    "\n",
    "# ensemble methods\n",
    "import lightgbm as lgb\n",
    "import xgboost as xgb\n",
    "from xgboost import XGBClassifier\n",
    "from mlxtend.classifier import StackingCVClassifier\n",
    "\n",
    "# model evaluation\n",
    "from sklearn.datasets import make_classification\n",
    "from sklearn.metrics import classification_report, confusion_matrix, accuracy_score\n",
    "\n"
   ]
  },
  {
   "cell_type": "markdown",
   "metadata": {
    "colab_type": "text",
    "id": "bFPJftYB9eMd"
   },
   "source": [
    "# Exploratory Data Analysis (EDA) \n",
    "File descriptions\n",
    "1. training.csv - the training set\n",
    "2. unlabeled.csv - the data set without hospital_death provided ( Column D- empty)\n",
    "3. samplesubmission.csv - a sample submission file in the correct format\n",
    "4. solution_template.csv - a list of all the rows (and encounters) that should be in your submissions\n",
    "5. WiDS Datathon 2020 Dictionary.csv - supplemental information about the data"
   ]
  },
  {
   "cell_type": "markdown",
   "metadata": {
    "colab_type": "text",
    "id": "ac17XZecWeDq"
   },
   "source": [
    "## Import data"
   ]
  },
  {
   "cell_type": "code",
   "execution_count": 2,
   "metadata": {},
   "outputs": [],
   "source": [
    "datapath= 'C:/Users/vincentlee/Desktop/datascienceprojects/Kaggle/widsdatathon2020'"
   ]
  },
  {
   "cell_type": "code",
   "execution_count": 11,
   "metadata": {
    "colab": {
     "base_uri": "https://localhost:8080/",
     "height": 71
    },
    "colab_type": "code",
    "id": "GCg6fwCA6eKm",
    "outputId": "00f3618e-7090-4e72-9dd7-fa9b5dd8883e"
   },
   "outputs": [],
   "source": [
    "training_df_cleaned = pd.read_csv(datapath+'/training.csv')\n",
    "test_df = pd.read_csv(datapath+'/unlabeled.csv')\n"
   ]
  },
  {
   "cell_type": "markdown",
   "metadata": {
    "colab_type": "text",
    "id": "XyHXLF00Wql0"
   },
   "source": [
    "## Reduce data frame memory"
   ]
  },
  {
   "cell_type": "code",
   "execution_count": 3,
   "metadata": {
    "colab": {},
    "colab_type": "code",
    "id": "Vq0Mh-QZDJ75"
   },
   "outputs": [],
   "source": [
    "## Reducing memory function (to reduce the DF size)\n",
    "def reduce_memory(df, verbose=True):\n",
    "    numerics = ['int16', 'int32', 'int64', 'float16', 'float32', 'float64']\n",
    "    start_mem = df.memory_usage().sum() / 1024**2    \n",
    "    for col in df.columns:\n",
    "        col_type = df[col].dtypes\n",
    "        if col_type in numerics:\n",
    "            c_min = df[col].min()\n",
    "            c_max = df[col].max()\n",
    "            if str(col_type)[:3] == 'int':\n",
    "                if c_min > np.iinfo(np.int8).min and c_max < np.iinfo(np.int8).max:\n",
    "                    df[col] = df[col].astype(np.int8)\n",
    "                elif c_min > np.iinfo(np.int16).min and c_max < np.iinfo(np.int16).max:\n",
    "                    df[col] = df[col].astype(np.int16)\n",
    "                elif c_min > np.iinfo(np.int32).min and c_max < np.iinfo(np.int32).max:\n",
    "                    df[col] = df[col].astype(np.int32)\n",
    "                elif c_min > np.iinfo(np.int64).min and c_max < np.iinfo(np.int64).max:\n",
    "                    df[col] = df[col].astype(np.int64)  \n",
    "            else:\n",
    "                if c_min > np.finfo(np.float16).min and c_max < np.finfo(np.float16).max:\n",
    "                    df[col] = df[col].astype(np.float16)\n",
    "                elif c_min > np.finfo(np.float32).min and c_max < np.finfo(np.float32).max:\n",
    "                    df[col] = df[col].astype(np.float32)\n",
    "                else:\n",
    "                    df[col] = df[col].astype(np.float64)    \n",
    "    end_mem = df.memory_usage().sum() / 1024**2\n",
    "    if verbose: print('Mem. usage decreased to {:5.2f} Mb ({:.1f}% reduction)'.format(end_mem, 100 * (start_mem - end_mem) / start_mem))\n",
    "    return end_mem\n",
    "  # run reduce memory outside of function"
   ]
  },
  {
   "cell_type": "code",
   "execution_count": 20,
   "metadata": {
    "colab": {
     "base_uri": "https://localhost:8080/",
     "height": 102
    },
    "colab_type": "code",
    "id": "4zHTdYPWV3Mi",
    "outputId": "fe068c93-5049-48ad-8fcb-6510ce15fdf7"
   },
   "outputs": [
    {
     "name": "stdout",
     "output_type": "stream",
     "text": [
      "Mem. usage decreased to 36.74 Mb (0.0% reduction)\n",
      "Mem. usage decreased to 16.01 Mb (71.3% reduction)\n"
     ]
    },
    {
     "data": {
      "text/plain": [
       "16.007083892822266"
      ]
     },
     "execution_count": 20,
     "metadata": {},
     "output_type": "execute_result"
    }
   ],
   "source": [
    "reduce_memory(training_df)\n",
    "reduce_memory(test_df)"
   ]
  },
  {
   "cell_type": "markdown",
   "metadata": {
    "colab_type": "text",
    "id": "JaXRJkBTBCVQ"
   },
   "source": [
    "## Check missing values in training dataset"
   ]
  },
  {
   "cell_type": "code",
   "execution_count": 4,
   "metadata": {
    "colab": {},
    "colab_type": "code",
    "id": "xro6l-CfCTQE"
   },
   "outputs": [],
   "source": [
    "#function to do missing value computation\n",
    "def cal_missing_val(df):\n",
    "    data_dict = {}\n",
    "    for col in df.columns:\n",
    "        data_dict[col] = df[col].isnull().sum()/df.shape[0]*100\n",
    "    return pd.DataFrame.from_dict(data_dict, orient='index', columns=['MissingValue'])"
   ]
  },
  {
   "cell_type": "code",
   "execution_count": 22,
   "metadata": {
    "colab": {
     "base_uri": "https://localhost:8080/",
     "height": 102
    },
    "colab_type": "code",
    "id": "8563DmwN_ANZ",
    "outputId": "1e1dc07e-3643-40b5-f879-6d695c59de90"
   },
   "outputs": [
    {
     "name": "stdout",
     "output_type": "stream",
     "text": [
      "<class 'pandas.core.frame.DataFrame'>\n",
      "RangeIndex: 91713 entries, 0 to 91712\n",
      "Columns: 186 entries, encounter_id to apache_2_bodysystem\n",
      "dtypes: float16(170), int16(2), int32(2), int8(4), object(8)\n",
      "memory usage: 36.7+ MB\n"
     ]
    }
   ],
   "source": [
    "training_df.info()"
   ]
  },
  {
   "cell_type": "markdown",
   "metadata": {
    "colab_type": "text",
    "id": "jZL88UWPOF6_"
   },
   "source": [
    "### Calculating missing values for demographic variables"
   ]
  },
  {
   "cell_type": "code",
   "execution_count": 23,
   "metadata": {
    "colab": {
     "base_uri": "https://localhost:8080/",
     "height": 514
    },
    "colab_type": "code",
    "id": "iCxvSaNJNs1B",
    "outputId": "fa19caf3-edf0-44ed-fc07-0a8bf0517d25",
    "scrolled": true
   },
   "outputs": [
    {
     "data": {
      "text/html": [
       "<div>\n",
       "<style scoped>\n",
       "    .dataframe tbody tr th:only-of-type {\n",
       "        vertical-align: middle;\n",
       "    }\n",
       "\n",
       "    .dataframe tbody tr th {\n",
       "        vertical-align: top;\n",
       "    }\n",
       "\n",
       "    .dataframe thead th {\n",
       "        text-align: right;\n",
       "    }\n",
       "</style>\n",
       "<table border=\"1\" class=\"dataframe\">\n",
       "  <thead>\n",
       "    <tr style=\"text-align: right;\">\n",
       "      <th></th>\n",
       "      <th>MissingValue</th>\n",
       "    </tr>\n",
       "  </thead>\n",
       "  <tbody>\n",
       "    <tr>\n",
       "      <th>hospital_admit_source</th>\n",
       "      <td>23.343474</td>\n",
       "    </tr>\n",
       "    <tr>\n",
       "      <th>age</th>\n",
       "      <td>4.610033</td>\n",
       "    </tr>\n",
       "    <tr>\n",
       "      <th>bmi</th>\n",
       "      <td>3.738837</td>\n",
       "    </tr>\n",
       "    <tr>\n",
       "      <th>weight</th>\n",
       "      <td>2.965774</td>\n",
       "    </tr>\n",
       "    <tr>\n",
       "      <th>ethnicity</th>\n",
       "      <td>1.521049</td>\n",
       "    </tr>\n",
       "    <tr>\n",
       "      <th>height</th>\n",
       "      <td>1.454538</td>\n",
       "    </tr>\n",
       "    <tr>\n",
       "      <th>icu_admit_source</th>\n",
       "      <td>0.122120</td>\n",
       "    </tr>\n",
       "    <tr>\n",
       "      <th>gender</th>\n",
       "      <td>0.027259</td>\n",
       "    </tr>\n",
       "    <tr>\n",
       "      <th>hospital_death</th>\n",
       "      <td>0.000000</td>\n",
       "    </tr>\n",
       "    <tr>\n",
       "      <th>elective_surgery</th>\n",
       "      <td>0.000000</td>\n",
       "    </tr>\n",
       "    <tr>\n",
       "      <th>icu_id</th>\n",
       "      <td>0.000000</td>\n",
       "    </tr>\n",
       "    <tr>\n",
       "      <th>icu_stay_type</th>\n",
       "      <td>0.000000</td>\n",
       "    </tr>\n",
       "    <tr>\n",
       "      <th>icu_type</th>\n",
       "      <td>0.000000</td>\n",
       "    </tr>\n",
       "    <tr>\n",
       "      <th>pre_icu_los_days</th>\n",
       "      <td>0.000000</td>\n",
       "    </tr>\n",
       "    <tr>\n",
       "      <th>readmission_status</th>\n",
       "      <td>0.000000</td>\n",
       "    </tr>\n",
       "  </tbody>\n",
       "</table>\n",
       "</div>"
      ],
      "text/plain": [
       "                       MissingValue\n",
       "hospital_admit_source     23.343474\n",
       "age                        4.610033\n",
       "bmi                        3.738837\n",
       "weight                     2.965774\n",
       "ethnicity                  1.521049\n",
       "height                     1.454538\n",
       "icu_admit_source           0.122120\n",
       "gender                     0.027259\n",
       "hospital_death             0.000000\n",
       "elective_surgery           0.000000\n",
       "icu_id                     0.000000\n",
       "icu_stay_type              0.000000\n",
       "icu_type                   0.000000\n",
       "pre_icu_los_days           0.000000\n",
       "readmission_status         0.000000"
      ]
     },
     "execution_count": 23,
     "metadata": {},
     "output_type": "execute_result"
    }
   ],
   "source": [
    "demographicvariables = [\"hospital_death\",\"age\",\"bmi\",\"elective_surgery\",\n",
    "                        \"ethnicity\",\"gender\",\"height\",\"hospital_admit_source\",\n",
    "                        \"icu_admit_source\",\"icu_id\",\"icu_stay_type\",\n",
    "                        \"icu_type\",\"pre_icu_los_days\",\"readmission_status\",\"weight\"]\n",
    "\n",
    "cal_missing_val(training_df_cleaned[demographicvariables]).sort_values(by=['MissingValue'],ascending=False)"
   ]
  },
  {
   "cell_type": "markdown",
   "metadata": {
    "colab_type": "text",
    "id": "fxiwzt5r83Gy"
   },
   "source": [
    "### Calculating missing values for labs and vitals variables"
   ]
  },
  {
   "cell_type": "code",
   "execution_count": 24,
   "metadata": {
    "colab": {},
    "colab_type": "code",
    "id": "Zoowv9qkGgzy"
   },
   "outputs": [
    {
     "data": {
      "text/plain": [
       "128"
      ]
     },
     "execution_count": 24,
     "metadata": {},
     "output_type": "execute_result"
    }
   ],
   "source": [
    "lab_1 = [col for col in training_df_cleaned.columns if 'd1_' in col]\n",
    "lab_2 = [col for col in training_df_cleaned.columns if 'h1_' in col]\n",
    "labvitalvariables = lab_1+lab_2\n",
    "len(labvitalvariables)"
   ]
  },
  {
   "cell_type": "code",
   "execution_count": 25,
   "metadata": {
    "colab": {},
    "colab_type": "code",
    "id": "0b-S6CyxG3jE"
   },
   "outputs": [
    {
     "data": {
      "text/plain": [
       "['h1_temp_max',\n",
       " 'h1_temp_min',\n",
       " 'd1_hco3_min',\n",
       " 'd1_hco3_max',\n",
       " 'd1_platelets_min',\n",
       " 'd1_platelets_max',\n",
       " 'd1_wbc_min',\n",
       " 'd1_wbc_max',\n",
       " 'd1_calcium_min',\n",
       " 'd1_calcium_max',\n",
       " 'd1_hemaglobin_max',\n",
       " 'd1_hemaglobin_min',\n",
       " 'd1_hematocrit_max',\n",
       " 'd1_hematocrit_min',\n",
       " 'd1_bun_max',\n",
       " 'd1_bun_min',\n",
       " 'd1_sodium_max',\n",
       " 'd1_sodium_min',\n",
       " 'd1_creatinine_max',\n",
       " 'd1_creatinine_min',\n",
       " 'd1_potassium_min',\n",
       " 'd1_potassium_max',\n",
       " 'h1_mbp_noninvasive_max',\n",
       " 'h1_mbp_noninvasive_min',\n",
       " 'h1_diasbp_noninvasive_min',\n",
       " 'h1_diasbp_noninvasive_max',\n",
       " 'h1_sysbp_noninvasive_max',\n",
       " 'h1_sysbp_noninvasive_min',\n",
       " 'd1_glucose_max',\n",
       " 'd1_glucose_min',\n",
       " 'h1_mbp_min',\n",
       " 'h1_mbp_max',\n",
       " 'h1_resprate_max',\n",
       " 'h1_resprate_min',\n",
       " 'h1_spo2_min',\n",
       " 'h1_spo2_max',\n",
       " 'h1_diasbp_max',\n",
       " 'h1_diasbp_min',\n",
       " 'h1_sysbp_min',\n",
       " 'h1_sysbp_max',\n",
       " 'h1_heartrate_min',\n",
       " 'h1_heartrate_max',\n",
       " 'd1_temp_max',\n",
       " 'd1_temp_min',\n",
       " 'd1_mbp_noninvasive_min',\n",
       " 'd1_mbp_noninvasive_max',\n",
       " 'd1_diasbp_noninvasive_max',\n",
       " 'd1_diasbp_noninvasive_min',\n",
       " 'd1_sysbp_noninvasive_min',\n",
       " 'd1_sysbp_noninvasive_max',\n",
       " 'd1_resprate_min',\n",
       " 'd1_resprate_max',\n",
       " 'd1_spo2_max',\n",
       " 'd1_spo2_min',\n",
       " 'd1_mbp_min',\n",
       " 'd1_mbp_max',\n",
       " 'd1_diasbp_min',\n",
       " 'd1_diasbp_max',\n",
       " 'd1_sysbp_max',\n",
       " 'd1_sysbp_min',\n",
       " 'd1_heartrate_min',\n",
       " 'd1_heartrate_max']"
      ]
     },
     "execution_count": 25,
     "metadata": {},
     "output_type": "execute_result"
    }
   ],
   "source": [
    "missing_data = cal_missing_val(training_df_cleaned[labvitalvariables]).sort_values(by=['MissingValue'],\n",
    "                                                                             ascending=False)\n",
    "\n",
    "# hightlight missing values less than 50%\n",
    "labvitals_selected = list(missing_data[missing_data['MissingValue'] < 50].index)\n",
    "labvitals_selected"
   ]
  },
  {
   "cell_type": "markdown",
   "metadata": {
    "colab_type": "text",
    "id": "fxiwzt5r83Gy"
   },
   "source": [
    "### Calculating missing values for apache variables"
   ]
  },
  {
   "cell_type": "code",
   "execution_count": 14,
   "metadata": {},
   "outputs": [
    {
     "data": {
      "text/html": [
       "<div>\n",
       "<style scoped>\n",
       "    .dataframe tbody tr th:only-of-type {\n",
       "        vertical-align: middle;\n",
       "    }\n",
       "\n",
       "    .dataframe tbody tr th {\n",
       "        vertical-align: top;\n",
       "    }\n",
       "\n",
       "    .dataframe thead th {\n",
       "        text-align: right;\n",
       "    }\n",
       "</style>\n",
       "<table border=\"1\" class=\"dataframe\">\n",
       "  <thead>\n",
       "    <tr style=\"text-align: right;\">\n",
       "      <th></th>\n",
       "      <th>MissingValue</th>\n",
       "    </tr>\n",
       "  </thead>\n",
       "  <tbody>\n",
       "    <tr>\n",
       "      <th>pao2_apache</th>\n",
       "      <td>77.271488</td>\n",
       "    </tr>\n",
       "    <tr>\n",
       "      <th>fio2_apache</th>\n",
       "      <td>77.271488</td>\n",
       "    </tr>\n",
       "    <tr>\n",
       "      <th>ph_apache</th>\n",
       "      <td>77.271488</td>\n",
       "    </tr>\n",
       "    <tr>\n",
       "      <th>paco2_for_ph_apache</th>\n",
       "      <td>77.271488</td>\n",
       "    </tr>\n",
       "    <tr>\n",
       "      <th>paco2_apache</th>\n",
       "      <td>77.271488</td>\n",
       "    </tr>\n",
       "    <tr>\n",
       "      <th>bilirubin_apache</th>\n",
       "      <td>63.386870</td>\n",
       "    </tr>\n",
       "    <tr>\n",
       "      <th>albumin_apache</th>\n",
       "      <td>59.292576</td>\n",
       "    </tr>\n",
       "    <tr>\n",
       "      <th>urineoutput_apache</th>\n",
       "      <td>53.425360</td>\n",
       "    </tr>\n",
       "    <tr>\n",
       "      <th>wbc_apache</th>\n",
       "      <td>24.000960</td>\n",
       "    </tr>\n",
       "    <tr>\n",
       "      <th>hematocrit_apache</th>\n",
       "      <td>21.674136</td>\n",
       "    </tr>\n",
       "    <tr>\n",
       "      <th>bun_apache</th>\n",
       "      <td>21.002475</td>\n",
       "    </tr>\n",
       "    <tr>\n",
       "      <th>creatinine_apache</th>\n",
       "      <td>20.556519</td>\n",
       "    </tr>\n",
       "    <tr>\n",
       "      <th>sodium_apache</th>\n",
       "      <td>20.280658</td>\n",
       "    </tr>\n",
       "    <tr>\n",
       "      <th>glucose_apache</th>\n",
       "      <td>12.033190</td>\n",
       "    </tr>\n",
       "    <tr>\n",
       "      <th>apache_4a_icu_death_prob</th>\n",
       "      <td>8.665075</td>\n",
       "    </tr>\n",
       "    <tr>\n",
       "      <th>apache_4a_hospital_death_prob</th>\n",
       "      <td>8.665075</td>\n",
       "    </tr>\n",
       "    <tr>\n",
       "      <th>temp_apache</th>\n",
       "      <td>4.479191</td>\n",
       "    </tr>\n",
       "    <tr>\n",
       "      <th>gcs_eyes_apache</th>\n",
       "      <td>2.072770</td>\n",
       "    </tr>\n",
       "    <tr>\n",
       "      <th>gcs_motor_apache</th>\n",
       "      <td>2.072770</td>\n",
       "    </tr>\n",
       "    <tr>\n",
       "      <th>gcs_verbal_apache</th>\n",
       "      <td>2.072770</td>\n",
       "    </tr>\n",
       "    <tr>\n",
       "      <th>apache_2_bodysystem</th>\n",
       "      <td>1.812175</td>\n",
       "    </tr>\n",
       "    <tr>\n",
       "      <th>apache_2_diagnosis</th>\n",
       "      <td>1.812175</td>\n",
       "    </tr>\n",
       "    <tr>\n",
       "      <th>apache_3j_bodysystem</th>\n",
       "      <td>1.812175</td>\n",
       "    </tr>\n",
       "    <tr>\n",
       "      <th>resprate_apache</th>\n",
       "      <td>1.345502</td>\n",
       "    </tr>\n",
       "    <tr>\n",
       "      <th>apache_3j_diagnosis</th>\n",
       "      <td>1.200484</td>\n",
       "    </tr>\n",
       "    <tr>\n",
       "      <th>gcs_unable_apache</th>\n",
       "      <td>1.130701</td>\n",
       "    </tr>\n",
       "    <tr>\n",
       "      <th>map_apache</th>\n",
       "      <td>1.083816</td>\n",
       "    </tr>\n",
       "    <tr>\n",
       "      <th>heart_rate_apache</th>\n",
       "      <td>0.957334</td>\n",
       "    </tr>\n",
       "    <tr>\n",
       "      <th>ventilated_apache</th>\n",
       "      <td>0.779606</td>\n",
       "    </tr>\n",
       "    <tr>\n",
       "      <th>arf_apache</th>\n",
       "      <td>0.779606</td>\n",
       "    </tr>\n",
       "    <tr>\n",
       "      <th>aids</th>\n",
       "      <td>0.779606</td>\n",
       "    </tr>\n",
       "    <tr>\n",
       "      <th>cirrhosis</th>\n",
       "      <td>0.779606</td>\n",
       "    </tr>\n",
       "    <tr>\n",
       "      <th>diabetes_mellitus</th>\n",
       "      <td>0.779606</td>\n",
       "    </tr>\n",
       "    <tr>\n",
       "      <th>hepatic_failure</th>\n",
       "      <td>0.779606</td>\n",
       "    </tr>\n",
       "    <tr>\n",
       "      <th>immunosuppression</th>\n",
       "      <td>0.779606</td>\n",
       "    </tr>\n",
       "    <tr>\n",
       "      <th>leukemia</th>\n",
       "      <td>0.779606</td>\n",
       "    </tr>\n",
       "    <tr>\n",
       "      <th>lymphoma</th>\n",
       "      <td>0.779606</td>\n",
       "    </tr>\n",
       "    <tr>\n",
       "      <th>solid_tumor_with_metastasis</th>\n",
       "      <td>0.779606</td>\n",
       "    </tr>\n",
       "    <tr>\n",
       "      <th>intubated_apache</th>\n",
       "      <td>0.779606</td>\n",
       "    </tr>\n",
       "    <tr>\n",
       "      <th>apache_post_operative</th>\n",
       "      <td>0.000000</td>\n",
       "    </tr>\n",
       "    <tr>\n",
       "      <th>hospital_death</th>\n",
       "      <td>0.000000</td>\n",
       "    </tr>\n",
       "  </tbody>\n",
       "</table>\n",
       "</div>"
      ],
      "text/plain": [
       "                               MissingValue\n",
       "pao2_apache                       77.271488\n",
       "fio2_apache                       77.271488\n",
       "ph_apache                         77.271488\n",
       "paco2_for_ph_apache               77.271488\n",
       "paco2_apache                      77.271488\n",
       "bilirubin_apache                  63.386870\n",
       "albumin_apache                    59.292576\n",
       "urineoutput_apache                53.425360\n",
       "wbc_apache                        24.000960\n",
       "hematocrit_apache                 21.674136\n",
       "bun_apache                        21.002475\n",
       "creatinine_apache                 20.556519\n",
       "sodium_apache                     20.280658\n",
       "glucose_apache                    12.033190\n",
       "apache_4a_icu_death_prob           8.665075\n",
       "apache_4a_hospital_death_prob      8.665075\n",
       "temp_apache                        4.479191\n",
       "gcs_eyes_apache                    2.072770\n",
       "gcs_motor_apache                   2.072770\n",
       "gcs_verbal_apache                  2.072770\n",
       "apache_2_bodysystem                1.812175\n",
       "apache_2_diagnosis                 1.812175\n",
       "apache_3j_bodysystem               1.812175\n",
       "resprate_apache                    1.345502\n",
       "apache_3j_diagnosis                1.200484\n",
       "gcs_unable_apache                  1.130701\n",
       "map_apache                         1.083816\n",
       "heart_rate_apache                  0.957334\n",
       "ventilated_apache                  0.779606\n",
       "arf_apache                         0.779606\n",
       "aids                               0.779606\n",
       "cirrhosis                          0.779606\n",
       "diabetes_mellitus                  0.779606\n",
       "hepatic_failure                    0.779606\n",
       "immunosuppression                  0.779606\n",
       "leukemia                           0.779606\n",
       "lymphoma                           0.779606\n",
       "solid_tumor_with_metastasis        0.779606\n",
       "intubated_apache                   0.779606\n",
       "apache_post_operative              0.000000\n",
       "hospital_death                     0.000000"
      ]
     },
     "execution_count": 14,
     "metadata": {},
     "output_type": "execute_result"
    }
   ],
   "source": [
    "apachevariables = ['albumin_apache','apache_2_diagnosis','apache_3j_diagnosis',\n",
    "                  'apache_post_operative', 'arf_apache', 'bilirubin_apache','bun_apache',\n",
    "                   'creatinine_apache','fio2_apache','gcs_eyes_apache','gcs_motor_apache',\n",
    "                   'gcs_unable_apache','gcs_verbal_apache','glucose_apache','heart_rate_apache',\\\n",
    "                   'hematocrit_apache','intubated_apache','map_apache','paco2_apache',\n",
    "                   'paco2_for_ph_apache','pao2_apache','ph_apache','resprate_apache',\n",
    "                   'sodium_apache','temp_apache','urineoutput_apache','ventilated_apache',\n",
    "                   'wbc_apache','apache_4a_hospital_death_prob','apache_4a_icu_death_prob',\n",
    "                   'aids','cirrhosis','diabetes_mellitus','hepatic_failure','immunosuppression',\n",
    "                   'leukemia','lymphoma','solid_tumor_with_metastasis','apache_3j_bodysystem',\n",
    "                   'apache_2_bodysystem','hospital_death']\n",
    "\n",
    "cal_missing_val(training_df_cleaned[apachevariables]).sort_values(by=['MissingValue'],ascending=False)"
   ]
  },
  {
   "cell_type": "markdown",
   "metadata": {
    "colab_type": "text",
    "id": "WbdvcWglaGeK"
   },
   "source": [
    "## Understand relationship/correlation between variables"
   ]
  },
  {
   "cell_type": "code",
   "execution_count": 16,
   "metadata": {
    "colab": {},
    "colab_type": "code",
    "id": "567JOQ6ZBF6K"
   },
   "outputs": [],
   "source": [
    "# get absolute value of the correlation matrix\n",
    "# method for correlation used here is spearman since there are categorical and numerical vriables\n",
    "corr_matrix= (training_df_cleaned.corr(method=\"spearman\").abs())\n",
    "\n",
    "# due to symmetrical marix, we generate a triangle side of correlation matrix (upper) without diagonal (k=1)\n",
    "corr_values = (corr_matrix.where(np.triu(np.ones(corr_matrix.shape),k=1).astype(np.bool))).stack()\n",
    "\n",
    "# Sort the correlation values by highest to lowest\n",
    "corr_values = (corr_values.sort_values(ascending=False))"
   ]
  },
  {
   "cell_type": "code",
   "execution_count": 18,
   "metadata": {
    "colab": {
     "base_uri": "https://localhost:8080/",
     "height": 221
    },
    "colab_type": "code",
    "id": "UHVJxzr7ltEX",
    "outputId": "70c28bd4-0e1b-4010-99a3-ae33f542a646"
   },
   "outputs": [
    {
     "data": {
      "text/plain": [
       "paco2_apache          paco2_for_ph_apache     1.000000\n",
       "d1_inr_min            h1_inr_min              1.000000\n",
       "d1_inr_max            h1_inr_max              1.000000\n",
       "h1_albumin_max        h1_albumin_min          0.999715\n",
       "h1_bun_max            h1_bun_min              0.999545\n",
       "                                                ...   \n",
       "d1_arterial_pco2_min  h1_arterial_pco2_max    0.704404\n",
       "heart_rate_apache     h1_heartrate_min        0.702930\n",
       "d1_creatinine_min     h1_bun_max              0.701885\n",
       "                      h1_bun_min              0.701682\n",
       "h1_mbp_invasive_max   h1_mbp_max              0.701598\n",
       "Length: 272, dtype: float64"
      ]
     },
     "execution_count": 18,
     "metadata": {},
     "output_type": "execute_result"
    }
   ],
   "source": [
    "# print out top 200 correlation values\n",
    "corr_values[corr_values > 0.7]"
   ]
  },
  {
   "cell_type": "markdown",
   "metadata": {
    "colab_type": "text",
    "id": "Gw6JHWnmIB1e"
   },
   "source": [
    "### Correlation among demographic variables and hospital death"
   ]
  },
  {
   "cell_type": "markdown",
   "metadata": {
    "colab_type": "text",
    "id": "KURWMXknIMHl"
   },
   "source": [
    "Most variables are not highly correlated except for weight, height and BMI. Weight has a higher correlation with BMI as compared to height. Since BMI is defined by weight and height, I will remove BMI from the variables"
   ]
  },
  {
   "cell_type": "code",
   "execution_count": 0,
   "metadata": {
    "colab": {
     "base_uri": "https://localhost:8080/",
     "height": 641
    },
    "colab_type": "code",
    "id": "6wV7mzV4idc8",
    "outputId": "78586e5f-9c31-448d-a604-79b6853005c1"
   },
   "outputs": [
    {
     "data": {
      "text/plain": [
       "<matplotlib.axes._subplots.AxesSubplot at 0x7f75e45b32e8>"
      ]
     },
     "execution_count": 11,
     "metadata": {
      "tags": []
     },
     "output_type": "execute_result"
    },
    {
     "data": {
      "image/png": "[encoded data removed]",
      "text/plain": [
       "<Figure size 792x648 with 2 Axes>"
      ]
     },
     "metadata": {
      "tags": []
     },
     "output_type": "display_data"
    }
   ],
   "source": [
    "corr = training_df_cleaned[demographicvariables].corr(method=\"spearman\")\n",
    "\n",
    "# Generate a mask for the upper triangle\n",
    "mask = np.zeros_like(corr, dtype=np.bool)\n",
    "mask[np.triu_indices_from(mask)] = True\n",
    "\n",
    "# Set up the matplotlib figure\n",
    "f, ax = plt.subplots(figsize=(11, 9))\n",
    "\n",
    "# Generate a custom diverging colormap\n",
    "cmap = sns.diverging_palette(220, 10, as_cmap=True)\n",
    "\n",
    "# Draw the heatmap with the mask and correct aspect ratio\n",
    "sns.heatmap(corr, mask=mask, cmap=cmap, vmax=.8, center=0,annot=True,\n",
    "            square=True, linewidths=.5, cbar_kws={\"shrink\": .5})"
   ]
  },
  {
   "cell_type": "markdown",
   "metadata": {},
   "source": [
    "### Correlation among lab and vitals variables"
   ]
  },
  {
   "cell_type": "code",
   "execution_count": 31,
   "metadata": {
    "colab": {},
    "colab_type": "code",
    "id": "vBjUeP_CG6Mn"
   },
   "outputs": [
    {
     "data": {
      "text/plain": [
       "<matplotlib.axes._subplots.AxesSubplot at 0x1fa445b0160>"
      ]
     },
     "execution_count": 31,
     "metadata": {},
     "output_type": "execute_result"
    },
    {
     "data": {
      "image/png": "[encoded data removed]",
      "text/plain": [
       "<Figure size 792x648 with 2 Axes>"
      ]
     },
     "metadata": {
      "needs_background": "light"
     },
     "output_type": "display_data"
    }
   ],
   "source": [
    "corr = training_df_cleaned[labvitals_selected].corr(method=\"spearman\")\n",
    "\n",
    "# Generate a mask for the upper triangle\n",
    "mask = np.zeros_like(corr, dtype=np.bool)\n",
    "mask[np.triu_indices_from(mask)] = True\n",
    "\n",
    "# Set up the matplotlib figure\n",
    "f, ax = plt.subplots(figsize=(11, 9))\n",
    "\n",
    "# Generate a custom diverging colormap\n",
    "cmap = sns.diverging_palette(220, 10, as_cmap=True)\n",
    "\n",
    "# Draw the heatmap with the mask and correct aspect ratio\n",
    "sns.heatmap(corr, mask=mask, cmap=cmap, vmax=.8, center=0,\n",
    "            square=True, linewidths=.5, cbar_kws={\"shrink\": .5})"
   ]
  },
  {
   "cell_type": "markdown",
   "metadata": {},
   "source": [
    "There are high correlations between h1 (hour 1) and d1 (day 1) among the following variables:\n",
    "* mbp_noninvasive\n",
    "* diasbp_noninvasive\n",
    "* sysbp_noninvasive"
   ]
  },
  {
   "cell_type": "markdown",
   "metadata": {},
   "source": [
    "### Correlation among apache variables"
   ]
  },
  {
   "cell_type": "code",
   "execution_count": 34,
   "metadata": {
    "scrolled": true
   },
   "outputs": [
    {
     "data": {
      "text/plain": [
       "<matplotlib.axes._subplots.AxesSubplot at 0x1fa445f3208>"
      ]
     },
     "execution_count": 34,
     "metadata": {},
     "output_type": "execute_result"
    },
    {
     "data": {
      "image/png": "[encoded data removed]",
      "text/plain": [
       "<Figure size 792x648 with 2 Axes>"
      ]
     },
     "metadata": {
      "needs_background": "light"
     },
     "output_type": "display_data"
    }
   ],
   "source": [
    "corr = training_df_cleaned[apachevariables].corr(method=\"spearman\")\n",
    "\n",
    "# Generate a mask for the upper triangle\n",
    "mask = np.zeros_like(corr, dtype=np.bool)\n",
    "mask[np.triu_indices_from(mask)] = True\n",
    "\n",
    "# Set up the matplotlib figure\n",
    "f, ax = plt.subplots(figsize=(11, 9))\n",
    "\n",
    "# Generate a custom diverging colormap\n",
    "cmap = sns.diverging_palette(220, 10, as_cmap=True)\n",
    "\n",
    "# Draw the heatmap with the mask and correct aspect ratio\n",
    "sns.heatmap(corr, mask=mask, cmap=cmap, vmax=.8, center=0,\n",
    "            square=True, linewidths=.5, cbar_kws={\"shrink\": .5})"
   ]
  },
  {
   "cell_type": "markdown",
   "metadata": {},
   "source": [
    "Observations from the correlations of apache variables:\n",
    "\n",
    "1. Apache_post_operative has high correlation than Apache_2_diagnosis and 3j_diagnosis. Seems Apache_post_operative variables is a binary status: 1 for post-operative and 0 for non-operative and apache_2 and 3j are just diagonosis codes and seems like when apache 3j code is above 1000, it means post-operative. So, we can just drop apache 2 and 3j diagnosis and keep apache_post_operative variable  \n",
    "\n",
    "2. gcs_verbal_apache is highly correlated with gcs_eyes and gcs_motor apache variables\n",
    "\n",
    "3. paco2_for_ph_apache is highly correlated with paco2_apache\n",
    "\n",
    "4. apache_4a_icu_death_probability is highly correlated with apache_4a_hospital_death_probability"
   ]
  },
  {
   "cell_type": "code",
   "execution_count": 35,
   "metadata": {},
   "outputs": [
    {
     "data": {
      "text/html": [
       "<div>\n",
       "<style scoped>\n",
       "    .dataframe tbody tr th:only-of-type {\n",
       "        vertical-align: middle;\n",
       "    }\n",
       "\n",
       "    .dataframe tbody tr th {\n",
       "        vertical-align: top;\n",
       "    }\n",
       "\n",
       "    .dataframe thead th {\n",
       "        text-align: right;\n",
       "    }\n",
       "</style>\n",
       "<table border=\"1\" class=\"dataframe\">\n",
       "  <thead>\n",
       "    <tr style=\"text-align: right;\">\n",
       "      <th></th>\n",
       "      <th>apache_4a_hospital_death_prob</th>\n",
       "      <th>apache_4a_icu_death_prob</th>\n",
       "      <th>hospital_death</th>\n",
       "    </tr>\n",
       "  </thead>\n",
       "  <tbody>\n",
       "    <tr>\n",
       "      <th>apache_4a_hospital_death_prob</th>\n",
       "      <td>1.000000</td>\n",
       "      <td>0.943293</td>\n",
       "      <td>0.335144</td>\n",
       "    </tr>\n",
       "    <tr>\n",
       "      <th>apache_4a_icu_death_prob</th>\n",
       "      <td>0.943293</td>\n",
       "      <td>1.000000</td>\n",
       "      <td>0.335855</td>\n",
       "    </tr>\n",
       "    <tr>\n",
       "      <th>hospital_death</th>\n",
       "      <td>0.335144</td>\n",
       "      <td>0.335855</td>\n",
       "      <td>1.000000</td>\n",
       "    </tr>\n",
       "  </tbody>\n",
       "</table>\n",
       "</div>"
      ],
      "text/plain": [
       "                               apache_4a_hospital_death_prob  \\\n",
       "apache_4a_hospital_death_prob                       1.000000   \n",
       "apache_4a_icu_death_prob                            0.943293   \n",
       "hospital_death                                      0.335144   \n",
       "\n",
       "                               apache_4a_icu_death_prob  hospital_death  \n",
       "apache_4a_hospital_death_prob                  0.943293        0.335144  \n",
       "apache_4a_icu_death_prob                       1.000000        0.335855  \n",
       "hospital_death                                 0.335855        1.000000  "
      ]
     },
     "execution_count": 35,
     "metadata": {},
     "output_type": "execute_result"
    }
   ],
   "source": [
    "training_df_cleaned[['apache_4a_hospital_death_prob','apache_4a_icu_death_prob','hospital_death']].corr(method=\"spearman\")"
   ]
  },
  {
   "cell_type": "code",
   "execution_count": 37,
   "metadata": {},
   "outputs": [
    {
     "data": {
      "text/html": [
       "<div>\n",
       "<style scoped>\n",
       "    .dataframe tbody tr th:only-of-type {\n",
       "        vertical-align: middle;\n",
       "    }\n",
       "\n",
       "    .dataframe tbody tr th {\n",
       "        vertical-align: top;\n",
       "    }\n",
       "\n",
       "    .dataframe thead th {\n",
       "        text-align: right;\n",
       "    }\n",
       "</style>\n",
       "<table border=\"1\" class=\"dataframe\">\n",
       "  <thead>\n",
       "    <tr style=\"text-align: right;\">\n",
       "      <th></th>\n",
       "      <th>apache_4a_icu_death_prob</th>\n",
       "      <th>apache_post_operative</th>\n",
       "    </tr>\n",
       "  </thead>\n",
       "  <tbody>\n",
       "    <tr>\n",
       "      <th>apache_4a_icu_death_prob</th>\n",
       "      <td>1.000000</td>\n",
       "      <td>-0.215757</td>\n",
       "    </tr>\n",
       "    <tr>\n",
       "      <th>apache_post_operative</th>\n",
       "      <td>-0.215757</td>\n",
       "      <td>1.000000</td>\n",
       "    </tr>\n",
       "  </tbody>\n",
       "</table>\n",
       "</div>"
      ],
      "text/plain": [
       "                          apache_4a_icu_death_prob  apache_post_operative\n",
       "apache_4a_icu_death_prob                  1.000000              -0.215757\n",
       "apache_post_operative                    -0.215757               1.000000"
      ]
     },
     "execution_count": 37,
     "metadata": {},
     "output_type": "execute_result"
    }
   ],
   "source": [
    "training_df_cleaned[['apache_4a_icu_death_prob','icu_type','apache_2_bodysystem','apache_post_operative']].corr(method=\"spearman\")"
   ]
  },
  {
   "cell_type": "markdown",
   "metadata": {},
   "source": [
    "Since apache 4a hospital death probability correlates with icu death probability and icu death probability has higher correlation with hospital death than hospital death probability, we can just keep icu death probability."
   ]
  },
  {
   "cell_type": "markdown",
   "metadata": {
    "colab_type": "text",
    "id": "qkHSSlulaWxF"
   },
   "source": [
    "## Visualizing data"
   ]
  },
  {
   "cell_type": "markdown",
   "metadata": {
    "colab_type": "text",
    "id": "uydTFLqWorwp"
   },
   "source": [
    "In the training dataset, 8.63% died in the hospital and 91.3% of patients survived."
   ]
  },
  {
   "cell_type": "code",
   "execution_count": 0,
   "metadata": {
    "colab": {
     "base_uri": "https://localhost:8080/",
     "height": 51
    },
    "colab_type": "code",
    "id": "dLnHnSsl1fHp",
    "outputId": "2110c1aa-a001-41bb-8960-a7ef2926f3d8"
   },
   "outputs": [
    {
     "name": "stdout",
     "output_type": "stream",
     "text": [
      "(7915, 186)\n",
      "(83798, 186)\n"
     ]
    }
   ],
   "source": [
    "# separate training data by hospital death =1 and hospital death = 0 \n",
    "\n",
    "death_df = training_df_cleaned[training_df_cleaned['hospital_death'] == 1]\n",
    "survived_df = training_df_cleaned[training_df_cleaned['hospital_death'] == 0]\n",
    "print (death_df.shape)\n",
    "print (survived_df.shape)"
   ]
  },
  {
   "cell_type": "markdown",
   "metadata": {
    "colab_type": "text",
    "id": "ktbBhfaA5Nb2"
   },
   "source": [
    "### Understanding demographics of death and survived patients"
   ]
  },
  {
   "cell_type": "markdown",
   "metadata": {
    "colab_type": "text",
    "id": "VzVgbMo7NlYA"
   },
   "source": [
    "### Summary observations from demographic variables \n",
    "1. Patients aged above 60 have a higher risk of death\n",
    "2. Gender does not seem to have any significant effect on survivability.\n",
    "3. This dataset have more cases on Caucasian than other races, which relates the general population. But Hispanic has a highest ratio of deaths over survival.\n",
    "4. Risk of death is higher for BMI lower than 25\n",
    "5. Patients weighed from 80kg to 150kg seem to have a higher chance of survival.\n",
    "6. Patients who have total 5 or more days in the length of stay between hospital admission and unit admission have a higher risk of death. \n",
    "7. The highest number of survivals and deaths are on Medical Surgery ICU in this dataset. But highest ratio of death over survival is MICU followed by Cardiac ICU."
   ]
  },
  {
   "cell_type": "markdown",
   "metadata": {
    "colab_type": "text",
    "id": "gqHBzQS1656q"
   },
   "source": [
    "**Relationship between age and survivability**\n",
    "\n",
    "The histogram plot below shows that patients below 60 have a higher chance of survial as compared to patients above 60. This could be an important feature to survivability but we have to analyze other features to get a clearer picture."
   ]
  },
  {
   "cell_type": "code",
   "execution_count": 0,
   "metadata": {
    "colab": {
     "base_uri": "https://localhost:8080/",
     "height": 312
    },
    "colab_type": "code",
    "id": "qTC4Ahr4sv3n",
    "outputId": "a67c62e8-eaa7-46f8-a4eb-2616a5085619"
   },
   "outputs": [
    {
     "data": {
      "text/plain": [
       "<matplotlib.legend.Legend at 0x7f853bca4b70>"
      ]
     },
     "execution_count": 17,
     "metadata": {
      "tags": []
     },
     "output_type": "execute_result"
    },
    {
     "data": {
      "image/png": "[encoded data removed]",
      "text/plain": [
       "<Figure size 432x288 with 1 Axes>"
      ]
     },
     "metadata": {
      "tags": []
     },
     "output_type": "display_data"
    }
   ],
   "source": [
    "plt.hist([death_df['age'],survived_df['age']],bins=20,density=True,\n",
    "         label=['Died','Survived'],color=['red','blue'])\n",
    "plt.title(\"Life/death status and age\")\n",
    "plt.xlabel('age')\n",
    "plt.ylabel('prob density')\n",
    "plt.legend(loc='upper left')"
   ]
  },
  {
   "cell_type": "markdown",
   "metadata": {
    "colab_type": "text",
    "id": "06alnWnnAq1K"
   },
   "source": [
    "The relationship between age and hospital death could not be explained by correlation because hospital death is a binary variable and also there is a monotonic relationship for age below 60 and countermonotonic relationship for age above 60"
   ]
  },
  {
   "cell_type": "code",
   "execution_count": 0,
   "metadata": {
    "colab": {
     "base_uri": "https://localhost:8080/",
     "height": 111
    },
    "colab_type": "code",
    "id": "fJ6g8TB1ApZG",
    "outputId": "03a04f13-58a3-4b2b-8299-4df766398387"
   },
   "outputs": [
    {
     "data": {
      "text/html": [
       "<div>\n",
       "<style scoped>\n",
       "    .dataframe tbody tr th:only-of-type {\n",
       "        vertical-align: middle;\n",
       "    }\n",
       "\n",
       "    .dataframe tbody tr th {\n",
       "        vertical-align: top;\n",
       "    }\n",
       "\n",
       "    .dataframe thead th {\n",
       "        text-align: right;\n",
       "    }\n",
       "</style>\n",
       "<table border=\"1\" class=\"dataframe\">\n",
       "  <thead>\n",
       "    <tr style=\"text-align: right;\">\n",
       "      <th></th>\n",
       "      <th>age</th>\n",
       "      <th>hospital_death</th>\n",
       "    </tr>\n",
       "  </thead>\n",
       "  <tbody>\n",
       "    <tr>\n",
       "      <th>age</th>\n",
       "      <td>1.000000</td>\n",
       "      <td>0.113611</td>\n",
       "    </tr>\n",
       "    <tr>\n",
       "      <th>hospital_death</th>\n",
       "      <td>0.113611</td>\n",
       "      <td>1.000000</td>\n",
       "    </tr>\n",
       "  </tbody>\n",
       "</table>\n",
       "</div>"
      ],
      "text/plain": [
       "                     age  hospital_death\n",
       "age             1.000000        0.113611\n",
       "hospital_death  0.113611        1.000000"
      ]
     },
     "execution_count": 33,
     "metadata": {
      "tags": []
     },
     "output_type": "execute_result"
    }
   ],
   "source": [
    "training_df_cleaned[['age','hospital_death']].corr(method=\"spearman\").abs()"
   ]
  },
  {
   "cell_type": "markdown",
   "metadata": {
    "colab_type": "text",
    "id": "ketnrhO2C8vZ"
   },
   "source": [
    "**Relationship between Gender and survivability**"
   ]
  },
  {
   "cell_type": "markdown",
   "metadata": {
    "colab_type": "text",
    "id": "mIvZVEtrF2Rz"
   },
   "source": [
    "Gender does not seem to have any significant effect on survivability."
   ]
  },
  {
   "cell_type": "code",
   "execution_count": 0,
   "metadata": {
    "colab": {
     "base_uri": "https://localhost:8080/",
     "height": 329
    },
    "colab_type": "code",
    "id": "MTMMwBHVF2qb",
    "outputId": "a1533884-9d99-48c4-cd57-333f1e4cac59"
   },
   "outputs": [
    {
     "name": "stdout",
     "output_type": "stream",
     "text": [
      "Male ratio of death over alive: 0.09219967765438368\n",
      "Female ratio of death over alive: 0.09693930575763875\n"
     ]
    },
    {
     "data": {
      "image/png": "[encoded data removed]",
      "text/plain": [
       "<Figure size 432x288 with 1 Axes>"
      ]
     },
     "metadata": {
      "tags": []
     },
     "output_type": "display_data"
    }
   ],
   "source": [
    "ax=plt.axes()\n",
    "sns.countplot(x=\"gender\", hue=\"hospital_death\",data=training_df_cleaned,ax=ax)\n",
    "ax.set_title('Gender and Hospital Death')\n",
    "# 1 is death, 0 is alive\n",
    "survived_gender = survived_df['gender'].value_counts()\n",
    "death_gender = death_df['gender'].value_counts()\n",
    "print(\"Male ratio of death over alive: {}\".format(death_gender.M/float(survived_gender.M)))\n",
    "print(\"Female ratio of death over alive: {}\".format(death_gender.F/float(survived_gender.F)))"
   ]
  },
  {
   "cell_type": "markdown",
   "metadata": {
    "colab_type": "text",
    "id": "5cM3KO67O1hT"
   },
   "source": [
    "**Relationship between Ethnicity and survivability**\n"
   ]
  },
  {
   "cell_type": "markdown",
   "metadata": {
    "colab_type": "text",
    "id": "qw5AL6JkPXyA"
   },
   "source": [
    "This dataset have more cases on Caucasian than other races, which relates the general population. But Hispanic has a highest ratio of deaths over survival."
   ]
  },
  {
   "cell_type": "code",
   "execution_count": 0,
   "metadata": {
    "colab": {
     "base_uri": "https://localhost:8080/",
     "height": 136
    },
    "colab_type": "code",
    "id": "Ya3l7IlNQlWF",
    "outputId": "1ddd11a0-d8bb-4ef3-ec5f-976bffc65d34"
   },
   "outputs": [
    {
     "data": {
      "text/plain": [
       "African American    0.085256\n",
       "Asian               0.089768\n",
       "Caucasian           0.095604\n",
       "Hispanic            0.109942\n",
       "Native American     0.097493\n",
       "Other/Unknown       0.087789\n",
       "Name: ethnicity, dtype: float64"
      ]
     },
     "execution_count": 100,
     "metadata": {
      "tags": []
     },
     "output_type": "execute_result"
    }
   ],
   "source": [
    "ratio_deathoverlife = death_df['ethnicity'].value_counts()/survived_df['ethnicity'].value_counts()\n",
    "ratio_deathoverlife"
   ]
  },
  {
   "cell_type": "code",
   "execution_count": 0,
   "metadata": {
    "colab": {
     "base_uri": "https://localhost:8080/",
     "height": 367
    },
    "colab_type": "code",
    "id": "EGEXFNKjO8WZ",
    "outputId": "492da94d-98de-4d47-e620-2a08dd092d53"
   },
   "outputs": [
    {
     "data": {
      "text/plain": [
       "Text(0.5, 1.0, 'Ethnicity and Hospital Death')"
      ]
     },
     "execution_count": 28,
     "metadata": {
      "tags": []
     },
     "output_type": "execute_result"
    },
    {
     "data": {
      "image/png": "[encoded data removed]",
      "text/plain": [
       "<Figure size 720x360 with 1 Axes>"
      ]
     },
     "metadata": {
      "tags": []
     },
     "output_type": "display_data"
    }
   ],
   "source": [
    "plt.figure(figsize=(10,5))\n",
    "\n",
    "ax=plt.axes()\n",
    "sns.countplot(x=\"ethnicity\", hue=\"hospital_death\",data=training_df_cleaned,ax=ax)\n",
    "ax.set_title('Ethnicity and Hospital Death')\n",
    "# 1 is death, 0 is alive"
   ]
  },
  {
   "cell_type": "markdown",
   "metadata": {
    "colab_type": "text",
    "id": "e_KkdbAcCJ4g"
   },
   "source": [
    "**Relationship between BMI and survivability**"
   ]
  },
  {
   "cell_type": "markdown",
   "metadata": {
    "colab_type": "text",
    "id": "BrEFtsHJCm9A"
   },
   "source": [
    "Histogram plot below shows us that chances of death is higher for BMI lower than 25"
   ]
  },
  {
   "cell_type": "code",
   "execution_count": 0,
   "metadata": {
    "colab": {
     "base_uri": "https://localhost:8080/",
     "height": 312
    },
    "colab_type": "code",
    "id": "E16zCralBL5Z",
    "outputId": "aa09ef63-75ac-4aee-f55b-be697145cbc5"
   },
   "outputs": [
    {
     "data": {
      "text/plain": [
       "<matplotlib.legend.Legend at 0x7f8538a04b00>"
      ]
     },
     "execution_count": 37,
     "metadata": {
      "tags": []
     },
     "output_type": "execute_result"
    },
    {
     "data": {
      "image/png": "[encoded data removed]",
      "text/plain": [
       "<Figure size 432x288 with 1 Axes>"
      ]
     },
     "metadata": {
      "tags": []
     },
     "output_type": "display_data"
    }
   ],
   "source": [
    "plt.hist([death_df['bmi'],survived_df['bmi']],bins=10,density=True,\n",
    "         label=['Died','Survived'],color=['red','blue'])\n",
    "plt.title(\"Life/death status and BMI\")\n",
    "plt.xlabel('BMI')\n",
    "plt.ylabel('prob density')\n",
    "plt.legend(loc='upper right')"
   ]
  },
  {
   "cell_type": "markdown",
   "metadata": {
    "colab_type": "text",
    "id": "twNoY3bPI2vM"
   },
   "source": [
    "**Relationship between Weight and survivability**"
   ]
  },
  {
   "cell_type": "markdown",
   "metadata": {
    "colab_type": "text",
    "id": "zwnBw4ExI8UJ"
   },
   "source": [
    "Patients weighed from 80kg to 150kg seem to have a higher chance of survival as compared to other weight level. "
   ]
  },
  {
   "cell_type": "code",
   "execution_count": 0,
   "metadata": {
    "colab": {
     "base_uri": "https://localhost:8080/",
     "height": 312
    },
    "colab_type": "code",
    "id": "dJpvthHGH4ZW",
    "outputId": "160503bd-efb4-4ed2-c137-26c06fe0608c"
   },
   "outputs": [
    {
     "data": {
      "text/plain": [
       "<matplotlib.legend.Legend at 0x7f85367cd1d0>"
      ]
     },
     "execution_count": 61,
     "metadata": {
      "tags": []
     },
     "output_type": "execute_result"
    },
    {
     "data": {
      "image/png": "[encoded data removed]",
      "text/plain": [
       "<Figure size 432x288 with 1 Axes>"
      ]
     },
     "metadata": {
      "tags": []
     },
     "output_type": "display_data"
    }
   ],
   "source": [
    "plt.hist([death_df['weight'],survived_df['weight']],bins=20,density=True,\n",
    "         label=['Died','Survived'],color=['red','blue'])\n",
    "plt.title(\"Life/death status and Weight\")\n",
    "plt.xlabel('Weight')\n",
    "plt.ylabel('prob density')\n",
    "plt.legend(loc='upper right')"
   ]
  },
  {
   "cell_type": "markdown",
   "metadata": {
    "colab_type": "text",
    "id": "xqgl0tDjJnGX"
   },
   "source": [
    "**Relationship between pre-ICU admission days and survivability**"
   ]
  },
  {
   "cell_type": "markdown",
   "metadata": {
    "colab_type": "text",
    "id": "X98Eu7KIKHFX"
   },
   "source": [
    "Patients who have total 5 or more days in the length of stay between hospital admission and unit admission have a lesser chance of survival."
   ]
  },
  {
   "cell_type": "code",
   "execution_count": 0,
   "metadata": {
    "colab": {
     "base_uri": "https://localhost:8080/",
     "height": 313
    },
    "colab_type": "code",
    "id": "nr20Q6SvJmNX",
    "outputId": "ed1e8251-8325-4677-e817-b5c238d86ce6"
   },
   "outputs": [
    {
     "data": {
      "text/plain": [
       "<matplotlib.legend.Legend at 0x7f8536498198>"
      ]
     },
     "execution_count": 73,
     "metadata": {
      "tags": []
     },
     "output_type": "execute_result"
    },
    {
     "data": {
      "image/png": "[encoded data removed]",
      "text/plain": [
       "<Figure size 432x288 with 1 Axes>"
      ]
     },
     "metadata": {
      "tags": []
     },
     "output_type": "display_data"
    }
   ],
   "source": [
    "plt.hist([death_df['pre_icu_los_days'],survived_df['pre_icu_los_days']],bins=30,density=True,\n",
    "         label=['Died','Survived'],color=['red','blue'])\n",
    "plt.xlim((-5,25))\n",
    "plt.title(\"Life/death status and Pre-ICU lost days\")\n",
    "plt.xlabel('Pre_ICU days')\n",
    "plt.ylabel('prob density')\n",
    "plt.legend(loc='upper right')"
   ]
  },
  {
   "cell_type": "markdown",
   "metadata": {
    "colab_type": "text",
    "id": "0WHpHk9xLzGC"
   },
   "source": [
    "**Negative values in pre_icu_los_days seem to indicate that patients went straight to ICU admission without hospital admission?**"
   ]
  },
  {
   "cell_type": "code",
   "execution_count": 0,
   "metadata": {
    "colab": {
     "base_uri": "https://localhost:8080/",
     "height": 170
    },
    "colab_type": "code",
    "id": "TBYfNpt_LTaF",
    "outputId": "90090d9d-ded4-4aa9-f07f-ff5658e3600f"
   },
   "outputs": [
    {
     "data": {
      "text/plain": [
       "count    7915.000000\n",
       "mean        1.348633\n",
       "std         3.552734\n",
       "min       -13.773438\n",
       "25%         0.035431\n",
       "50%         0.139526\n",
       "75%         0.794922\n",
       "max        84.375000\n",
       "Name: pre_icu_los_days, dtype: float64"
      ]
     },
     "execution_count": 80,
     "metadata": {
      "tags": []
     },
     "output_type": "execute_result"
    }
   ],
   "source": [
    "death_df['pre_icu_los_days'].describe()"
   ]
  },
  {
   "cell_type": "code",
   "execution_count": 0,
   "metadata": {
    "colab": {
     "base_uri": "https://localhost:8080/",
     "height": 170
    },
    "colab_type": "code",
    "id": "MDjyZnL0LpCU",
    "outputId": "9e0bc04b-36ee-4312-eda0-e81c16c788ee"
   },
   "outputs": [
    {
     "data": {
      "text/plain": [
       "count    83798.000000\n",
       "mean              NaN\n",
       "std          0.000000\n",
       "min        -24.953125\n",
       "25%          0.035431\n",
       "50%          0.138916\n",
       "75%          0.397217\n",
       "max        159.125000\n",
       "Name: pre_icu_los_days, dtype: float64"
      ]
     },
     "execution_count": 81,
     "metadata": {
      "tags": []
     },
     "output_type": "execute_result"
    }
   ],
   "source": [
    "survived_df['pre_icu_los_days'].describe()"
   ]
  },
  {
   "cell_type": "markdown",
   "metadata": {
    "colab_type": "text",
    "id": "meTiLmptKj4c"
   },
   "source": [
    "**ICU type and survivability**"
   ]
  },
  {
   "cell_type": "markdown",
   "metadata": {
    "colab_type": "text",
    "id": "nR4OCFIbOhwJ"
   },
   "source": [
    "The highest number of survivals and deaths are on Medical Surgery ICU in this dataset. But highest ratio of death over survival is MICU followed by Cardiac ICU."
   ]
  },
  {
   "cell_type": "code",
   "execution_count": 0,
   "metadata": {
    "colab": {
     "base_uri": "https://localhost:8080/",
     "height": 170
    },
    "colab_type": "code",
    "id": "uFNMzSdTR160",
    "outputId": "334ab903-8c7d-4dc8-a813-a6c3f3c75d2b"
   },
   "outputs": [
    {
     "data": {
      "text/plain": [
       "CCU-CTICU       0.081947\n",
       "CSICU           0.058270\n",
       "CTICU           0.064062\n",
       "Cardiac ICU     0.115367\n",
       "MICU            0.137472\n",
       "Med-Surg ICU    0.095884\n",
       "Neuro ICU       0.090664\n",
       "SICU            0.080930\n",
       "Name: icu_type, dtype: float64"
      ]
     },
     "execution_count": 102,
     "metadata": {
      "tags": []
     },
     "output_type": "execute_result"
    }
   ],
   "source": [
    "ratio_ICUtype_deathoverlife = death_df['icu_type'].value_counts()/survived_df['icu_type'].value_counts()\n",
    "ratio_ICUtype_deathoverlife"
   ]
  },
  {
   "cell_type": "code",
   "execution_count": 0,
   "metadata": {
    "colab": {
     "base_uri": "https://localhost:8080/",
     "height": 368
    },
    "colab_type": "code",
    "id": "jL6Dq3ArKkJb",
    "outputId": "27e051c5-8c95-43f3-9019-3e59200d8d80"
   },
   "outputs": [
    {
     "data": {
      "text/plain": [
       "Text(0.5, 1.0, 'ICU type and Hospital Death')"
      ]
     },
     "execution_count": 29,
     "metadata": {
      "tags": []
     },
     "output_type": "execute_result"
    },
    {
     "data": {
      "image/png": "[encoded data removed]",
      "text/plain": [
       "<Figure size 720x360 with 1 Axes>"
      ]
     },
     "metadata": {
      "tags": []
     },
     "output_type": "display_data"
    }
   ],
   "source": [
    "plt.figure(figsize=(10,5))\n",
    "\n",
    "ax= plt.axes()\n",
    "sns.countplot(x=\"icu_type\", hue=\"hospital_death\",data=training_df_cleaned,\n",
    "              ax=ax)\n",
    "ax.set_title('ICU type and Hospital Death')\n",
    "# 1 is death, 0 is alive"
   ]
  },
  {
   "cell_type": "markdown",
   "metadata": {
    "colab_type": "text",
    "id": "joAshVMKX9uu"
   },
   "source": [
    "**Hospital admission source and hospital death**"
   ]
  },
  {
   "cell_type": "code",
   "execution_count": 0,
   "metadata": {
    "colab": {
     "base_uri": "https://localhost:8080/",
     "height": 449
    },
    "colab_type": "code",
    "id": "B7l0lE6CMb62",
    "outputId": "4a955d09-e7bf-4ea7-e6f3-ddb533709215"
   },
   "outputs": [
    {
     "data": {
      "text/plain": [
       "Text(0.5, 1.0, 'Hosp. admit source and Hospital Death')"
      ]
     },
     "execution_count": 44,
     "metadata": {
      "tags": []
     },
     "output_type": "execute_result"
    },
    {
     "data": {
      "image/png": "[encoded data removed]",
      "text/plain": [
       "<Figure size 720x360 with 1 Axes>"
      ]
     },
     "metadata": {
      "tags": []
     },
     "output_type": "display_data"
    }
   ],
   "source": [
    "plt.figure(figsize=(10,5))\n",
    "plt.xticks(rotation=45)\n",
    "\n",
    "ax= sns.countplot(x=\"hospital_admit_source\",hue=\"hospital_death\", \n",
    "                  data=training_df_cleaned)\n",
    "ax.set_title('Hosp. admit source and Hospital Death')\n",
    "# 1 is death, 0 is alive"
   ]
  },
  {
   "cell_type": "markdown",
   "metadata": {
    "colab_type": "text",
    "id": "36nlp22UBb5W"
   },
   "source": [
    "**ICU stay type and hospital death**"
   ]
  },
  {
   "cell_type": "markdown",
   "metadata": {
    "colab_type": "text",
    "id": "DZElhHthCLYZ"
   },
   "source": [
    "Readmission or transfer does not have much effect on survivability in ICU"
   ]
  },
  {
   "cell_type": "code",
   "execution_count": 0,
   "metadata": {
    "colab": {
     "base_uri": "https://localhost:8080/",
     "height": 386
    },
    "colab_type": "code",
    "id": "9DBEvuohBa_f",
    "outputId": "f44c8f34-7783-4011-ab3c-528cd02736f6"
   },
   "outputs": [
    {
     "data": {
      "text/plain": [
       "Text(0.5, 1.0, 'ICU stay type and Hospital Death')"
      ]
     },
     "execution_count": 14,
     "metadata": {
      "tags": []
     },
     "output_type": "execute_result"
    },
    {
     "data": {
      "image/png": "[encoded data removed]",
      "text/plain": [
       "<Figure size 720x360 with 1 Axes>"
      ]
     },
     "metadata": {
      "tags": []
     },
     "output_type": "display_data"
    }
   ],
   "source": [
    "plt.figure(figsize=(10,5))\n",
    "plt.xticks(rotation=30)\n",
    "\n",
    "ax= sns.countplot(x=\"icu_stay_type\",hue=\"hospital_death\", \n",
    "                  data=training_df_cleaned)\n",
    "ax.set_title('ICU stay type and Hospital Death')\n",
    "# 1 is death, 0 is alive"
   ]
  },
  {
   "cell_type": "markdown",
   "metadata": {},
   "source": [
    "# Pre-processing data"
   ]
  },
  {
   "cell_type": "markdown",
   "metadata": {
    "colab": {},
    "colab_type": "code",
    "id": "_dnKdWhzHE0l"
   },
   "source": [
    "## Removing columns with >70% missing values for train and test"
   ]
  },
  {
   "cell_type": "markdown",
   "metadata": {},
   "source": [
    "We can remove lab and vital variables with more than 70% missing values, which are not meaningful for model training"
   ]
  },
  {
   "cell_type": "code",
   "execution_count": 34,
   "metadata": {
    "scrolled": true
   },
   "outputs": [
    {
     "data": {
      "text/plain": [
       "array(['h1_bilirubin_min', 'h1_bilirubin_max', 'h1_lactate_max',\n",
       "       'h1_lactate_min', 'h1_albumin_max', 'h1_albumin_min',\n",
       "       'h1_pao2fio2ratio_min', 'h1_pao2fio2ratio_max',\n",
       "       'h1_arterial_ph_max', 'h1_arterial_ph_min', 'h1_hco3_max',\n",
       "       'h1_hco3_min', 'h1_arterial_pco2_min', 'h1_arterial_pco2_max',\n",
       "       'h1_wbc_max', 'h1_wbc_min', 'h1_arterial_po2_max',\n",
       "       'h1_arterial_po2_min', 'h1_calcium_max', 'h1_calcium_min',\n",
       "       'h1_platelets_max', 'h1_platelets_min', 'h1_bun_max', 'h1_bun_min',\n",
       "       'h1_creatinine_max', 'h1_creatinine_min', 'h1_diasbp_invasive_min',\n",
       "       'h1_diasbp_invasive_max', 'h1_sysbp_invasive_max',\n",
       "       'h1_sysbp_invasive_min', 'h1_mbp_invasive_min',\n",
       "       'h1_mbp_invasive_max', 'h1_hematocrit_max', 'h1_hematocrit_min',\n",
       "       'h1_hemaglobin_min', 'h1_hemaglobin_max', 'h1_sodium_min',\n",
       "       'h1_sodium_max', 'h1_potassium_max', 'h1_potassium_min',\n",
       "       'pao2_apache', 'ph_apache', 'paco2_for_ph_apache', 'paco2_apache',\n",
       "       'fio2_apache', 'd1_lactate_max', 'd1_lactate_min',\n",
       "       'd1_diasbp_invasive_min', 'd1_diasbp_invasive_max',\n",
       "       'd1_sysbp_invasive_min', 'd1_sysbp_invasive_max',\n",
       "       'd1_mbp_invasive_max', 'd1_mbp_invasive_min',\n",
       "       'd1_pao2fio2ratio_min', 'd1_pao2fio2ratio_max'], dtype=object)"
      ]
     },
     "execution_count": 34,
     "metadata": {},
     "output_type": "execute_result"
    }
   ],
   "source": [
    "eigthypercmissing = cal_missing_val(training_df_cleaned).sort_values(by=['MissingValue'],ascending=False)\n",
    "colstoberemoved = eigthypercmissing [eigthypercmissing ['MissingValue'] > 70].index.values\n",
    "colstoberemoved"
   ]
  },
  {
   "cell_type": "markdown",
   "metadata": {},
   "source": [
    "When we check with test dataset, the same variables have more than 70% missing values"
   ]
  },
  {
   "cell_type": "code",
   "execution_count": 16,
   "metadata": {
    "scrolled": true
   },
   "outputs": [
    {
     "data": {
      "text/plain": [
       "array(['hospital_death', 'h1_bilirubin_min', 'h1_bilirubin_max',\n",
       "       'h1_albumin_min', 'h1_albumin_max', 'h1_lactate_max',\n",
       "       'h1_lactate_min', 'h1_pao2fio2ratio_max', 'h1_pao2fio2ratio_min',\n",
       "       'h1_arterial_pco2_max', 'h1_arterial_pco2_min',\n",
       "       'h1_arterial_po2_max', 'h1_arterial_po2_min', 'h1_arterial_ph_min',\n",
       "       'h1_arterial_ph_max', 'h1_hco3_max', 'h1_hco3_min',\n",
       "       'h1_platelets_max', 'h1_platelets_min', 'h1_calcium_min',\n",
       "       'h1_calcium_max', 'h1_wbc_max', 'h1_wbc_min',\n",
       "       'h1_mbp_invasive_max', 'h1_mbp_invasive_min',\n",
       "       'h1_diasbp_invasive_min', 'h1_diasbp_invasive_max', 'h1_bun_min',\n",
       "       'h1_bun_max', 'h1_sysbp_invasive_max', 'h1_sysbp_invasive_min',\n",
       "       'h1_creatinine_min', 'h1_creatinine_max', 'h1_hemaglobin_max',\n",
       "       'h1_hemaglobin_min', 'h1_hematocrit_min', 'h1_hematocrit_max',\n",
       "       'h1_sodium_max', 'h1_sodium_min', 'paco2_for_ph_apache',\n",
       "       'ph_apache', 'pao2_apache', 'paco2_apache', 'fio2_apache',\n",
       "       'h1_potassium_min', 'h1_potassium_max', 'd1_pao2fio2ratio_max',\n",
       "       'd1_pao2fio2ratio_min', 'd1_lactate_min', 'd1_lactate_max',\n",
       "       'd1_mbp_invasive_min', 'd1_mbp_invasive_max',\n",
       "       'd1_diasbp_invasive_max', 'd1_diasbp_invasive_min',\n",
       "       'd1_sysbp_invasive_min', 'd1_sysbp_invasive_max'], dtype=object)"
      ]
     },
     "execution_count": 16,
     "metadata": {},
     "output_type": "execute_result"
    }
   ],
   "source": [
    "eigthypercmissing_test = cal_missing_val(test_df).sort_values(by=['MissingValue'],ascending=False)\n",
    "colstoberemoved_test = eigthypercmissing_test[eigthypercmissing_test['MissingValue'] > 70].index.values\n",
    "colstoberemoved_test"
   ]
  },
  {
   "cell_type": "markdown",
   "metadata": {},
   "source": [
    "So, we can remove the above columns for both train and test\n",
    "\n",
    "* total train and test columns 186\n",
    "* columns to be removed due to more than 70% missing values = 55\n",
    "* remainining number of columns = 131"
   ]
  },
  {
   "cell_type": "markdown",
   "metadata": {},
   "source": [
    "#### Remove high missing value columns in train"
   ]
  },
  {
   "cell_type": "code",
   "execution_count": 17,
   "metadata": {},
   "outputs": [
    {
     "data": {
      "text/html": [
       "<div>\n",
       "<style scoped>\n",
       "    .dataframe tbody tr th:only-of-type {\n",
       "        vertical-align: middle;\n",
       "    }\n",
       "\n",
       "    .dataframe tbody tr th {\n",
       "        vertical-align: top;\n",
       "    }\n",
       "\n",
       "    .dataframe thead th {\n",
       "        text-align: right;\n",
       "    }\n",
       "</style>\n",
       "<table border=\"1\" class=\"dataframe\">\n",
       "  <thead>\n",
       "    <tr style=\"text-align: right;\">\n",
       "      <th></th>\n",
       "      <th>MissingValue</th>\n",
       "    </tr>\n",
       "  </thead>\n",
       "  <tbody>\n",
       "    <tr>\n",
       "      <th>d1_arterial_ph_min</th>\n",
       "      <td>65.555592</td>\n",
       "    </tr>\n",
       "    <tr>\n",
       "      <th>d1_arterial_ph_max</th>\n",
       "      <td>65.555592</td>\n",
       "    </tr>\n",
       "    <tr>\n",
       "      <th>d1_arterial_pco2_max</th>\n",
       "      <td>64.626607</td>\n",
       "    </tr>\n",
       "    <tr>\n",
       "      <th>d1_arterial_pco2_min</th>\n",
       "      <td>64.626607</td>\n",
       "    </tr>\n",
       "    <tr>\n",
       "      <th>d1_arterial_po2_min</th>\n",
       "      <td>64.616794</td>\n",
       "    </tr>\n",
       "    <tr>\n",
       "      <th>...</th>\n",
       "      <td>...</td>\n",
       "    </tr>\n",
       "    <tr>\n",
       "      <th>icu_type</th>\n",
       "      <td>0.000000</td>\n",
       "    </tr>\n",
       "    <tr>\n",
       "      <th>pre_icu_los_days</th>\n",
       "      <td>0.000000</td>\n",
       "    </tr>\n",
       "    <tr>\n",
       "      <th>readmission_status</th>\n",
       "      <td>0.000000</td>\n",
       "    </tr>\n",
       "    <tr>\n",
       "      <th>apache_post_operative</th>\n",
       "      <td>0.000000</td>\n",
       "    </tr>\n",
       "    <tr>\n",
       "      <th>encounter_id</th>\n",
       "      <td>0.000000</td>\n",
       "    </tr>\n",
       "  </tbody>\n",
       "</table>\n",
       "<p>131 rows × 1 columns</p>\n",
       "</div>"
      ],
      "text/plain": [
       "                       MissingValue\n",
       "d1_arterial_ph_min        65.555592\n",
       "d1_arterial_ph_max        65.555592\n",
       "d1_arterial_pco2_max      64.626607\n",
       "d1_arterial_pco2_min      64.626607\n",
       "d1_arterial_po2_min       64.616794\n",
       "...                             ...\n",
       "icu_type                   0.000000\n",
       "pre_icu_los_days           0.000000\n",
       "readmission_status         0.000000\n",
       "apache_post_operative      0.000000\n",
       "encounter_id               0.000000\n",
       "\n",
       "[131 rows x 1 columns]"
      ]
     },
     "execution_count": 17,
     "metadata": {},
     "output_type": "execute_result"
    }
   ],
   "source": [
    "training_df_cleaned2 = training_df_cleaned.drop(colstoberemoved, axis=1)\n",
    "cal_missing_val(training_df_cleaned2).sort_values(by=['MissingValue'],ascending=False)"
   ]
  },
  {
   "cell_type": "markdown",
   "metadata": {},
   "source": [
    "#### Remove high missing value columns in test"
   ]
  },
  {
   "cell_type": "code",
   "execution_count": 18,
   "metadata": {},
   "outputs": [
    {
     "data": {
      "text/html": [
       "<div>\n",
       "<style scoped>\n",
       "    .dataframe tbody tr th:only-of-type {\n",
       "        vertical-align: middle;\n",
       "    }\n",
       "\n",
       "    .dataframe tbody tr th {\n",
       "        vertical-align: top;\n",
       "    }\n",
       "\n",
       "    .dataframe thead th {\n",
       "        text-align: right;\n",
       "    }\n",
       "</style>\n",
       "<table border=\"1\" class=\"dataframe\">\n",
       "  <thead>\n",
       "    <tr style=\"text-align: right;\">\n",
       "      <th></th>\n",
       "      <th>MissingValue</th>\n",
       "    </tr>\n",
       "  </thead>\n",
       "  <tbody>\n",
       "    <tr>\n",
       "      <th>hospital_death</th>\n",
       "      <td>100.000000</td>\n",
       "    </tr>\n",
       "    <tr>\n",
       "      <th>d1_arterial_pco2_max</th>\n",
       "      <td>65.571894</td>\n",
       "    </tr>\n",
       "    <tr>\n",
       "      <th>d1_arterial_pco2_min</th>\n",
       "      <td>65.571894</td>\n",
       "    </tr>\n",
       "    <tr>\n",
       "      <th>d1_arterial_po2_max</th>\n",
       "      <td>64.447441</td>\n",
       "    </tr>\n",
       "    <tr>\n",
       "      <th>d1_arterial_po2_min</th>\n",
       "      <td>64.447441</td>\n",
       "    </tr>\n",
       "    <tr>\n",
       "      <th>...</th>\n",
       "      <td>...</td>\n",
       "    </tr>\n",
       "    <tr>\n",
       "      <th>icu_type</th>\n",
       "      <td>0.000000</td>\n",
       "    </tr>\n",
       "    <tr>\n",
       "      <th>pre_icu_los_days</th>\n",
       "      <td>0.000000</td>\n",
       "    </tr>\n",
       "    <tr>\n",
       "      <th>readmission_status</th>\n",
       "      <td>0.000000</td>\n",
       "    </tr>\n",
       "    <tr>\n",
       "      <th>apache_post_operative</th>\n",
       "      <td>0.000000</td>\n",
       "    </tr>\n",
       "    <tr>\n",
       "      <th>encounter_id</th>\n",
       "      <td>0.000000</td>\n",
       "    </tr>\n",
       "  </tbody>\n",
       "</table>\n",
       "<p>131 rows × 1 columns</p>\n",
       "</div>"
      ],
      "text/plain": [
       "                       MissingValue\n",
       "hospital_death           100.000000\n",
       "d1_arterial_pco2_max      65.571894\n",
       "d1_arterial_pco2_min      65.571894\n",
       "d1_arterial_po2_max       64.447441\n",
       "d1_arterial_po2_min       64.447441\n",
       "...                             ...\n",
       "icu_type                   0.000000\n",
       "pre_icu_los_days           0.000000\n",
       "readmission_status         0.000000\n",
       "apache_post_operative      0.000000\n",
       "encounter_id               0.000000\n",
       "\n",
       "[131 rows x 1 columns]"
      ]
     },
     "execution_count": 18,
     "metadata": {},
     "output_type": "execute_result"
    }
   ],
   "source": [
    "test_df_cleaned = test_df.drop(colstoberemoved, axis=1)\n",
    "cal_missing_val(test_df_cleaned).sort_values(by=['MissingValue'],ascending=False)"
   ]
  },
  {
   "cell_type": "markdown",
   "metadata": {},
   "source": [
    "## Regrouping categorical variables"
   ]
  },
  {
   "cell_type": "markdown",
   "metadata": {},
   "source": [
    "#### Combine train and test dataset for the above purpose"
   ]
  },
  {
   "cell_type": "code",
   "execution_count": 19,
   "metadata": {},
   "outputs": [
    {
     "name": "stdout",
     "output_type": "stream",
     "text": [
      "length of train set: 91713\n",
      "length of test set: 39308\n",
      "shape of combined train and test set: (131021, 131)\n",
      "list of categorical columns: Index(['ethnicity', 'gender', 'hospital_admit_source', 'icu_admit_source',\n",
      "       'icu_stay_type', 'icu_type', 'apache_3j_bodysystem',\n",
      "       'apache_2_bodysystem'],\n",
      "      dtype='object')\n"
     ]
    }
   ],
   "source": [
    "# get length of train and test set\n",
    "train_length = len(training_df_cleaned2)\n",
    "test_length = len(test_df_cleaned)\n",
    "print('length of train set:',train_length)\n",
    "print('length of test set:',test_length)\n",
    "\n",
    "# combine train and test to get all the categorical levels for the concerned columns\n",
    "combined_df = pd.concat([training_df_cleaned2, test_df_cleaned], axis=0)\n",
    "print('shape of combined train and test set:',combined_df.shape)\n",
    "\n",
    "# filter categorical columns\n",
    "categoricalcol = combined_df.select_dtypes(include=['object','category'])\n",
    "print('list of categorical columns:',categoricalcol.columns)"
   ]
  },
  {
   "cell_type": "code",
   "execution_count": 20,
   "metadata": {},
   "outputs": [
    {
     "name": "stdout",
     "output_type": "stream",
     "text": [
      "Unique values for  ethnicity\n",
      "['Caucasian', nan, 'Hispanic', 'African American', 'Asian', 'Native American', 'Other/Unknown']\n",
      "Unique values for  gender\n",
      "['M', 'F', nan]\n",
      "Unique values for  hospital_admit_source\n",
      "['Floor', 'Emergency Department', 'Operating Room', nan, 'Direct Admit', 'Other Hospital', 'Other ICU', 'ICU to SDU', 'Recovery Room', 'Chest Pain Center', 'Step-Down Unit (SDU)', 'Acute Care/Floor', 'PACU', 'Observation', 'ICU', 'Other']\n",
      "Unique values for  icu_admit_source\n",
      "['Floor', 'Accident & Emergency', 'Operating Room / Recovery', 'Other Hospital', 'Other ICU', nan]\n",
      "Unique values for  icu_stay_type\n",
      "['admit', 'readmit', 'transfer']\n",
      "Unique values for  icu_type\n",
      "['CTICU', 'Med-Surg ICU', 'CCU-CTICU', 'Neuro ICU', 'MICU', 'SICU', 'Cardiac ICU', 'CSICU']\n",
      "Unique values for  apache_3j_bodysystem\n",
      "['Sepsis', 'Respiratory', 'Metabolic', 'Cardiovascular', 'Trauma', 'Neurological', 'Gastrointestinal', 'Genitourinary', nan, 'Hematological', 'Musculoskeletal/Skin', 'Gynecological']\n",
      "Unique values for  apache_2_bodysystem\n",
      "['Cardiovascular', 'Respiratory', 'Metabolic', 'Trauma', 'Neurologic', 'Gastrointestinal', 'Renal/Genitourinary', nan, 'Undefined diagnoses', 'Haematologic', 'Undefined Diagnoses']\n"
     ]
    }
   ],
   "source": [
    "# Checking unique values for each categorical columns\n",
    "for i in categoricalcol.columns:\n",
    "    n = list(categoricalcol[i].unique())\n",
    "    print(\"Unique values for \", i)\n",
    "    print(n)"
   ]
  },
  {
   "cell_type": "markdown",
   "metadata": {},
   "source": [
    "**Observations**:\n",
    "1. There are NA values for gender, ICU_admit_source, Apache 3J body system and Apache 2 body system.\n",
    "\n",
    "2. For hospital admit source, the visualization show us that \"Other ICU\", \"Observation\", \"ICU\", and \"Other\" have less values. So, we can combine Other ICU with ICU and ICU to SDU with SDU and Other with Other hospital. Observation can be combined with Recovery Room. \n",
    "\n",
    "3. For ICU type, seems like CTICU, CCU-CTICU, CSICU, and Cardiac ICU admit patients mainly related to Cardiovascular diagnosis.\n",
    "\n",
    "4. In Apache 2 body system, there are two levels with same name: Undefined diagnoses.But apache 3j-body system provides more granular sub-diagnosis for the ICU admission. So, apache_3j_bodysystem is a more informative variable than apache_2_bodysystem.\n",
    "\n",
    "**Next steps**:\n",
    "\n",
    "1. To change NA to unknown\n",
    "\n",
    "2. Combine \"Other ICU\" with \"ICU\", \"ICU to SDU\" to \"SDU\", and \"Other\" to \"Other hospital\".\n",
    "\n",
    "3. Group CTICU, CCU-CTICU, CSICU, CardiacICU to Cardiacgroup_ICU\n",
    "\n",
    "4. Remove apache_3J_bodysystem \n"
   ]
  },
  {
   "cell_type": "code",
   "execution_count": 21,
   "metadata": {},
   "outputs": [
    {
     "name": "stdout",
     "output_type": "stream",
     "text": [
      "(131021, 130)\n"
     ]
    }
   ],
   "source": [
    "combined_df['ethnicity']= combined_df['ethnicity'].replace(np.nan,'Other/Unknown')\n",
    "\n",
    "combined_df['gender']= combined_df['gender'].replace(np.nan,'Unknown')\n",
    "\n",
    "combined_df['hospital_admit_source'] = combined_df['hospital_admit_source'].replace({'Other ICU': 'ICU','ICU to SDU':'SDU', 'Step-Down Unit (SDU)': 'SDU',\n",
    "         'Other Hospital':'Other','Observation': 'Recovery Room'})\n",
    "\n",
    "combined_df['hospital_admit_source'] = combined_df['hospital_admit_source'].replace(np.nan,'Unknown')\n",
    "\n",
    "combined_df['icu_stay_type']= combined_df['icu_stay_type'].replace(np.nan,'Unknown')\n",
    "\n",
    "combined_df['icu_admit_source']= combined_df['icu_admit_source'].replace(np.nan,'Unknown')\n",
    "\n",
    "combined_df['icu_type'] = combined_df['icu_type'].replace({'CCU-CTICU': 'Cardiacgroup_ICU', \n",
    "                                                           'CTICU':'Cardiacgroup_ICU', \n",
    "                                                           'Cardiac ICU':'Cardiacgroup_ICU', \n",
    "                                                           'CSICU':'Cardiacgroup_ICU'})\n",
    "\n",
    "combined_df['apache_3j_bodysystem']= combined_df['apache_3j_bodysystem'].replace(np.nan,'Unknown')\n",
    "\n",
    "combined_df = combined_df.drop('apache_2_bodysystem', axis=1)\n",
    "print(combined_df.shape)"
   ]
  },
  {
   "cell_type": "code",
   "execution_count": 22,
   "metadata": {},
   "outputs": [
    {
     "name": "stdout",
     "output_type": "stream",
     "text": [
      "Unique values for  ethnicity\n",
      "['Caucasian', 'Other/Unknown', 'Hispanic', 'African American', 'Asian', 'Native American']\n",
      "Unique values for  gender\n",
      "['M', 'F', 'Unknown']\n",
      "Unique values for  hospital_admit_source\n",
      "['Floor', 'Emergency Department', 'Operating Room', 'Unknown', 'Direct Admit', 'Other', 'ICU', 'SDU', 'Recovery Room', 'Chest Pain Center', 'Acute Care/Floor', 'PACU']\n",
      "Unique values for  icu_admit_source\n",
      "['Floor', 'Accident & Emergency', 'Operating Room / Recovery', 'Other Hospital', 'Other ICU', 'Unknown']\n",
      "Unique values for  icu_stay_type\n",
      "['admit', 'readmit', 'transfer']\n",
      "Unique values for  icu_type\n",
      "['Cardiacgroup_ICU', 'Med-Surg ICU', 'Neuro ICU', 'MICU', 'SICU']\n",
      "Unique values for  apache_3j_bodysystem\n",
      "['Sepsis', 'Respiratory', 'Metabolic', 'Cardiovascular', 'Trauma', 'Neurological', 'Gastrointestinal', 'Genitourinary', 'Unknown', 'Hematological', 'Musculoskeletal/Skin', 'Gynecological']\n"
     ]
    }
   ],
   "source": [
    "# Checking unique values for each categorical columns\n",
    "categoricalcol2 = combined_df.select_dtypes(include=['object','category'])\n",
    "for i in categoricalcol2.columns:\n",
    "    n = list(categoricalcol2[i].unique())\n",
    "    print(\"Unique values for \", i)\n",
    "    print(n)"
   ]
  },
  {
   "cell_type": "markdown",
   "metadata": {},
   "source": [
    "## Drop columns with single value and all unique values"
   ]
  },
  {
   "cell_type": "markdown",
   "metadata": {},
   "source": [
    "Justification: Not useful for modelling and analysis"
   ]
  },
  {
   "cell_type": "code",
   "execution_count": 23,
   "metadata": {},
   "outputs": [
    {
     "name": "stdout",
     "output_type": "stream",
     "text": [
      "every row is unique value: encounter_id\n",
      "every row is unique value: patient_id\n",
      "only 1 unique value: readmission_status\n"
     ]
    }
   ],
   "source": [
    "for i in combined_df.columns:\n",
    "    if combined_df[i].nunique() == 1:\n",
    "        print('only 1 unique value:', i)\n",
    "    elif combined_df[i].nunique() == len(combined_df):\n",
    "        print('every row is unique value:', i)\n",
    "    else: pass"
   ]
  },
  {
   "cell_type": "code",
   "execution_count": 24,
   "metadata": {},
   "outputs": [
    {
     "data": {
      "text/plain": [
       "(131021, 127)"
      ]
     },
     "execution_count": 24,
     "metadata": {},
     "output_type": "execute_result"
    }
   ],
   "source": [
    "# we can drop the three columns above which are not used for prediction\n",
    "combined_df = combined_df.drop(['encounter_id','patient_id','readmission_status'], axis=1)\n",
    "combined_df.shape"
   ]
  },
  {
   "cell_type": "markdown",
   "metadata": {},
   "source": [
    "## Split dataset back from combined to train and test\n",
    "\n",
    "\n"
   ]
  },
  {
   "cell_type": "code",
   "execution_count": 25,
   "metadata": {},
   "outputs": [
    {
     "name": "stdout",
     "output_type": "stream",
     "text": [
      "(91713, 127)\n",
      "(39308, 127)\n"
     ]
    }
   ],
   "source": [
    "training_df_cleaned3 = combined_df[:train_length]\n",
    "test_df_cleaned2 = combined_df[train_length:]\n",
    "print(training_df_cleaned3.shape)\n",
    "print(test_df_cleaned2.shape)"
   ]
  },
  {
   "cell_type": "markdown",
   "metadata": {},
   "source": [
    "## Imputing missing values\n",
    "\n"
   ]
  },
  {
   "cell_type": "code",
   "execution_count": 5,
   "metadata": {},
   "outputs": [],
   "source": [
    "apachevariables2 = ['albumin_apache','apache_2_diagnosis','apache_3j_diagnosis',\n",
    "                  'apache_post_operative', 'arf_apache', 'bilirubin_apache','bun_apache',\n",
    "                   'creatinine_apache','gcs_eyes_apache','gcs_motor_apache',\n",
    "                   'gcs_unable_apache','gcs_verbal_apache','glucose_apache','heart_rate_apache',\n",
    "                   'hematocrit_apache','intubated_apache','map_apache','resprate_apache',\n",
    "                   'sodium_apache','temp_apache','urineoutput_apache','ventilated_apache',\n",
    "                   'wbc_apache','apache_4a_hospital_death_prob','apache_4a_icu_death_prob',\n",
    "                   'aids','cirrhosis','diabetes_mellitus','hepatic_failure','immunosuppression',\n",
    "                   'leukemia','lymphoma','solid_tumor_with_metastasis','apache_3j_bodysystem']"
   ]
  },
  {
   "cell_type": "code",
   "execution_count": 8,
   "metadata": {},
   "outputs": [],
   "source": [
    "# remove columns with zero missing values from apache variables:'apache_post_operative','apache_3j_bodysystem'\n",
    "apachevariables3 = ['albumin_apache','apache_2_diagnosis','apache_3j_diagnosis',\n",
    "                   'arf_apache', 'bilirubin_apache','bun_apache',\n",
    "                   'creatinine_apache','gcs_eyes_apache','gcs_motor_apache',\n",
    "                   'gcs_unable_apache','gcs_verbal_apache','glucose_apache','heart_rate_apache',\n",
    "                   'hematocrit_apache','intubated_apache','map_apache','resprate_apache',\n",
    "                   'sodium_apache','temp_apache','urineoutput_apache','ventilated_apache',\n",
    "                   'wbc_apache','apache_4a_hospital_death_prob','apache_4a_icu_death_prob',\n",
    "                   'aids','cirrhosis','diabetes_mellitus','hepatic_failure','immunosuppression',\n",
    "                   'leukemia','lymphoma','solid_tumor_with_metastasis','aids','cirrhosis',\n",
    "                   'diabetes_mellitus','hepatic_failure','immunosuppression','leukemia',\n",
    "                   'lymphoma','solid_tumor_with_metastasis']"
   ]
  },
  {
   "cell_type": "markdown",
   "metadata": {},
   "source": [
    "When arf_apache variable (i.e. when patient had renal failure during the 1st 24 hours of unit stay) is null, there seems to be missing values for the other apache variable columns for train and test set"
   ]
  },
  {
   "cell_type": "code",
   "execution_count": 26,
   "metadata": {},
   "outputs": [
    {
     "name": "stdout",
     "output_type": "stream",
     "text": [
      "total apache columns: 34\n",
      "shape of missing values train  (715, 40)\n",
      "shape of missing values test  (179, 40)\n"
     ]
    }
   ],
   "source": [
    "print('total apache columns:', \n",
    "      len(apachevariables2))\n",
    "print('shape of missing values train ',\n",
    "      training_df_cleaned3[training_df_cleaned3['arf_apache'].isna()==True][apachevariables3].shape)\n",
    "print('shape of missing values test ', \n",
    "      test_df_cleaned2[test_df_cleaned2['arf_apache'].isna()==True][apachevariables3].shape)"
   ]
  },
  {
   "cell_type": "markdown",
   "metadata": {},
   "source": [
    "## Fill the missing apache variables with -1 for arf_apache = NA"
   ]
  },
  {
   "cell_type": "code",
   "execution_count": 27,
   "metadata": {},
   "outputs": [],
   "source": [
    "training_df_cleaned3.loc[(training_df_cleaned3['arf_apache'].isna()==True), apachevariables3] = -1\n",
    "\n",
    "test_df_cleaned2.loc[(test_df_cleaned2['arf_apache'].isna()==True),apachevariables3] = -1"
   ]
  },
  {
   "cell_type": "markdown",
   "metadata": {},
   "source": [
    "**Download and read file for analysis after break**"
   ]
  },
  {
   "cell_type": "code",
   "execution_count": 12,
   "metadata": {},
   "outputs": [],
   "source": [
    "# training_df_cleaned3.to_csv('train3.csv')\n",
    "# test_df_cleaned2.to_csv('test2.csv')\n",
    "\n",
    "# training_df_cleaned3 = pd.read_csv(datapath+'/train3.csv')\n",
    "# test_df_cleaned2 = pd.read_csv(datapath+'/test2.csv')"
   ]
  },
  {
   "cell_type": "code",
   "execution_count": 13,
   "metadata": {},
   "outputs": [
    {
     "name": "stdout",
     "output_type": "stream",
     "text": [
      "Mem. usage decreased to 24.67 Mb (72.2% reduction)\n",
      "Mem. usage decreased to 10.83 Mb (71.6% reduction)\n"
     ]
    },
    {
     "data": {
      "text/plain": [
       "10.833873748779297"
      ]
     },
     "execution_count": 13,
     "metadata": {},
     "output_type": "execute_result"
    }
   ],
   "source": [
    "reduce_memory(training_df_cleaned3)\n",
    "reduce_memory(test_df_cleaned2)"
   ]
  },
  {
   "cell_type": "markdown",
   "metadata": {},
   "source": [
    "## Impute missing values using the column mean grouped by apache 3j bodysystem diagnosis"
   ]
  },
  {
   "cell_type": "markdown",
   "metadata": {},
   "source": [
    "Compare the distribution of lab vital variables for train and test"
   ]
  },
  {
   "cell_type": "code",
   "execution_count": 26,
   "metadata": {},
   "outputs": [
    {
     "data": {
      "text/html": [
       "<div>\n",
       "<style scoped>\n",
       "    .dataframe tbody tr th:only-of-type {\n",
       "        vertical-align: middle;\n",
       "    }\n",
       "\n",
       "    .dataframe tbody tr th {\n",
       "        vertical-align: top;\n",
       "    }\n",
       "\n",
       "    .dataframe thead th {\n",
       "        text-align: right;\n",
       "    }\n",
       "</style>\n",
       "<table border=\"1\" class=\"dataframe\">\n",
       "  <thead>\n",
       "    <tr style=\"text-align: right;\">\n",
       "      <th></th>\n",
       "      <th>d1_bun_max</th>\n",
       "      <th>d1_bun_min</th>\n",
       "      <th>d1_calcium_max</th>\n",
       "      <th>d1_calcium_min</th>\n",
       "      <th>d1_creatinine_max</th>\n",
       "      <th>d1_creatinine_min</th>\n",
       "      <th>d1_diasbp_max</th>\n",
       "      <th>d1_diasbp_min</th>\n",
       "      <th>d1_diasbp_noninvasive_max</th>\n",
       "      <th>d1_diasbp_noninvasive_min</th>\n",
       "      <th>...</th>\n",
       "      <th>h1_resprate_max</th>\n",
       "      <th>h1_resprate_min</th>\n",
       "      <th>h1_spo2_max</th>\n",
       "      <th>h1_spo2_min</th>\n",
       "      <th>h1_sysbp_max</th>\n",
       "      <th>h1_sysbp_min</th>\n",
       "      <th>h1_sysbp_noninvasive_max</th>\n",
       "      <th>h1_sysbp_noninvasive_min</th>\n",
       "      <th>h1_temp_max</th>\n",
       "      <th>h1_temp_min</th>\n",
       "    </tr>\n",
       "    <tr>\n",
       "      <th>apache_3j_bodysystem</th>\n",
       "      <th></th>\n",
       "      <th></th>\n",
       "      <th></th>\n",
       "      <th></th>\n",
       "      <th></th>\n",
       "      <th></th>\n",
       "      <th></th>\n",
       "      <th></th>\n",
       "      <th></th>\n",
       "      <th></th>\n",
       "      <th></th>\n",
       "      <th></th>\n",
       "      <th></th>\n",
       "      <th></th>\n",
       "      <th></th>\n",
       "      <th></th>\n",
       "      <th></th>\n",
       "      <th></th>\n",
       "      <th></th>\n",
       "      <th></th>\n",
       "      <th></th>\n",
       "    </tr>\n",
       "  </thead>\n",
       "  <tbody>\n",
       "    <tr>\n",
       "      <th>Cardiovascular</th>\n",
       "      <td>24.359375</td>\n",
       "      <td>22.718750</td>\n",
       "      <td>8.515625</td>\n",
       "      <td>8.304688</td>\n",
       "      <td>1.478516</td>\n",
       "      <td>1.370117</td>\n",
       "      <td>86.6875</td>\n",
       "      <td>50.46875</td>\n",
       "      <td>87.0000</td>\n",
       "      <td>50.71875</td>\n",
       "      <td>...</td>\n",
       "      <td>21.656250</td>\n",
       "      <td>16.171875</td>\n",
       "      <td>98.1250</td>\n",
       "      <td>95.1875</td>\n",
       "      <td>134.000</td>\n",
       "      <td>116.6250</td>\n",
       "      <td>133.750</td>\n",
       "      <td>117.4375</td>\n",
       "      <td>36.53125</td>\n",
       "      <td>36.40625</td>\n",
       "    </tr>\n",
       "    <tr>\n",
       "      <th>Gastrointestinal</th>\n",
       "      <td>28.828125</td>\n",
       "      <td>26.890625</td>\n",
       "      <td>8.007812</td>\n",
       "      <td>7.816406</td>\n",
       "      <td>1.426758</td>\n",
       "      <td>1.323242</td>\n",
       "      <td>86.1875</td>\n",
       "      <td>48.65625</td>\n",
       "      <td>86.2500</td>\n",
       "      <td>48.68750</td>\n",
       "      <td>...</td>\n",
       "      <td>22.078125</td>\n",
       "      <td>16.593750</td>\n",
       "      <td>98.3125</td>\n",
       "      <td>95.5000</td>\n",
       "      <td>131.125</td>\n",
       "      <td>114.8750</td>\n",
       "      <td>130.750</td>\n",
       "      <td>114.6875</td>\n",
       "      <td>36.75000</td>\n",
       "      <td>36.62500</td>\n",
       "    </tr>\n",
       "    <tr>\n",
       "      <th>Genitourinary</th>\n",
       "      <td>51.843750</td>\n",
       "      <td>45.906250</td>\n",
       "      <td>8.210938</td>\n",
       "      <td>7.906250</td>\n",
       "      <td>3.740234</td>\n",
       "      <td>3.183594</td>\n",
       "      <td>88.4375</td>\n",
       "      <td>48.81250</td>\n",
       "      <td>88.5000</td>\n",
       "      <td>48.84375</td>\n",
       "      <td>...</td>\n",
       "      <td>22.500000</td>\n",
       "      <td>17.312500</td>\n",
       "      <td>97.9375</td>\n",
       "      <td>95.1250</td>\n",
       "      <td>130.625</td>\n",
       "      <td>114.7500</td>\n",
       "      <td>130.500</td>\n",
       "      <td>114.6250</td>\n",
       "      <td>36.71875</td>\n",
       "      <td>36.65625</td>\n",
       "    </tr>\n",
       "    <tr>\n",
       "      <th>Gynecological</th>\n",
       "      <td>13.367188</td>\n",
       "      <td>12.093750</td>\n",
       "      <td>7.886719</td>\n",
       "      <td>7.609375</td>\n",
       "      <td>0.998047</td>\n",
       "      <td>0.910645</td>\n",
       "      <td>87.6875</td>\n",
       "      <td>53.56250</td>\n",
       "      <td>87.7500</td>\n",
       "      <td>53.50000</td>\n",
       "      <td>...</td>\n",
       "      <td>20.171875</td>\n",
       "      <td>15.226562</td>\n",
       "      <td>98.9375</td>\n",
       "      <td>96.7500</td>\n",
       "      <td>134.875</td>\n",
       "      <td>119.8750</td>\n",
       "      <td>135.125</td>\n",
       "      <td>120.1875</td>\n",
       "      <td>36.59375</td>\n",
       "      <td>36.46875</td>\n",
       "    </tr>\n",
       "    <tr>\n",
       "      <th>Hematological</th>\n",
       "      <td>32.781250</td>\n",
       "      <td>31.140625</td>\n",
       "      <td>8.171875</td>\n",
       "      <td>8.039062</td>\n",
       "      <td>1.804688</td>\n",
       "      <td>1.699219</td>\n",
       "      <td>84.5625</td>\n",
       "      <td>48.31250</td>\n",
       "      <td>84.6250</td>\n",
       "      <td>48.37500</td>\n",
       "      <td>...</td>\n",
       "      <td>23.453125</td>\n",
       "      <td>18.468750</td>\n",
       "      <td>98.5000</td>\n",
       "      <td>95.8125</td>\n",
       "      <td>126.375</td>\n",
       "      <td>113.0625</td>\n",
       "      <td>126.375</td>\n",
       "      <td>113.0000</td>\n",
       "      <td>36.93750</td>\n",
       "      <td>36.81250</td>\n",
       "    </tr>\n",
       "    <tr>\n",
       "      <th>Metabolic</th>\n",
       "      <td>20.828125</td>\n",
       "      <td>17.218750</td>\n",
       "      <td>8.484375</td>\n",
       "      <td>8.140625</td>\n",
       "      <td>1.328125</td>\n",
       "      <td>1.143555</td>\n",
       "      <td>90.9375</td>\n",
       "      <td>53.56250</td>\n",
       "      <td>90.9375</td>\n",
       "      <td>53.56250</td>\n",
       "      <td>...</td>\n",
       "      <td>21.937500</td>\n",
       "      <td>17.171875</td>\n",
       "      <td>98.3125</td>\n",
       "      <td>96.2500</td>\n",
       "      <td>133.375</td>\n",
       "      <td>119.6250</td>\n",
       "      <td>133.375</td>\n",
       "      <td>119.6250</td>\n",
       "      <td>36.68750</td>\n",
       "      <td>36.62500</td>\n",
       "    </tr>\n",
       "    <tr>\n",
       "      <th>Musculoskeletal/Skin</th>\n",
       "      <td>24.718750</td>\n",
       "      <td>22.906250</td>\n",
       "      <td>8.125000</td>\n",
       "      <td>7.972656</td>\n",
       "      <td>1.419922</td>\n",
       "      <td>1.313477</td>\n",
       "      <td>84.3125</td>\n",
       "      <td>48.31250</td>\n",
       "      <td>84.3125</td>\n",
       "      <td>48.31250</td>\n",
       "      <td>...</td>\n",
       "      <td>21.171875</td>\n",
       "      <td>15.632812</td>\n",
       "      <td>98.2500</td>\n",
       "      <td>95.3750</td>\n",
       "      <td>130.250</td>\n",
       "      <td>113.6875</td>\n",
       "      <td>129.750</td>\n",
       "      <td>113.3750</td>\n",
       "      <td>36.84375</td>\n",
       "      <td>36.71875</td>\n",
       "    </tr>\n",
       "    <tr>\n",
       "      <th>Neurological</th>\n",
       "      <td>18.625000</td>\n",
       "      <td>17.718750</td>\n",
       "      <td>8.617188</td>\n",
       "      <td>8.484375</td>\n",
       "      <td>1.125000</td>\n",
       "      <td>1.069336</td>\n",
       "      <td>94.6875</td>\n",
       "      <td>53.28125</td>\n",
       "      <td>94.6875</td>\n",
       "      <td>53.28125</td>\n",
       "      <td>...</td>\n",
       "      <td>21.484375</td>\n",
       "      <td>16.328125</td>\n",
       "      <td>98.2500</td>\n",
       "      <td>96.0625</td>\n",
       "      <td>145.500</td>\n",
       "      <td>128.1250</td>\n",
       "      <td>145.500</td>\n",
       "      <td>128.1250</td>\n",
       "      <td>36.75000</td>\n",
       "      <td>36.65625</td>\n",
       "    </tr>\n",
       "    <tr>\n",
       "      <th>Respiratory</th>\n",
       "      <td>24.984375</td>\n",
       "      <td>23.703125</td>\n",
       "      <td>8.476562</td>\n",
       "      <td>8.351562</td>\n",
       "      <td>1.295898</td>\n",
       "      <td>1.220703</td>\n",
       "      <td>89.7500</td>\n",
       "      <td>50.21875</td>\n",
       "      <td>89.8125</td>\n",
       "      <td>50.25000</td>\n",
       "      <td>...</td>\n",
       "      <td>24.875000</td>\n",
       "      <td>19.140625</td>\n",
       "      <td>97.6250</td>\n",
       "      <td>94.1875</td>\n",
       "      <td>133.625</td>\n",
       "      <td>116.3750</td>\n",
       "      <td>133.500</td>\n",
       "      <td>116.3125</td>\n",
       "      <td>36.84375</td>\n",
       "      <td>36.75000</td>\n",
       "    </tr>\n",
       "    <tr>\n",
       "      <th>Sepsis</th>\n",
       "      <td>34.687500</td>\n",
       "      <td>32.031250</td>\n",
       "      <td>8.062500</td>\n",
       "      <td>7.847656</td>\n",
       "      <td>1.917969</td>\n",
       "      <td>1.739258</td>\n",
       "      <td>85.6875</td>\n",
       "      <td>44.96875</td>\n",
       "      <td>85.7500</td>\n",
       "      <td>44.96875</td>\n",
       "      <td>...</td>\n",
       "      <td>25.765625</td>\n",
       "      <td>20.000000</td>\n",
       "      <td>97.5625</td>\n",
       "      <td>94.0000</td>\n",
       "      <td>119.375</td>\n",
       "      <td>101.9375</td>\n",
       "      <td>119.375</td>\n",
       "      <td>101.8750</td>\n",
       "      <td>37.00000</td>\n",
       "      <td>36.87500</td>\n",
       "    </tr>\n",
       "    <tr>\n",
       "      <th>Trauma</th>\n",
       "      <td>17.718750</td>\n",
       "      <td>16.671875</td>\n",
       "      <td>8.320312</td>\n",
       "      <td>8.148438</td>\n",
       "      <td>1.057617</td>\n",
       "      <td>0.995117</td>\n",
       "      <td>90.8125</td>\n",
       "      <td>51.31250</td>\n",
       "      <td>90.8125</td>\n",
       "      <td>51.31250</td>\n",
       "      <td>...</td>\n",
       "      <td>21.171875</td>\n",
       "      <td>15.984375</td>\n",
       "      <td>98.3125</td>\n",
       "      <td>95.6875</td>\n",
       "      <td>138.250</td>\n",
       "      <td>120.0625</td>\n",
       "      <td>138.000</td>\n",
       "      <td>120.0625</td>\n",
       "      <td>36.68750</td>\n",
       "      <td>36.56250</td>\n",
       "    </tr>\n",
       "    <tr>\n",
       "      <th>Unknown</th>\n",
       "      <td>22.593750</td>\n",
       "      <td>21.187500</td>\n",
       "      <td>8.359375</td>\n",
       "      <td>8.195312</td>\n",
       "      <td>1.325195</td>\n",
       "      <td>1.234375</td>\n",
       "      <td>87.6875</td>\n",
       "      <td>51.31250</td>\n",
       "      <td>87.6875</td>\n",
       "      <td>51.40625</td>\n",
       "      <td>...</td>\n",
       "      <td>21.109375</td>\n",
       "      <td>15.843750</td>\n",
       "      <td>98.1250</td>\n",
       "      <td>95.6875</td>\n",
       "      <td>134.875</td>\n",
       "      <td>119.8125</td>\n",
       "      <td>134.375</td>\n",
       "      <td>119.6875</td>\n",
       "      <td>36.68750</td>\n",
       "      <td>36.59375</td>\n",
       "    </tr>\n",
       "  </tbody>\n",
       "</table>\n",
       "<p>12 rows × 62 columns</p>\n",
       "</div>"
      ],
      "text/plain": [
       "                      d1_bun_max  d1_bun_min  d1_calcium_max  d1_calcium_min  \\\n",
       "apache_3j_bodysystem                                                           \n",
       "Cardiovascular         24.359375   22.718750        8.515625        8.304688   \n",
       "Gastrointestinal       28.828125   26.890625        8.007812        7.816406   \n",
       "Genitourinary          51.843750   45.906250        8.210938        7.906250   \n",
       "Gynecological          13.367188   12.093750        7.886719        7.609375   \n",
       "Hematological          32.781250   31.140625        8.171875        8.039062   \n",
       "Metabolic              20.828125   17.218750        8.484375        8.140625   \n",
       "Musculoskeletal/Skin   24.718750   22.906250        8.125000        7.972656   \n",
       "Neurological           18.625000   17.718750        8.617188        8.484375   \n",
       "Respiratory            24.984375   23.703125        8.476562        8.351562   \n",
       "Sepsis                 34.687500   32.031250        8.062500        7.847656   \n",
       "Trauma                 17.718750   16.671875        8.320312        8.148438   \n",
       "Unknown                22.593750   21.187500        8.359375        8.195312   \n",
       "\n",
       "                      d1_creatinine_max  d1_creatinine_min  d1_diasbp_max  \\\n",
       "apache_3j_bodysystem                                                        \n",
       "Cardiovascular                 1.478516           1.370117        86.6875   \n",
       "Gastrointestinal               1.426758           1.323242        86.1875   \n",
       "Genitourinary                  3.740234           3.183594        88.4375   \n",
       "Gynecological                  0.998047           0.910645        87.6875   \n",
       "Hematological                  1.804688           1.699219        84.5625   \n",
       "Metabolic                      1.328125           1.143555        90.9375   \n",
       "Musculoskeletal/Skin           1.419922           1.313477        84.3125   \n",
       "Neurological                   1.125000           1.069336        94.6875   \n",
       "Respiratory                    1.295898           1.220703        89.7500   \n",
       "Sepsis                         1.917969           1.739258        85.6875   \n",
       "Trauma                         1.057617           0.995117        90.8125   \n",
       "Unknown                        1.325195           1.234375        87.6875   \n",
       "\n",
       "                      d1_diasbp_min  d1_diasbp_noninvasive_max  \\\n",
       "apache_3j_bodysystem                                             \n",
       "Cardiovascular             50.46875                    87.0000   \n",
       "Gastrointestinal           48.65625                    86.2500   \n",
       "Genitourinary              48.81250                    88.5000   \n",
       "Gynecological              53.56250                    87.7500   \n",
       "Hematological              48.31250                    84.6250   \n",
       "Metabolic                  53.56250                    90.9375   \n",
       "Musculoskeletal/Skin       48.31250                    84.3125   \n",
       "Neurological               53.28125                    94.6875   \n",
       "Respiratory                50.21875                    89.8125   \n",
       "Sepsis                     44.96875                    85.7500   \n",
       "Trauma                     51.31250                    90.8125   \n",
       "Unknown                    51.31250                    87.6875   \n",
       "\n",
       "                      d1_diasbp_noninvasive_min  ...  h1_resprate_max  \\\n",
       "apache_3j_bodysystem                             ...                    \n",
       "Cardiovascular                         50.71875  ...        21.656250   \n",
       "Gastrointestinal                       48.68750  ...        22.078125   \n",
       "Genitourinary                          48.84375  ...        22.500000   \n",
       "Gynecological                          53.50000  ...        20.171875   \n",
       "Hematological                          48.37500  ...        23.453125   \n",
       "Metabolic                              53.56250  ...        21.937500   \n",
       "Musculoskeletal/Skin                   48.31250  ...        21.171875   \n",
       "Neurological                           53.28125  ...        21.484375   \n",
       "Respiratory                            50.25000  ...        24.875000   \n",
       "Sepsis                                 44.96875  ...        25.765625   \n",
       "Trauma                                 51.31250  ...        21.171875   \n",
       "Unknown                                51.40625  ...        21.109375   \n",
       "\n",
       "                      h1_resprate_min  h1_spo2_max  h1_spo2_min  h1_sysbp_max  \\\n",
       "apache_3j_bodysystem                                                            \n",
       "Cardiovascular              16.171875      98.1250      95.1875       134.000   \n",
       "Gastrointestinal            16.593750      98.3125      95.5000       131.125   \n",
       "Genitourinary               17.312500      97.9375      95.1250       130.625   \n",
       "Gynecological               15.226562      98.9375      96.7500       134.875   \n",
       "Hematological               18.468750      98.5000      95.8125       126.375   \n",
       "Metabolic                   17.171875      98.3125      96.2500       133.375   \n",
       "Musculoskeletal/Skin        15.632812      98.2500      95.3750       130.250   \n",
       "Neurological                16.328125      98.2500      96.0625       145.500   \n",
       "Respiratory                 19.140625      97.6250      94.1875       133.625   \n",
       "Sepsis                      20.000000      97.5625      94.0000       119.375   \n",
       "Trauma                      15.984375      98.3125      95.6875       138.250   \n",
       "Unknown                     15.843750      98.1250      95.6875       134.875   \n",
       "\n",
       "                      h1_sysbp_min  h1_sysbp_noninvasive_max  \\\n",
       "apache_3j_bodysystem                                           \n",
       "Cardiovascular            116.6250                   133.750   \n",
       "Gastrointestinal          114.8750                   130.750   \n",
       "Genitourinary             114.7500                   130.500   \n",
       "Gynecological             119.8750                   135.125   \n",
       "Hematological             113.0625                   126.375   \n",
       "Metabolic                 119.6250                   133.375   \n",
       "Musculoskeletal/Skin      113.6875                   129.750   \n",
       "Neurological              128.1250                   145.500   \n",
       "Respiratory               116.3750                   133.500   \n",
       "Sepsis                    101.9375                   119.375   \n",
       "Trauma                    120.0625                   138.000   \n",
       "Unknown                   119.8125                   134.375   \n",
       "\n",
       "                      h1_sysbp_noninvasive_min  h1_temp_max  h1_temp_min  \n",
       "apache_3j_bodysystem                                                      \n",
       "Cardiovascular                        117.4375     36.53125     36.40625  \n",
       "Gastrointestinal                      114.6875     36.75000     36.62500  \n",
       "Genitourinary                         114.6250     36.71875     36.65625  \n",
       "Gynecological                         120.1875     36.59375     36.46875  \n",
       "Hematological                         113.0000     36.93750     36.81250  \n",
       "Metabolic                             119.6250     36.68750     36.62500  \n",
       "Musculoskeletal/Skin                  113.3750     36.84375     36.71875  \n",
       "Neurological                          128.1250     36.75000     36.65625  \n",
       "Respiratory                           116.3125     36.84375     36.75000  \n",
       "Sepsis                                101.8750     37.00000     36.87500  \n",
       "Trauma                                120.0625     36.68750     36.56250  \n",
       "Unknown                               119.6875     36.68750     36.59375  \n",
       "\n",
       "[12 rows x 62 columns]"
      ]
     },
     "execution_count": 26,
     "metadata": {},
     "output_type": "execute_result"
    }
   ],
   "source": [
    "train_diagnosis = pd.pivot_table(training_df_cleaned3, values=labvitals_selected,\n",
    "                          index=['apache_3j_bodysystem'], aggfunc=np.mean)\n",
    "\n",
    "train_diagnosis"
   ]
  },
  {
   "cell_type": "code",
   "execution_count": 27,
   "metadata": {},
   "outputs": [
    {
     "data": {
      "text/html": [
       "<div>\n",
       "<style scoped>\n",
       "    .dataframe tbody tr th:only-of-type {\n",
       "        vertical-align: middle;\n",
       "    }\n",
       "\n",
       "    .dataframe tbody tr th {\n",
       "        vertical-align: top;\n",
       "    }\n",
       "\n",
       "    .dataframe thead th {\n",
       "        text-align: right;\n",
       "    }\n",
       "</style>\n",
       "<table border=\"1\" class=\"dataframe\">\n",
       "  <thead>\n",
       "    <tr style=\"text-align: right;\">\n",
       "      <th></th>\n",
       "      <th>d1_bun_max</th>\n",
       "      <th>d1_bun_min</th>\n",
       "      <th>d1_calcium_max</th>\n",
       "      <th>d1_calcium_min</th>\n",
       "      <th>d1_creatinine_max</th>\n",
       "      <th>d1_creatinine_min</th>\n",
       "      <th>d1_diasbp_max</th>\n",
       "      <th>d1_diasbp_min</th>\n",
       "      <th>d1_diasbp_noninvasive_max</th>\n",
       "      <th>d1_diasbp_noninvasive_min</th>\n",
       "      <th>...</th>\n",
       "      <th>h1_resprate_max</th>\n",
       "      <th>h1_resprate_min</th>\n",
       "      <th>h1_spo2_max</th>\n",
       "      <th>h1_spo2_min</th>\n",
       "      <th>h1_sysbp_max</th>\n",
       "      <th>h1_sysbp_min</th>\n",
       "      <th>h1_sysbp_noninvasive_max</th>\n",
       "      <th>h1_sysbp_noninvasive_min</th>\n",
       "      <th>h1_temp_max</th>\n",
       "      <th>h1_temp_min</th>\n",
       "    </tr>\n",
       "    <tr>\n",
       "      <th>apache_3j_bodysystem</th>\n",
       "      <th></th>\n",
       "      <th></th>\n",
       "      <th></th>\n",
       "      <th></th>\n",
       "      <th></th>\n",
       "      <th></th>\n",
       "      <th></th>\n",
       "      <th></th>\n",
       "      <th></th>\n",
       "      <th></th>\n",
       "      <th></th>\n",
       "      <th></th>\n",
       "      <th></th>\n",
       "      <th></th>\n",
       "      <th></th>\n",
       "      <th></th>\n",
       "      <th></th>\n",
       "      <th></th>\n",
       "      <th></th>\n",
       "      <th></th>\n",
       "      <th></th>\n",
       "    </tr>\n",
       "  </thead>\n",
       "  <tbody>\n",
       "    <tr>\n",
       "      <th>Cardiovascular</th>\n",
       "      <td>24.875000</td>\n",
       "      <td>22.843750</td>\n",
       "      <td>8.523438</td>\n",
       "      <td>8.242188</td>\n",
       "      <td>1.554688</td>\n",
       "      <td>1.413086</td>\n",
       "      <td>86.5625</td>\n",
       "      <td>48.93750</td>\n",
       "      <td>87.0000</td>\n",
       "      <td>48.90625</td>\n",
       "      <td>...</td>\n",
       "      <td>21.406250</td>\n",
       "      <td>15.750000</td>\n",
       "      <td>98.3125</td>\n",
       "      <td>95.5625</td>\n",
       "      <td>132.3750</td>\n",
       "      <td>113.3125</td>\n",
       "      <td>132.2500</td>\n",
       "      <td>114.0000</td>\n",
       "      <td>36.50000</td>\n",
       "      <td>36.37500</td>\n",
       "    </tr>\n",
       "    <tr>\n",
       "      <th>Gastrointestinal</th>\n",
       "      <td>28.203125</td>\n",
       "      <td>25.890625</td>\n",
       "      <td>8.062500</td>\n",
       "      <td>7.820312</td>\n",
       "      <td>1.436523</td>\n",
       "      <td>1.307617</td>\n",
       "      <td>86.8125</td>\n",
       "      <td>47.40625</td>\n",
       "      <td>86.9375</td>\n",
       "      <td>47.40625</td>\n",
       "      <td>...</td>\n",
       "      <td>21.531250</td>\n",
       "      <td>16.265625</td>\n",
       "      <td>98.3125</td>\n",
       "      <td>95.7500</td>\n",
       "      <td>130.1250</td>\n",
       "      <td>112.6250</td>\n",
       "      <td>129.8750</td>\n",
       "      <td>112.3750</td>\n",
       "      <td>36.78125</td>\n",
       "      <td>36.65625</td>\n",
       "    </tr>\n",
       "    <tr>\n",
       "      <th>Genitourinary</th>\n",
       "      <td>53.531250</td>\n",
       "      <td>45.812500</td>\n",
       "      <td>8.234375</td>\n",
       "      <td>7.816406</td>\n",
       "      <td>4.101562</td>\n",
       "      <td>3.367188</td>\n",
       "      <td>87.0625</td>\n",
       "      <td>47.18750</td>\n",
       "      <td>87.1250</td>\n",
       "      <td>47.18750</td>\n",
       "      <td>...</td>\n",
       "      <td>22.250000</td>\n",
       "      <td>16.953125</td>\n",
       "      <td>98.3125</td>\n",
       "      <td>95.7500</td>\n",
       "      <td>128.1250</td>\n",
       "      <td>111.8750</td>\n",
       "      <td>127.7500</td>\n",
       "      <td>111.2500</td>\n",
       "      <td>36.68750</td>\n",
       "      <td>36.56250</td>\n",
       "    </tr>\n",
       "    <tr>\n",
       "      <th>Gynecological</th>\n",
       "      <td>13.335938</td>\n",
       "      <td>12.007812</td>\n",
       "      <td>7.824219</td>\n",
       "      <td>7.488281</td>\n",
       "      <td>0.932617</td>\n",
       "      <td>0.831055</td>\n",
       "      <td>86.9375</td>\n",
       "      <td>51.15625</td>\n",
       "      <td>87.2500</td>\n",
       "      <td>51.06250</td>\n",
       "      <td>...</td>\n",
       "      <td>21.234375</td>\n",
       "      <td>15.195312</td>\n",
       "      <td>99.0625</td>\n",
       "      <td>97.1875</td>\n",
       "      <td>129.8750</td>\n",
       "      <td>111.5000</td>\n",
       "      <td>129.5000</td>\n",
       "      <td>111.5000</td>\n",
       "      <td>36.56250</td>\n",
       "      <td>36.37500</td>\n",
       "    </tr>\n",
       "    <tr>\n",
       "      <th>Hematological</th>\n",
       "      <td>33.500000</td>\n",
       "      <td>31.328125</td>\n",
       "      <td>8.234375</td>\n",
       "      <td>8.093750</td>\n",
       "      <td>1.548828</td>\n",
       "      <td>1.453125</td>\n",
       "      <td>86.8750</td>\n",
       "      <td>48.18750</td>\n",
       "      <td>86.8750</td>\n",
       "      <td>48.18750</td>\n",
       "      <td>...</td>\n",
       "      <td>23.812500</td>\n",
       "      <td>17.953125</td>\n",
       "      <td>98.5000</td>\n",
       "      <td>95.6875</td>\n",
       "      <td>124.8125</td>\n",
       "      <td>112.8750</td>\n",
       "      <td>124.8125</td>\n",
       "      <td>112.8125</td>\n",
       "      <td>36.96875</td>\n",
       "      <td>36.84375</td>\n",
       "    </tr>\n",
       "    <tr>\n",
       "      <th>Metabolic</th>\n",
       "      <td>22.609375</td>\n",
       "      <td>18.078125</td>\n",
       "      <td>8.484375</td>\n",
       "      <td>8.093750</td>\n",
       "      <td>1.428711</td>\n",
       "      <td>1.187500</td>\n",
       "      <td>91.3125</td>\n",
       "      <td>53.37500</td>\n",
       "      <td>91.3750</td>\n",
       "      <td>53.37500</td>\n",
       "      <td>...</td>\n",
       "      <td>21.562500</td>\n",
       "      <td>16.875000</td>\n",
       "      <td>98.5000</td>\n",
       "      <td>96.4375</td>\n",
       "      <td>134.1250</td>\n",
       "      <td>120.0000</td>\n",
       "      <td>134.0000</td>\n",
       "      <td>119.7500</td>\n",
       "      <td>36.75000</td>\n",
       "      <td>36.65625</td>\n",
       "    </tr>\n",
       "    <tr>\n",
       "      <th>Musculoskeletal/Skin</th>\n",
       "      <td>22.390625</td>\n",
       "      <td>20.515625</td>\n",
       "      <td>8.101562</td>\n",
       "      <td>7.894531</td>\n",
       "      <td>1.326172</td>\n",
       "      <td>1.202148</td>\n",
       "      <td>84.5625</td>\n",
       "      <td>47.50000</td>\n",
       "      <td>84.6875</td>\n",
       "      <td>47.50000</td>\n",
       "      <td>...</td>\n",
       "      <td>20.234375</td>\n",
       "      <td>14.703125</td>\n",
       "      <td>98.3125</td>\n",
       "      <td>95.2500</td>\n",
       "      <td>129.1250</td>\n",
       "      <td>112.4375</td>\n",
       "      <td>128.7500</td>\n",
       "      <td>112.0625</td>\n",
       "      <td>36.93750</td>\n",
       "      <td>36.75000</td>\n",
       "    </tr>\n",
       "    <tr>\n",
       "      <th>Neurological</th>\n",
       "      <td>18.203125</td>\n",
       "      <td>17.156250</td>\n",
       "      <td>8.593750</td>\n",
       "      <td>8.437500</td>\n",
       "      <td>1.113281</td>\n",
       "      <td>1.048828</td>\n",
       "      <td>94.0625</td>\n",
       "      <td>52.18750</td>\n",
       "      <td>94.2500</td>\n",
       "      <td>52.18750</td>\n",
       "      <td>...</td>\n",
       "      <td>21.203125</td>\n",
       "      <td>15.648438</td>\n",
       "      <td>98.5000</td>\n",
       "      <td>96.1250</td>\n",
       "      <td>146.2500</td>\n",
       "      <td>126.8125</td>\n",
       "      <td>145.8750</td>\n",
       "      <td>126.3750</td>\n",
       "      <td>36.81250</td>\n",
       "      <td>36.68750</td>\n",
       "    </tr>\n",
       "    <tr>\n",
       "      <th>Respiratory</th>\n",
       "      <td>25.625000</td>\n",
       "      <td>23.968750</td>\n",
       "      <td>8.531250</td>\n",
       "      <td>8.351562</td>\n",
       "      <td>1.363281</td>\n",
       "      <td>1.262695</td>\n",
       "      <td>88.6875</td>\n",
       "      <td>49.65625</td>\n",
       "      <td>88.8750</td>\n",
       "      <td>49.65625</td>\n",
       "      <td>...</td>\n",
       "      <td>24.765625</td>\n",
       "      <td>19.062500</td>\n",
       "      <td>97.6250</td>\n",
       "      <td>94.5000</td>\n",
       "      <td>134.1250</td>\n",
       "      <td>116.2500</td>\n",
       "      <td>133.6250</td>\n",
       "      <td>115.8125</td>\n",
       "      <td>36.87500</td>\n",
       "      <td>36.78125</td>\n",
       "    </tr>\n",
       "    <tr>\n",
       "      <th>Sepsis</th>\n",
       "      <td>33.875000</td>\n",
       "      <td>30.718750</td>\n",
       "      <td>7.945312</td>\n",
       "      <td>7.683594</td>\n",
       "      <td>1.940430</td>\n",
       "      <td>1.729492</td>\n",
       "      <td>88.6875</td>\n",
       "      <td>42.84375</td>\n",
       "      <td>88.8750</td>\n",
       "      <td>42.81250</td>\n",
       "      <td>...</td>\n",
       "      <td>25.171875</td>\n",
       "      <td>19.203125</td>\n",
       "      <td>97.6875</td>\n",
       "      <td>93.7500</td>\n",
       "      <td>119.4375</td>\n",
       "      <td>99.1250</td>\n",
       "      <td>119.4375</td>\n",
       "      <td>99.1250</td>\n",
       "      <td>37.06250</td>\n",
       "      <td>36.90625</td>\n",
       "    </tr>\n",
       "    <tr>\n",
       "      <th>Trauma</th>\n",
       "      <td>16.421875</td>\n",
       "      <td>15.218750</td>\n",
       "      <td>8.304688</td>\n",
       "      <td>8.046875</td>\n",
       "      <td>1.004883</td>\n",
       "      <td>0.924316</td>\n",
       "      <td>89.4375</td>\n",
       "      <td>52.12500</td>\n",
       "      <td>89.5625</td>\n",
       "      <td>52.09375</td>\n",
       "      <td>...</td>\n",
       "      <td>21.593750</td>\n",
       "      <td>16.156250</td>\n",
       "      <td>98.7500</td>\n",
       "      <td>96.6250</td>\n",
       "      <td>137.6250</td>\n",
       "      <td>120.0000</td>\n",
       "      <td>137.3750</td>\n",
       "      <td>119.6875</td>\n",
       "      <td>36.78125</td>\n",
       "      <td>36.65625</td>\n",
       "    </tr>\n",
       "    <tr>\n",
       "      <th>Unknown</th>\n",
       "      <td>21.843750</td>\n",
       "      <td>20.671875</td>\n",
       "      <td>8.468750</td>\n",
       "      <td>8.320312</td>\n",
       "      <td>1.300781</td>\n",
       "      <td>1.221680</td>\n",
       "      <td>85.8750</td>\n",
       "      <td>50.43750</td>\n",
       "      <td>86.0000</td>\n",
       "      <td>50.50000</td>\n",
       "      <td>...</td>\n",
       "      <td>21.343750</td>\n",
       "      <td>16.015625</td>\n",
       "      <td>97.6875</td>\n",
       "      <td>95.1875</td>\n",
       "      <td>133.2500</td>\n",
       "      <td>118.3125</td>\n",
       "      <td>132.6250</td>\n",
       "      <td>117.8750</td>\n",
       "      <td>36.75000</td>\n",
       "      <td>36.65625</td>\n",
       "    </tr>\n",
       "  </tbody>\n",
       "</table>\n",
       "<p>12 rows × 62 columns</p>\n",
       "</div>"
      ],
      "text/plain": [
       "                      d1_bun_max  d1_bun_min  d1_calcium_max  d1_calcium_min  \\\n",
       "apache_3j_bodysystem                                                           \n",
       "Cardiovascular         24.875000   22.843750        8.523438        8.242188   \n",
       "Gastrointestinal       28.203125   25.890625        8.062500        7.820312   \n",
       "Genitourinary          53.531250   45.812500        8.234375        7.816406   \n",
       "Gynecological          13.335938   12.007812        7.824219        7.488281   \n",
       "Hematological          33.500000   31.328125        8.234375        8.093750   \n",
       "Metabolic              22.609375   18.078125        8.484375        8.093750   \n",
       "Musculoskeletal/Skin   22.390625   20.515625        8.101562        7.894531   \n",
       "Neurological           18.203125   17.156250        8.593750        8.437500   \n",
       "Respiratory            25.625000   23.968750        8.531250        8.351562   \n",
       "Sepsis                 33.875000   30.718750        7.945312        7.683594   \n",
       "Trauma                 16.421875   15.218750        8.304688        8.046875   \n",
       "Unknown                21.843750   20.671875        8.468750        8.320312   \n",
       "\n",
       "                      d1_creatinine_max  d1_creatinine_min  d1_diasbp_max  \\\n",
       "apache_3j_bodysystem                                                        \n",
       "Cardiovascular                 1.554688           1.413086        86.5625   \n",
       "Gastrointestinal               1.436523           1.307617        86.8125   \n",
       "Genitourinary                  4.101562           3.367188        87.0625   \n",
       "Gynecological                  0.932617           0.831055        86.9375   \n",
       "Hematological                  1.548828           1.453125        86.8750   \n",
       "Metabolic                      1.428711           1.187500        91.3125   \n",
       "Musculoskeletal/Skin           1.326172           1.202148        84.5625   \n",
       "Neurological                   1.113281           1.048828        94.0625   \n",
       "Respiratory                    1.363281           1.262695        88.6875   \n",
       "Sepsis                         1.940430           1.729492        88.6875   \n",
       "Trauma                         1.004883           0.924316        89.4375   \n",
       "Unknown                        1.300781           1.221680        85.8750   \n",
       "\n",
       "                      d1_diasbp_min  d1_diasbp_noninvasive_max  \\\n",
       "apache_3j_bodysystem                                             \n",
       "Cardiovascular             48.93750                    87.0000   \n",
       "Gastrointestinal           47.40625                    86.9375   \n",
       "Genitourinary              47.18750                    87.1250   \n",
       "Gynecological              51.15625                    87.2500   \n",
       "Hematological              48.18750                    86.8750   \n",
       "Metabolic                  53.37500                    91.3750   \n",
       "Musculoskeletal/Skin       47.50000                    84.6875   \n",
       "Neurological               52.18750                    94.2500   \n",
       "Respiratory                49.65625                    88.8750   \n",
       "Sepsis                     42.84375                    88.8750   \n",
       "Trauma                     52.12500                    89.5625   \n",
       "Unknown                    50.43750                    86.0000   \n",
       "\n",
       "                      d1_diasbp_noninvasive_min  ...  h1_resprate_max  \\\n",
       "apache_3j_bodysystem                             ...                    \n",
       "Cardiovascular                         48.90625  ...        21.406250   \n",
       "Gastrointestinal                       47.40625  ...        21.531250   \n",
       "Genitourinary                          47.18750  ...        22.250000   \n",
       "Gynecological                          51.06250  ...        21.234375   \n",
       "Hematological                          48.18750  ...        23.812500   \n",
       "Metabolic                              53.37500  ...        21.562500   \n",
       "Musculoskeletal/Skin                   47.50000  ...        20.234375   \n",
       "Neurological                           52.18750  ...        21.203125   \n",
       "Respiratory                            49.65625  ...        24.765625   \n",
       "Sepsis                                 42.81250  ...        25.171875   \n",
       "Trauma                                 52.09375  ...        21.593750   \n",
       "Unknown                                50.50000  ...        21.343750   \n",
       "\n",
       "                      h1_resprate_min  h1_spo2_max  h1_spo2_min  h1_sysbp_max  \\\n",
       "apache_3j_bodysystem                                                            \n",
       "Cardiovascular              15.750000      98.3125      95.5625      132.3750   \n",
       "Gastrointestinal            16.265625      98.3125      95.7500      130.1250   \n",
       "Genitourinary               16.953125      98.3125      95.7500      128.1250   \n",
       "Gynecological               15.195312      99.0625      97.1875      129.8750   \n",
       "Hematological               17.953125      98.5000      95.6875      124.8125   \n",
       "Metabolic                   16.875000      98.5000      96.4375      134.1250   \n",
       "Musculoskeletal/Skin        14.703125      98.3125      95.2500      129.1250   \n",
       "Neurological                15.648438      98.5000      96.1250      146.2500   \n",
       "Respiratory                 19.062500      97.6250      94.5000      134.1250   \n",
       "Sepsis                      19.203125      97.6875      93.7500      119.4375   \n",
       "Trauma                      16.156250      98.7500      96.6250      137.6250   \n",
       "Unknown                     16.015625      97.6875      95.1875      133.2500   \n",
       "\n",
       "                      h1_sysbp_min  h1_sysbp_noninvasive_max  \\\n",
       "apache_3j_bodysystem                                           \n",
       "Cardiovascular            113.3125                  132.2500   \n",
       "Gastrointestinal          112.6250                  129.8750   \n",
       "Genitourinary             111.8750                  127.7500   \n",
       "Gynecological             111.5000                  129.5000   \n",
       "Hematological             112.8750                  124.8125   \n",
       "Metabolic                 120.0000                  134.0000   \n",
       "Musculoskeletal/Skin      112.4375                  128.7500   \n",
       "Neurological              126.8125                  145.8750   \n",
       "Respiratory               116.2500                  133.6250   \n",
       "Sepsis                     99.1250                  119.4375   \n",
       "Trauma                    120.0000                  137.3750   \n",
       "Unknown                   118.3125                  132.6250   \n",
       "\n",
       "                      h1_sysbp_noninvasive_min  h1_temp_max  h1_temp_min  \n",
       "apache_3j_bodysystem                                                      \n",
       "Cardiovascular                        114.0000     36.50000     36.37500  \n",
       "Gastrointestinal                      112.3750     36.78125     36.65625  \n",
       "Genitourinary                         111.2500     36.68750     36.56250  \n",
       "Gynecological                         111.5000     36.56250     36.37500  \n",
       "Hematological                         112.8125     36.96875     36.84375  \n",
       "Metabolic                             119.7500     36.75000     36.65625  \n",
       "Musculoskeletal/Skin                  112.0625     36.93750     36.75000  \n",
       "Neurological                          126.3750     36.81250     36.68750  \n",
       "Respiratory                           115.8125     36.87500     36.78125  \n",
       "Sepsis                                 99.1250     37.06250     36.90625  \n",
       "Trauma                                119.6875     36.78125     36.65625  \n",
       "Unknown                               117.8750     36.75000     36.65625  \n",
       "\n",
       "[12 rows x 62 columns]"
      ]
     },
     "execution_count": 27,
     "metadata": {},
     "output_type": "execute_result"
    }
   ],
   "source": [
    "test_diagnosis = pd.pivot_table(test_df_cleaned2, values=labvitals_selected,\n",
    "                          index=['apache_3j_bodysystem'], aggfunc=np.mean)\n",
    "\n",
    "test_diagnosis"
   ]
  },
  {
   "cell_type": "markdown",
   "metadata": {},
   "source": [
    "Combined dataset to impute NANs"
   ]
  },
  {
   "cell_type": "code",
   "execution_count": 28,
   "metadata": {},
   "outputs": [
    {
     "name": "stdout",
     "output_type": "stream",
     "text": [
      "length of train set: 91713\n",
      "length of test set: 39308\n",
      "shape of combined train and test set: (131021, 127)\n"
     ]
    }
   ],
   "source": [
    "# get length of train and test set\n",
    "train_length = len(training_df_cleaned3)\n",
    "test_length = len(test_df_cleaned2)\n",
    "print('length of train set:',train_length)\n",
    "print('length of test set:',test_length)\n",
    "\n",
    "# combine train and test to get all the categorical levels for the concerned columns\n",
    "combined_df = pd.concat([training_df_cleaned3, test_df_cleaned2], axis=0)\n",
    "print('shape of combined train and test set:',combined_df.shape)"
   ]
  },
  {
   "cell_type": "markdown",
   "metadata": {},
   "source": [
    "Get columns with NANs"
   ]
  },
  {
   "cell_type": "code",
   "execution_count": 29,
   "metadata": {},
   "outputs": [
    {
     "data": {
      "text/plain": [
       "103"
      ]
     },
     "execution_count": 29,
     "metadata": {},
     "output_type": "execute_result"
    }
   ],
   "source": [
    "remainingmissingcols = combined_df.columns[combined_df.isna().any()].tolist()\n",
    "\n",
    "remainingmissingcols.remove('hospital_death')\n",
    "\n",
    "len(remainingmissingcols)"
   ]
  },
  {
   "cell_type": "markdown",
   "metadata": {},
   "source": [
    "Impute 103 remaining missing columns using column mean grouped by apache 3j bodysystem"
   ]
  },
  {
   "cell_type": "code",
   "execution_count": 30,
   "metadata": {},
   "outputs": [],
   "source": [
    "combined_df= combined_df.reset_index(drop=True)"
   ]
  },
  {
   "cell_type": "code",
   "execution_count": 31,
   "metadata": {},
   "outputs": [],
   "source": [
    "combined_df[remainingmissingcols]= combined_df[remainingmissingcols].fillna\\\n",
    "(combined_df.groupby(['apache_3j_bodysystem'], sort=False)[remainingmissingcols].transform('mean'))"
   ]
  },
  {
   "cell_type": "markdown",
   "metadata": {},
   "source": [
    "Validate whether imputation is successful"
   ]
  },
  {
   "cell_type": "code",
   "execution_count": 32,
   "metadata": {},
   "outputs": [
    {
     "data": {
      "text/plain": [
       "['hospital_death']"
      ]
     },
     "execution_count": 32,
     "metadata": {},
     "output_type": "execute_result"
    }
   ],
   "source": [
    "combined_df.columns[combined_df.isna().any()].tolist()"
   ]
  },
  {
   "cell_type": "markdown",
   "metadata": {},
   "source": [
    "Split back the data into train and test"
   ]
  },
  {
   "cell_type": "code",
   "execution_count": 33,
   "metadata": {},
   "outputs": [
    {
     "name": "stdout",
     "output_type": "stream",
     "text": [
      "(91713, 127)\n",
      "(39308, 127)\n"
     ]
    }
   ],
   "source": [
    "training_df_cleaned4 = combined_df[:train_length]\n",
    "test_df_cleaned3 = combined_df[train_length:]\n",
    "print(training_df_cleaned4.shape)\n",
    "print(test_df_cleaned3.shape)"
   ]
  },
  {
   "cell_type": "code",
   "execution_count": 5,
   "metadata": {},
   "outputs": [],
   "source": [
    "# training_df_cleaned4.to_csv('train4.csv')\n",
    "# test_df_cleaned3.to_csv('test3.csv')\n",
    "training_df_cleaned4 = pd.read_csv(datapath+'/train4.csv')\n",
    "test_df_cleaned3 = pd.read_csv(datapath+'/test3.csv')"
   ]
  },
  {
   "cell_type": "markdown",
   "metadata": {},
   "source": [
    "## Convert predictors with less than/equal to 12 unique values into categorical"
   ]
  },
  {
   "cell_type": "code",
   "execution_count": 6,
   "metadata": {},
   "outputs": [],
   "source": [
    "col_train = training_df_cleaned4.columns\n",
    "factorvariables_train = []\n",
    "for i in col_train:\n",
    "    if training_df_cleaned4[i].nunique() <= 12:\n",
    "        factorvariables_train.append(i)\n",
    "factorvariables_train.remove('hospital_death')"
   ]
  },
  {
   "cell_type": "code",
   "execution_count": 7,
   "metadata": {},
   "outputs": [],
   "source": [
    "col_test = test_df_cleaned3.columns\n",
    "factorvariables_test = []\n",
    "for i in col_test:\n",
    "    if test_df_cleaned3[i].nunique() <= 12:\n",
    "        factorvariables_test.append(i)\n",
    "factorvariables_test.remove('hospital_death')"
   ]
  },
  {
   "cell_type": "code",
   "execution_count": 8,
   "metadata": {},
   "outputs": [
    {
     "name": "stdout",
     "output_type": "stream",
     "text": [
      "train col type:\n",
      "elective_surgery               category\n",
      "ethnicity                      category\n",
      "gender                         category\n",
      "hospital_admit_source          category\n",
      "icu_admit_source               category\n",
      "icu_stay_type                  category\n",
      "icu_type                       category\n",
      "apache_post_operative          category\n",
      "arf_apache                     category\n",
      "gcs_unable_apache              category\n",
      "intubated_apache               category\n",
      "ventilated_apache              category\n",
      "aids                           category\n",
      "cirrhosis                      category\n",
      "diabetes_mellitus              category\n",
      "hepatic_failure                category\n",
      "immunosuppression              category\n",
      "leukemia                       category\n",
      "lymphoma                       category\n",
      "solid_tumor_with_metastasis    category\n",
      "apache_3j_bodysystem           category\n",
      "dtype: object\n",
      "test col type:\n",
      "elective_surgery               category\n",
      "ethnicity                      category\n",
      "gender                         category\n",
      "hospital_admit_source          category\n",
      "icu_admit_source               category\n",
      "icu_stay_type                  category\n",
      "icu_type                       category\n",
      "apache_post_operative          category\n",
      "arf_apache                     category\n",
      "intubated_apache               category\n",
      "ventilated_apache              category\n",
      "aids                           category\n",
      "cirrhosis                      category\n",
      "diabetes_mellitus              category\n",
      "hepatic_failure                category\n",
      "immunosuppression              category\n",
      "leukemia                       category\n",
      "lymphoma                       category\n",
      "solid_tumor_with_metastasis    category\n",
      "apache_3j_bodysystem           category\n",
      "dtype: object\n"
     ]
    }
   ],
   "source": [
    "training_df_cleaned4[factorvariables_train] =  training_df_cleaned4 \\\n",
    "    [factorvariables_train].apply(lambda x: x.astype('category'), axis=0)\n",
    "\n",
    "test_df_cleaned3[factorvariables_test] = test_df_cleaned3 \\\n",
    "    [factorvariables_test].apply(lambda x: x.astype('category'), axis=0)\n",
    "\n",
    "print('train col type:')\n",
    "print(training_df_cleaned4[factorvariables_train].dtypes)\n",
    "\n",
    "print('test col type:')\n",
    "print(test_df_cleaned3[factorvariables_test].dtypes)"
   ]
  },
  {
   "cell_type": "markdown",
   "metadata": {},
   "source": [
    "## Use Label Encoder to label string variables"
   ]
  },
  {
   "cell_type": "code",
   "execution_count": 9,
   "metadata": {},
   "outputs": [],
   "source": [
    "numerical_cols   = training_df_cleaned4._get_numeric_data().columns\n",
    "categorical_cols = list(set(col_train)- set(numerical_cols))\n",
    "\n",
    "for col in categorical_cols:\n",
    "    training_df_cleaned4[col] = training_df_cleaned4[col].astype('str')\n",
    "    test_df_cleaned3[col]     = test_df_cleaned3[col].astype('str')\n",
    "    \n",
    "    # fit label encoder\n",
    "    labele = LabelEncoder().fit(np.unique(training_df_cleaned4[col].unique().tolist()+ \\\n",
    "                                          test_df_cleaned3[col].unique().tolist()))\n",
    "    \n",
    "    # ensure no zero as the label\n",
    "    training_df_cleaned4[col] = labele.transform(training_df_cleaned4[col])+1\n",
    "    test_df_cleaned3[col]     = labele.transform(test_df_cleaned3[col])+1\n",
    "    \n",
    "    training_df_cleaned4[col] = training_df_cleaned4[col].replace(np.nan, ''). \\\n",
    "                                astype('int').astype('category')\n",
    "    test_df_cleaned3[col] = test_df_cleaned3[col].replace(np.nan, ''). \\\n",
    "                            astype('int').astype('category')\n",
    "    "
   ]
  },
  {
   "cell_type": "markdown",
   "metadata": {},
   "source": [
    "Since some hospital id is not present in test and there are many unique ids, this variable may not be a useful feature. So, will remove this variable from model"
   ]
  },
  {
   "cell_type": "code",
   "execution_count": 93,
   "metadata": {},
   "outputs": [
    {
     "name": "stdout",
     "output_type": "stream",
     "text": [
      "147\n",
      "66\n"
     ]
    }
   ],
   "source": [
    "print(training_df_cleaned4['hospital_id'].nunique())\n",
    "print(test_df_cleaned3['hospital_id'].nunique())"
   ]
  },
  {
   "cell_type": "markdown",
   "metadata": {},
   "source": [
    "## Drop high correlated variables (> 0.9)"
   ]
  },
  {
   "cell_type": "markdown",
   "metadata": {},
   "source": [
    "Generate matrix of high correlated variables (correlation coefficient > 0.9) from combined train and test dataset"
   ]
  },
  {
   "cell_type": "code",
   "execution_count": 39,
   "metadata": {},
   "outputs": [
    {
     "data": {
      "text/plain": [
       "d1_inr_max                     h1_inr_max                   1.000000\n",
       "d1_inr_min                     h1_inr_min                   1.000000\n",
       "d1_diasbp_min                  d1_diasbp_noninvasive_min    0.991931\n",
       "d1_sysbp_max                   d1_sysbp_noninvasive_max     0.991920\n",
       "d1_sysbp_min                   d1_sysbp_noninvasive_min     0.991415\n",
       "d1_diasbp_max                  d1_diasbp_noninvasive_max    0.990132\n",
       "d1_mbp_min                     d1_mbp_noninvasive_min       0.990002\n",
       "d1_mbp_max                     d1_mbp_noninvasive_max       0.984864\n",
       "h1_sysbp_max                   h1_sysbp_noninvasive_max     0.976791\n",
       "h1_sysbp_min                   h1_sysbp_noninvasive_min     0.970751\n",
       "d1_bun_max                     d1_bun_min                   0.970079\n",
       "d1_bilirubin_max               d1_bilirubin_min             0.969174\n",
       "d1_creatinine_max              d1_creatinine_min            0.969158\n",
       "h1_mbp_min                     h1_mbp_noninvasive_min       0.967462\n",
       "h1_mbp_max                     h1_mbp_noninvasive_max       0.966861\n",
       "d1_hemaglobin_min              d1_hematocrit_min            0.965282\n",
       "h1_diasbp_min                  h1_diasbp_noninvasive_min    0.964241\n",
       "h1_diasbp_max                  h1_diasbp_noninvasive_max    0.963870\n",
       "d1_hemaglobin_max              d1_hematocrit_max            0.958509\n",
       "d1_platelets_max               d1_platelets_min             0.954914\n",
       "d1_albumin_max                 d1_albumin_min               0.951833\n",
       "apache_4a_hospital_death_prob  apache_4a_icu_death_prob     0.950207\n",
       "d1_inr_max                     d1_inr_min                   0.949293\n",
       "d1_inr_min                     h1_inr_max                   0.949293\n",
       "d1_inr_max                     h1_inr_min                   0.949293\n",
       "h1_inr_max                     h1_inr_min                   0.949293\n",
       "h1_glucose_max                 h1_glucose_min               0.948366\n",
       "d1_hematocrit_max              d1_hematocrit_min            0.913451\n",
       "d1_wbc_max                     d1_wbc_min                   0.910905\n",
       "d1_hemaglobin_max              d1_hemaglobin_min            0.910325\n",
       "elective_surgery               apache_post_operative        0.909718\n",
       "h1_temp_max                    h1_temp_min                  0.908561\n",
       "albumin_apache                 d1_albumin_min               0.907379\n",
       "bun_apache                     d1_bun_max                   0.902730\n",
       "hematocrit_apache              d1_hematocrit_min            0.901635\n",
       "dtype: float64"
      ]
     },
     "execution_count": 39,
     "metadata": {},
     "output_type": "execute_result"
    }
   ],
   "source": [
    "corr2 = (combined_df.corr(method=\"spearman\"))\n",
    "# due to symmetrical marix, we generate a triangle side of correlation matrix (upper) without diagonal (k=1)\n",
    "corr_values = (corr2.where(np.triu(np.ones(corr2.shape),\n",
    "                                   k=1).astype(np.bool))).stack()\n",
    "\n",
    "# Sort the correlation values by highest to lowest\n",
    "corr_values = (corr_values.sort_values(ascending=False))\n",
    "\n",
    "corr_values[corr_values > 0.9]"
   ]
  },
  {
   "cell_type": "code",
   "execution_count": 12,
   "metadata": {},
   "outputs": [],
   "source": [
    "training_df_cleaned4= pd.concat([training_df_cleaned['encounter_id'],\n",
    "                                 training_df_cleaned4], axis=1)\n",
    "\n",
    "test_df_cleaned3 = test_df_cleaned3.reset_index(drop=True)\n",
    "test_df_cleaned3 = pd.concat([test_df['encounter_id'],\n",
    "                                 test_df_cleaned3], axis=1)"
   ]
  },
  {
   "cell_type": "code",
   "execution_count": 13,
   "metadata": {},
   "outputs": [
    {
     "name": "stdout",
     "output_type": "stream",
     "text": [
      "(91713, 101)\n",
      "(39308, 101)\n"
     ]
    }
   ],
   "source": [
    "variablestodrop = ['hospital_id','h1_inr_min','d1_sysbp_noninvasive_max',\n",
    "                  'd1_sysbp_noninvasive_min','d1_diasbp_noninvasive_min',\n",
    "                  'd1_diasbp_noninvasive_max','d1_mbp_noninvasive_min',\n",
    "                  'd1_mbp_noninvasive_max','h1_sysbp_noninvasive_max',\n",
    "                  'h1_sysbp_noninvasive_min','d1_bun_min','d1_bilirubin_min',\n",
    "                  'd1_creatinine_min','h1_mbp_noninvasive_min',\n",
    "                  'h1_mbp_noninvasive_max','h1_diasbp_noninvasive_min',\n",
    "                  'h1_diasbp_noninvasive_max','d1_hematocrit_min',\n",
    "                  'd1_platelets_min','d1_hematocrit_max','d1_inr_min',\n",
    "                  'd1_albumin_min','h1_glucose_min','d1_wbc_min',\n",
    "                  'd1_hematocrit_min','h1_temp_min','d1_hemaglobin_min',\n",
    "                  'd1_albumin_min','d1_hematocrit_min','d1_bun_max']\n",
    "\n",
    "final_train = training_df_cleaned4.drop(variablestodrop, axis=1)\n",
    "final_test  = test_df_cleaned3.drop(variablestodrop, axis =1)\n",
    "print(final_train.shape)\n",
    "print(final_test.shape)"
   ]
  },
  {
   "cell_type": "markdown",
   "metadata": {},
   "source": [
    "# Split training dataset into train and validation"
   ]
  },
  {
   "cell_type": "code",
   "execution_count": 146,
   "metadata": {},
   "outputs": [],
   "source": [
    "Train, Validation = train_test_split(final_train, \n",
    "                                     test_size =0.3, random_state=303)"
   ]
  },
  {
   "cell_type": "code",
   "execution_count": 3,
   "metadata": {},
   "outputs": [],
   "source": [
    "# Train.to_csv('trainsplit.csv')\n",
    "# Validation.to_csv('valsplit.csv')\n",
    "Train = pd.read_csv(datapath+'/trainsplit.csv')\n",
    "Validation = pd.read_csv(datapath+'/valsplit.csv')"
   ]
  },
  {
   "cell_type": "code",
   "execution_count": 14,
   "metadata": {},
   "outputs": [],
   "source": [
    "X_train = Train.copy().drop('hospital_death', axis = 1)\n",
    "y_train = Train[['encounter_id','hospital_death']]\n",
    "X_val = Validation.copy().drop('hospital_death', axis = 1)\n",
    "y_val = Validation[['encounter_id','hospital_death']]\n",
    "X_test = final_test.copy().drop('hospital_death', axis = 1)\n",
    "y_test = final_test[['encounter_id', 'hospital_death']]"
   ]
  },
  {
   "cell_type": "code",
   "execution_count": 15,
   "metadata": {},
   "outputs": [],
   "source": [
    "X_train.set_index('encounter_id', inplace = True)\n",
    "y_train.set_index('encounter_id', inplace = True)\n",
    "X_val.set_index('encounter_id', inplace = True)\n",
    "y_val.set_index('encounter_id', inplace = True)\n",
    "X_test.set_index('encounter_id', inplace = True)\n",
    "y_test.set_index('encounter_id', inplace = True)"
   ]
  },
  {
   "cell_type": "code",
   "execution_count": 16,
   "metadata": {},
   "outputs": [
    {
     "name": "stdout",
     "output_type": "stream",
     "text": [
      "(64199, 99)\n",
      "(27514, 99)\n",
      "(39308, 99)\n",
      "8.69639714014237\n",
      "8.475685105764338\n"
     ]
    },
    {
     "data": {
      "text/plain": [
       "8.630183289173836"
      ]
     },
     "execution_count": 16,
     "metadata": {},
     "output_type": "execute_result"
    }
   ],
   "source": [
    "print(X_train.shape)\n",
    "print(X_val.shape)\n",
    "print(X_test.shape)\n",
    "print(sum(y_train.hospital_death == 1)*100/len(y_train))\n",
    "print(sum(y_val.hospital_death == 1)*100/len(y_val))\n",
    "(sum(training_df_cleaned.hospital_death == 1)*100/len(training_df_cleaned))"
   ]
  },
  {
   "cell_type": "markdown",
   "metadata": {},
   "source": [
    "# Model"
   ]
  },
  {
   "cell_type": "markdown",
   "metadata": {},
   "source": [
    "## Implement logistic regression"
   ]
  },
  {
   "cell_type": "markdown",
   "metadata": {},
   "source": [
    "**Parameter tuning**"
   ]
  },
  {
   "cell_type": "code",
   "execution_count": 50,
   "metadata": {},
   "outputs": [
    {
     "name": "stdout",
     "output_type": "stream",
     "text": [
      "Best: 0.923566 using {'max_iter': 100, 'dual': False, 'C': 2.5}\n"
     ]
    }
   ],
   "source": [
    "# set penalty as L2\n",
    "lr = LogisticRegression(penalty = 'l2')\n",
    "\n",
    "# tune parameters for logistic using Randomized Search CV\n",
    "dual=[True,False]\n",
    "max_iter=[100,110,120,130,140]\n",
    "C = [1.0,1.5,2.0,2.5]\n",
    "param_grid = dict(dual=dual,max_iter=max_iter,C=C)\n",
    "\n",
    "# Run Randomized Search if parameters needed to be retuned\n",
    "# logreg = RandomizedSearchCV(estimator=lr, param_distributions=param_grid, cv = 5, n_jobs=-1)\n",
    "# logreg_result = logreg.fit(X_train, y_train)\n",
    "\n",
    "# Print out the best parameter\n",
    "# print(\"Best: %f using %s\" % (logreg_result.best_score_, logreg_result.best_params_))"
   ]
  },
  {
   "cell_type": "markdown",
   "metadata": {},
   "source": [
    "**Run model with best parameter**"
   ]
  },
  {
   "cell_type": "code",
   "execution_count": 27,
   "metadata": {},
   "outputs": [
    {
     "name": "stdout",
     "output_type": "stream",
     "text": [
      "Accuracy of logistic regression classifier on valid set: 0.93\n"
     ]
    }
   ],
   "source": [
    "# run LR using best parameter\n",
    "logreg = LogisticRegression(penalty = 'l2', max_iter=100, dual=False, C=2.5)\n",
    "logreg.fit(X_train, y_train)\n",
    "\n",
    "# predict on validation\n",
    "y_pred = logreg.predict(X_val)\n",
    "print('Accuracy of logistic regression classifier on valid set: {:.2f}'. \\\n",
    "      format(logreg.score(X_val, y_val)))"
   ]
  },
  {
   "cell_type": "code",
   "execution_count": 17,
   "metadata": {},
   "outputs": [],
   "source": [
    "import pickle\n",
    "\n",
    "# Save logistic to file in the current working directory\n",
    "logit_filename = \"Logistic.pkl\"\n",
    "# with open(logit_filename, 'wb') as logitfile:\n",
    "#    pickle.dump(logreg, logitfile)\n",
    "    \n",
    "# Load from file\n",
    "with open(logit_filename, 'rb') as logitfile:\n",
    "    pickle_logitmodel = pickle.load(logitfile)"
   ]
  },
  {
   "cell_type": "code",
   "execution_count": 30,
   "metadata": {},
   "outputs": [
    {
     "name": "stdout",
     "output_type": "stream",
     "text": [
      "Confusion Matrix:\n",
      "[[24857   325]\n",
      " [ 1722   610]]\n",
      "Classification Report:\n",
      "              precision    recall  f1-score   support\n",
      "\n",
      "           0       0.94      0.99      0.96     25182\n",
      "           1       0.65      0.26      0.37      2332\n",
      "\n",
      "    accuracy                           0.93     27514\n",
      "   macro avg       0.79      0.62      0.67     27514\n",
      "weighted avg       0.91      0.93      0.91     27514\n",
      "\n",
      "Accuracy: 0.9256015119575489\n"
     ]
    }
   ],
   "source": [
    "logreg_result = confusion_matrix(y_val, y_pred)\n",
    "print(\"Confusion Matrix:\")\n",
    "print(logreg_result)\n",
    "logreg_result1 = classification_report(y_val, y_pred)\n",
    "print(\"Classification Report:\",)\n",
    "print (logreg_result1)\n",
    "logreg_result2 = accuracy_score(y_val,y_pred)\n",
    "print(\"Accuracy:\",logreg_result2)"
   ]
  },
  {
   "cell_type": "markdown",
   "metadata": {},
   "source": [
    "## Implement boosting (LightGBM)"
   ]
  },
  {
   "cell_type": "markdown",
   "metadata": {},
   "source": [
    "LightGBM uses the leaf-wise tree growth algorithm, while many other popular tools use depth-wise tree growth. Compared with depth-wise growth, the leaf-wise algorithm can converge much faster. However, the leaf-wise growth may be over-fitting if not used with the appropriate parameters."
   ]
  },
  {
   "cell_type": "markdown",
   "metadata": {},
   "source": [
    "To get good results using a leaf-wise tree, these are some important parameters:\n",
    "1. num_leaves - control complexity of the tree model (theory: set 2^max depth to obtain same number of leaves as depth-wise tree. but, simple conversion is not good for practice. Why? Leaf-wise tree is typically much deeper than a depth-wise tree for a fixed no of leaves). Unconstrained depth can indece over-fitting\n",
    "\n",
    "2. min_data_in_leaf (important parameter to prevent over-fitting- setting it large can avoid growing too deep a tree (depending on no of training samples and num_leaves- too large value can avoid growing too deep a tree) (100/1000 should be good for a large dataset)\n",
    "\n",
    "3. max_depth - to lmite tree depth explicitly\n",
    "\n",
    "4. max bin - use small value to deal with over-fitting but large for higher accuracy"
   ]
  },
  {
   "cell_type": "markdown",
   "metadata": {},
   "source": [
    "**Hyperparameter tuning**"
   ]
  },
  {
   "cell_type": "code",
   "execution_count": 31,
   "metadata": {},
   "outputs": [],
   "source": [
    "# tuned the parameters for max bin, max depth and num leaves for LightGBM using\n",
    "# randomized search\n",
    "\n",
    "clf = lgb.LGBMClassifier(silent=True, random_state = 303, metric='roc_auc')\n",
    "\n",
    "params ={'max_bin' : sp_randint(1, 1000), \n",
    "         'max_depth': [2,3,4,5,6,7,8,9],\n",
    "         'num_leaves': sp_randint(6, 1500)}\n",
    "\n",
    "fit_params={\"early_stopping_rounds\":3, \n",
    "            \"eval_metric\" : 'auc', \n",
    "            \"eval_set\" : [(X_train, y_train),(X_val,y_val)],\n",
    "            'eval_names': ['train','valid'],\n",
    "            'verbose': 300,\n",
    "            'categorical_feature': 'auto'}"
   ]
  },
  {
   "cell_type": "code",
   "execution_count": 32,
   "metadata": {},
   "outputs": [],
   "source": [
    "gs = RandomizedSearchCV(estimator=clf, \n",
    "                        param_distributions=params, \n",
    "                        scoring='roc_auc',cv=5, refit=True,random_state=303,verbose=True)"
   ]
  },
  {
   "cell_type": "code",
   "execution_count": 33,
   "metadata": {
    "scrolled": true
   },
   "outputs": [
    {
     "name": "stdout",
     "output_type": "stream",
     "text": [
      "Fitting 5 folds for each of 10 candidates, totalling 50 fits\n"
     ]
    },
    {
     "name": "stderr",
     "output_type": "stream",
     "text": [
      "[Parallel(n_jobs=1)]: Using backend SequentialBackend with 1 concurrent workers.\n"
     ]
    },
    {
     "name": "stdout",
     "output_type": "stream",
     "text": [
      "Training until validation scores don't improve for 3 rounds\n",
      "Early stopping, best iteration is:\n",
      "[61]\ttrain's auc: 0.941423\tvalid's auc: 0.895674\n",
      "Training until validation scores don't improve for 3 rounds\n",
      "Early stopping, best iteration is:\n",
      "[60]\ttrain's auc: 0.939413\tvalid's auc: 0.895989\n",
      "Training until validation scores don't improve for 3 rounds\n",
      "Did not meet early stopping. Best iteration is:\n",
      "[100]\ttrain's auc: 0.953676\tvalid's auc: 0.898214\n",
      "Training until validation scores don't improve for 3 rounds\n",
      "Early stopping, best iteration is:\n",
      "[94]\ttrain's auc: 0.952875\tvalid's auc: 0.896641\n",
      "Training until validation scores don't improve for 3 rounds\n",
      "Early stopping, best iteration is:\n",
      "[80]\ttrain's auc: 0.948268\tvalid's auc: 0.895857\n",
      "Training until validation scores don't improve for 3 rounds\n",
      "Early stopping, best iteration is:\n",
      "[74]\ttrain's auc: 0.946744\tvalid's auc: 0.896705\n",
      "Training until validation scores don't improve for 3 rounds\n",
      "Did not meet early stopping. Best iteration is:\n",
      "[100]\ttrain's auc: 0.954061\tvalid's auc: 0.897455\n",
      "Training until validation scores don't improve for 3 rounds\n",
      "Early stopping, best iteration is:\n",
      "[85]\ttrain's auc: 0.947723\tvalid's auc: 0.896973\n",
      "Training until validation scores don't improve for 3 rounds\n",
      "Did not meet early stopping. Best iteration is:\n",
      "[100]\ttrain's auc: 0.954066\tvalid's auc: 0.897011\n",
      "Training until validation scores don't improve for 3 rounds\n",
      "Early stopping, best iteration is:\n",
      "[89]\ttrain's auc: 0.952598\tvalid's auc: 0.897282\n",
      "Training until validation scores don't improve for 3 rounds\n",
      "Early stopping, best iteration is:\n",
      "[66]\ttrain's auc: 0.959484\tvalid's auc: 0.894493\n",
      "Training until validation scores don't improve for 3 rounds\n",
      "Early stopping, best iteration is:\n",
      "[82]\ttrain's auc: 0.96407\tvalid's auc: 0.897097\n",
      "Training until validation scores don't improve for 3 rounds\n",
      "Early stopping, best iteration is:\n",
      "[72]\ttrain's auc: 0.960396\tvalid's auc: 0.896163\n",
      "Training until validation scores don't improve for 3 rounds\n",
      "Early stopping, best iteration is:\n",
      "[63]\ttrain's auc: 0.957518\tvalid's auc: 0.895519\n",
      "Training until validation scores don't improve for 3 rounds\n",
      "Early stopping, best iteration is:\n",
      "[50]\ttrain's auc: 0.953328\tvalid's auc: 0.894119\n",
      "Training until validation scores don't improve for 3 rounds\n",
      "Did not meet early stopping. Best iteration is:\n",
      "[100]\ttrain's auc: 0.920255\tvalid's auc: 0.896361\n",
      "Training until validation scores don't improve for 3 rounds\n",
      "Did not meet early stopping. Best iteration is:\n",
      "[100]\ttrain's auc: 0.919657\tvalid's auc: 0.896624\n",
      "Training until validation scores don't improve for 3 rounds\n",
      "Did not meet early stopping. Best iteration is:\n",
      "[100]\ttrain's auc: 0.918209\tvalid's auc: 0.896228\n",
      "Training until validation scores don't improve for 3 rounds\n",
      "Did not meet early stopping. Best iteration is:\n",
      "[100]\ttrain's auc: 0.919434\tvalid's auc: 0.895586\n",
      "Training until validation scores don't improve for 3 rounds\n",
      "Did not meet early stopping. Best iteration is:\n",
      "[100]\ttrain's auc: 0.91877\tvalid's auc: 0.897767\n",
      "Training until validation scores don't improve for 3 rounds\n",
      "Early stopping, best iteration is:\n",
      "[70]\ttrain's auc: 0.97915\tvalid's auc: 0.894083\n",
      "Training until validation scores don't improve for 3 rounds\n",
      "Early stopping, best iteration is:\n",
      "[94]\ttrain's auc: 0.980678\tvalid's auc: 0.893998\n",
      "Training until validation scores don't improve for 3 rounds\n",
      "Early stopping, best iteration is:\n",
      "[67]\ttrain's auc: 0.97725\tvalid's auc: 0.894615\n",
      "Training until validation scores don't improve for 3 rounds\n",
      "Early stopping, best iteration is:\n",
      "[56]\ttrain's auc: 0.976118\tvalid's auc: 0.894188\n",
      "Training until validation scores don't improve for 3 rounds\n",
      "Early stopping, best iteration is:\n",
      "[52]\ttrain's auc: 0.977671\tvalid's auc: 0.891727\n",
      "Training until validation scores don't improve for 3 rounds\n",
      "Early stopping, best iteration is:\n",
      "[62]\ttrain's auc: 0.978603\tvalid's auc: 0.894173\n",
      "Training until validation scores don't improve for 3 rounds\n",
      "Early stopping, best iteration is:\n",
      "[66]\ttrain's auc: 0.978336\tvalid's auc: 0.893608\n",
      "Training until validation scores don't improve for 3 rounds\n",
      "Early stopping, best iteration is:\n",
      "[56]\ttrain's auc: 0.97585\tvalid's auc: 0.893445\n",
      "Training until validation scores don't improve for 3 rounds\n",
      "Did not meet early stopping. Best iteration is:\n",
      "[100]\ttrain's auc: 0.981994\tvalid's auc: 0.895578\n",
      "Training until validation scores don't improve for 3 rounds\n",
      "Early stopping, best iteration is:\n",
      "[55]\ttrain's auc: 0.978028\tvalid's auc: 0.893179\n",
      "Training until validation scores don't improve for 3 rounds\n",
      "Early stopping, best iteration is:\n",
      "[79]\ttrain's auc: 0.973464\tvalid's auc: 0.895208\n",
      "Training until validation scores don't improve for 3 rounds\n",
      "Early stopping, best iteration is:\n",
      "[60]\ttrain's auc: 0.969971\tvalid's auc: 0.895184\n",
      "Training until validation scores don't improve for 3 rounds\n",
      "Early stopping, best iteration is:\n",
      "[67]\ttrain's auc: 0.970836\tvalid's auc: 0.89449\n",
      "Training until validation scores don't improve for 3 rounds\n",
      "Did not meet early stopping. Best iteration is:\n",
      "[100]\ttrain's auc: 0.977319\tvalid's auc: 0.89716\n",
      "Training until validation scores don't improve for 3 rounds\n",
      "Early stopping, best iteration is:\n",
      "[64]\ttrain's auc: 0.973011\tvalid's auc: 0.894623\n",
      "Training until validation scores don't improve for 3 rounds\n",
      "Early stopping, best iteration is:\n",
      "[65]\ttrain's auc: 0.971487\tvalid's auc: 0.896364\n",
      "Training until validation scores don't improve for 3 rounds\n",
      "Early stopping, best iteration is:\n",
      "[57]\ttrain's auc: 0.96956\tvalid's auc: 0.895291\n",
      "Training until validation scores don't improve for 3 rounds\n",
      "Early stopping, best iteration is:\n",
      "[53]\ttrain's auc: 0.965311\tvalid's auc: 0.895442\n",
      "Training until validation scores don't improve for 3 rounds\n",
      "Early stopping, best iteration is:\n",
      "[81]\ttrain's auc: 0.975248\tvalid's auc: 0.897027\n",
      "Training until validation scores don't improve for 3 rounds\n",
      "Early stopping, best iteration is:\n",
      "[67]\ttrain's auc: 0.97312\tvalid's auc: 0.894187\n",
      "Training until validation scores don't improve for 3 rounds\n",
      "Early stopping, best iteration is:\n",
      "[77]\ttrain's auc: 0.947586\tvalid's auc: 0.897501\n",
      "Training until validation scores don't improve for 3 rounds\n",
      "Early stopping, best iteration is:\n",
      "[90]\ttrain's auc: 0.950441\tvalid's auc: 0.897691\n",
      "Training until validation scores don't improve for 3 rounds\n",
      "Early stopping, best iteration is:\n",
      "[94]\ttrain's auc: 0.951397\tvalid's auc: 0.897525\n",
      "Training until validation scores don't improve for 3 rounds\n",
      "Early stopping, best iteration is:\n",
      "[69]\ttrain's auc: 0.943435\tvalid's auc: 0.895012\n",
      "Training until validation scores don't improve for 3 rounds\n",
      "Early stopping, best iteration is:\n",
      "[79]\ttrain's auc: 0.94736\tvalid's auc: 0.896642\n",
      "Training until validation scores don't improve for 3 rounds\n",
      "Did not meet early stopping. Best iteration is:\n",
      "[100]\ttrain's auc: 0.904811\tvalid's auc: 0.893723\n",
      "Training until validation scores don't improve for 3 rounds\n",
      "Did not meet early stopping. Best iteration is:\n",
      "[100]\ttrain's auc: 0.905261\tvalid's auc: 0.893592\n",
      "Training until validation scores don't improve for 3 rounds\n",
      "Did not meet early stopping. Best iteration is:\n",
      "[100]\ttrain's auc: 0.903901\tvalid's auc: 0.892724\n",
      "Training until validation scores don't improve for 3 rounds\n",
      "Did not meet early stopping. Best iteration is:\n",
      "[100]\ttrain's auc: 0.904584\tvalid's auc: 0.892479\n",
      "Training until validation scores don't improve for 3 rounds\n",
      "Did not meet early stopping. Best iteration is:\n",
      "[100]\ttrain's auc: 0.904776\tvalid's auc: 0.894513\n"
     ]
    },
    {
     "name": "stderr",
     "output_type": "stream",
     "text": [
      "[Parallel(n_jobs=1)]: Done  50 out of  50 | elapsed:  3.3min finished\n"
     ]
    },
    {
     "name": "stdout",
     "output_type": "stream",
     "text": [
      "Training until validation scores don't improve for 3 rounds\n",
      "Early stopping, best iteration is:\n",
      "[79]\ttrain's auc: 0.953943\tvalid's auc: 0.898089\n",
      "Best score reached: 0.8951471482397755 with params: {'max_bin': 130, 'max_depth': 6, 'num_leaves': 1051} \n"
     ]
    }
   ],
   "source": [
    "# fit gs using fit params to get the best params\n",
    "gs.fit(X_train, y_train, **fit_params)\n",
    "print('Best score reached: {} with params: {} '.format(gs.best_score_, gs.best_params_))\n"
   ]
  },
  {
   "cell_type": "markdown",
   "metadata": {},
   "source": [
    "**Runing model using best parameter**"
   ]
  },
  {
   "cell_type": "code",
   "execution_count": 102,
   "metadata": {},
   "outputs": [],
   "source": [
    "params_1 = {'boosting_type': 'dart', # default is Gradiant Boosting\n",
    "            # dart is Multiple Additive Regression Trees- higher accuracy\n",
    " 'bagging_fraction': 0.4, # to prevent overfitting as default is 1\n",
    " 'num_iterations': 1000,  # default =100\n",
    " 'max_bin': 130,\n",
    " 'max_depth': 6,\n",
    " 'num_leaves': 1051,\n",
    " 'scoring': 'roc_auc',\n",
    " 'metric': 'auc',\n",
    " 'objective': 'binary'} # objective: binary for classifierfb"
   ]
  },
  {
   "cell_type": "code",
   "execution_count": 114,
   "metadata": {},
   "outputs": [],
   "source": [
    "lgbm_train = lgb.Dataset(X_train, y_train, categorical_feature=categorical_cols)\n",
    "lgbm_val   = lgb.Dataset(X_val, y_val, reference = lgbm_train)"
   ]
  },
  {
   "cell_type": "code",
   "execution_count": 115,
   "metadata": {},
   "outputs": [
    {
     "name": "stdout",
     "output_type": "stream",
     "text": [
      "[100]\ttraining's auc: 0.937125\tvalid_1's auc: 0.895109\n",
      "[200]\ttraining's auc: 0.95018\tvalid_1's auc: 0.899348\n",
      "[300]\ttraining's auc: 0.963414\tvalid_1's auc: 0.901349\n",
      "[400]\ttraining's auc: 0.972466\tvalid_1's auc: 0.902791\n",
      "[500]\ttraining's auc: 0.980298\tvalid_1's auc: 0.903626\n",
      "[600]\ttraining's auc: 0.984155\tvalid_1's auc: 0.904195\n",
      "[700]\ttraining's auc: 0.988054\tvalid_1's auc: 0.904996\n",
      "[800]\ttraining's auc: 0.990667\tvalid_1's auc: 0.904457\n",
      "[900]\ttraining's auc: 0.993048\tvalid_1's auc: 0.903958\n",
      "[1000]\ttraining's auc: 0.994878\tvalid_1's auc: 0.903931\n"
     ]
    }
   ],
   "source": [
    "eval_results = {}\n",
    "lgbm_classifier = lgb.train(params_1, lgbm_train, num_boost_round=250,\n",
    "                           valid_sets = [lgbm_train, lgbm_val],\n",
    "                           feature_name = ['f' + str(i + 1) for i in range(X_train.shape[-1])],\n",
    "                            categorical_feature=[127],\n",
    "                            evals_result=eval_results,\n",
    "                            verbose_eval= 100)\n"
   ]
  },
  {
   "cell_type": "markdown",
   "metadata": {},
   "source": [
    "### Use lgbmClassifier to run the best parameters"
   ]
  },
  {
   "cell_type": "code",
   "execution_count": null,
   "metadata": {},
   "outputs": [],
   "source": []
  },
  {
   "cell_type": "code",
   "execution_count": 109,
   "metadata": {},
   "outputs": [],
   "source": [
    "lgbm_best1 = lgb.LGBMClassifier(boosting_type= 'dart',\n",
    "                                bagging_fraction= 0.4,\n",
    "                                num_iterations= 1000, \n",
    "                                max_bin= 130,\n",
    "                                max_depth= 6,\n",
    "                                num_leaves= 1051,\n",
    "                                num_boost_round=250,\n",
    "                                scoring= 'roc_auc',\n",
    "                                metric= 'auc',\n",
    "                                objective= 'binary').fit(X_train, y_train, \n",
    "                                                         categorical_feature=[0])"
   ]
  },
  {
   "cell_type": "code",
   "execution_count": 111,
   "metadata": {},
   "outputs": [],
   "source": [
    "# Save lightgbm to file in the current working directory\n",
    "lgbm_filename = \"lightgbm.pkl\"\n",
    "#with open(lgbm_filename, 'wb') as lgbmfile:\n",
    "#    pickle.dump(lgbm_best1, lgbmfile)\n",
    "    \n",
    "# Load from file\n",
    "with open(lgbm_filename, 'rb') as lgbmfile:\n",
    "    pickle_lgbmmodel = pickle.load(lgbmfile)"
   ]
  },
  {
   "cell_type": "code",
   "execution_count": 117,
   "metadata": {},
   "outputs": [
    {
     "data": {
      "image/png": "[encoded data removed]",
      "text/plain": [
       "<Figure size 432x288 with 1 Axes>"
      ]
     },
     "metadata": {
      "needs_background": "light"
     },
     "output_type": "display_data"
    }
   ],
   "source": [
    "# plot AUC curve against number of iterations\n",
    "# trained model is overfitted as number of iterations goes beyond 800\n",
    "\n",
    "ax = lgb.plot_metric(eval_results, metric='auc')\n",
    "plt.show()"
   ]
  },
  {
   "cell_type": "markdown",
   "metadata": {},
   "source": [
    "**Predict on validation using trained mdoel**"
   ]
  },
  {
   "cell_type": "code",
   "execution_count": 112,
   "metadata": {},
   "outputs": [],
   "source": [
    "# predict on x_val using trained light GBM\n",
    "lgbm_y_pred = lgbm_best1.predict(X_val, pred_contrib=False)\n",
    "\n",
    "lgbm_y_pred = np.where(lgbm_y_pred > 0.5, 1, 0)"
   ]
  },
  {
   "cell_type": "code",
   "execution_count": 113,
   "metadata": {},
   "outputs": [
    {
     "name": "stdout",
     "output_type": "stream",
     "text": [
      "Confusion Matrix:\n",
      "[[24931   251]\n",
      " [ 1629   703]]\n",
      "Classification Report:\n",
      "              precision    recall  f1-score   support\n",
      "\n",
      "           0       0.94      0.99      0.96     25182\n",
      "           1       0.74      0.30      0.43      2332\n",
      "\n",
      "    accuracy                           0.93     27514\n",
      "   macro avg       0.84      0.65      0.70     27514\n",
      "weighted avg       0.92      0.93      0.92     27514\n",
      "\n",
      "Accuracy: 0.9316711492331177\n"
     ]
    }
   ],
   "source": [
    "lightGBM_result = confusion_matrix(y_val, lgbm_y_pred)\n",
    "print(\"Confusion Matrix:\")\n",
    "print(lightGBM_result)\n",
    "lightGBM_result1 = classification_report(y_val, lgbm_y_pred)\n",
    "print(\"Classification Report:\",)\n",
    "print (lightGBM_result1)\n",
    "lightGBM_result2 = accuracy_score(y_val, lgbm_y_pred)\n",
    "print(\"Accuracy:\",lightGBM_result2)"
   ]
  },
  {
   "cell_type": "markdown",
   "metadata": {},
   "source": [
    "## Implement Random Forest"
   ]
  },
  {
   "cell_type": "markdown",
   "metadata": {},
   "source": [
    "**Hyperparameter tuinng**"
   ]
  },
  {
   "cell_type": "code",
   "execution_count": 132,
   "metadata": {},
   "outputs": [
    {
     "name": "stdout",
     "output_type": "stream",
     "text": [
      "Fitting 5 folds for each of 10 candidates, totalling 50 fits\n"
     ]
    },
    {
     "name": "stderr",
     "output_type": "stream",
     "text": [
      "[Parallel(n_jobs=-1)]: Using backend LokyBackend with 12 concurrent workers.\n",
      "[Parallel(n_jobs=-1)]: Done  26 tasks      | elapsed:  2.1min\n",
      "[Parallel(n_jobs=-1)]: Done  50 out of  50 | elapsed:  3.2min finished\n"
     ]
    },
    {
     "data": {
      "text/plain": [
       "RandomizedSearchCV(cv=5, error_score='raise-deprecating',\n",
       "                   estimator=RandomForestClassifier(bootstrap=True,\n",
       "                                                    class_weight=None,\n",
       "                                                    criterion='gini',\n",
       "                                                    max_depth=None,\n",
       "                                                    max_features='auto',\n",
       "                                                    max_leaf_nodes=None,\n",
       "                                                    min_impurity_decrease=0.0,\n",
       "                                                    min_impurity_split=None,\n",
       "                                                    min_samples_leaf=1,\n",
       "                                                    min_samples_split=2,\n",
       "                                                    min_weight_fraction_leaf=0.0,\n",
       "                                                    n_estimators=100, n_jobs=-1,\n",
       "                                                    oob_score=False,\n",
       "                                                    random_state=303, verbose=0,\n",
       "                                                    warm_start=False),\n",
       "                   iid='warn', n_iter=10, n_jobs=-1,\n",
       "                   param_distributions={'max_depth': [10, 15, 20, 22, 25, 30,\n",
       "                                                      35],\n",
       "                                        'max_features': [1, 2, 4, 6, 8, 10, 11,\n",
       "                                                         12],\n",
       "                                        'min_samples_leaf': [1, 3, 5, 6, 7]},\n",
       "                   pre_dispatch='2*n_jobs', random_state=303, refit=True,\n",
       "                   return_train_score=False, scoring=None, verbose=1)"
      ]
     },
     "execution_count": 132,
     "metadata": {},
     "output_type": "execute_result"
    }
   ],
   "source": [
    "# Initialize the set of parameters for exhaustive search and fit \n",
    "# max features to be considered at each split\n",
    "# max depth of the tree (how big to expand)\n",
    "# min sample leaf = minimum samples at each leaf node\n",
    "\n",
    "parameters = {'max_features': [1,2, 4, 6, 8, 10, 11,12], \n",
    "              'min_samples_leaf': [1, 3, 5, 6, 7], \n",
    "              'max_depth': [10, 15, 20, 22, 25, 30, 35]}\n",
    "\n",
    "# implement randomforest with 100 trees\n",
    "rforestclassifier = RandomForestClassifier(n_estimators=100, \n",
    "                                           random_state=303, n_jobs=-1)\n",
    "\n",
    "#GridSearch to find the optimal parameters for our example:\n",
    "rfcv = RandomizedSearchCV(rforestclassifier, parameters, n_jobs=-1, cv=5, verbose=1,\n",
    "                         random_state=303)\n",
    "rfcv.fit(X_train,y_train)"
   ]
  },
  {
   "cell_type": "code",
   "execution_count": 133,
   "metadata": {},
   "outputs": [
    {
     "data": {
      "text/plain": [
       "({'min_samples_leaf': 7, 'max_features': 12, 'max_depth': 25},\n",
       " 0.927662424648359)"
      ]
     },
     "execution_count": 133,
     "metadata": {},
     "output_type": "execute_result"
    }
   ],
   "source": [
    "rfcv.best_params_, rfcv.best_score_"
   ]
  },
  {
   "cell_type": "code",
   "execution_count": 19,
   "metadata": {},
   "outputs": [],
   "source": [
    "# Save rf to file in the current working directory\n",
    "rf_filename = \"rf.pkl\"\n",
    "#with open(rf_filename, 'wb') as rffile:\n",
    "#    pickle.dump(lgbm_classifier, rffile)\n",
    "    \n",
    "# Load from file\n",
    "with open(rf_filename, 'rb') as rffile:\n",
    "    pickle_rfmmodel = pickle.load(rffile)"
   ]
  },
  {
   "cell_type": "markdown",
   "metadata": {},
   "source": [
    "**Get prediction on validation**"
   ]
  },
  {
   "cell_type": "code",
   "execution_count": 135,
   "metadata": {},
   "outputs": [],
   "source": [
    "rfcv_y_pred = rfcv.predict(X_val)"
   ]
  },
  {
   "cell_type": "code",
   "execution_count": 136,
   "metadata": {
    "scrolled": true
   },
   "outputs": [
    {
     "name": "stdout",
     "output_type": "stream",
     "text": [
      "Confusion Matrix:\n",
      "[[24958   224]\n",
      " [ 1708   624]]\n",
      "Classification Report:\n",
      "              precision    recall  f1-score   support\n",
      "\n",
      "           0       0.94      0.99      0.96     25182\n",
      "           1       0.74      0.27      0.39      2332\n",
      "\n",
      "    accuracy                           0.93     27514\n",
      "   macro avg       0.84      0.63      0.68     27514\n",
      "weighted avg       0.92      0.93      0.91     27514\n",
      "\n",
      "Accuracy: 0.9297812022970124\n"
     ]
    }
   ],
   "source": [
    "rfc_result = confusion_matrix(y_val, rfcv_y_pred)\n",
    "print(\"Confusion Matrix:\")\n",
    "print(rfc_result)\n",
    "rfc_result1 = classification_report(y_val, rfcv_y_pred)\n",
    "print(\"Classification Report:\",)\n",
    "print (rfc_result1)\n",
    "rfc_result2 = accuracy_score(y_val, rfcv_y_pred)\n",
    "print(\"Accuracy:\", rfc_result2)"
   ]
  },
  {
   "cell_type": "markdown",
   "metadata": {},
   "source": [
    "## Implement XGBoost"
   ]
  },
  {
   "cell_type": "markdown",
   "metadata": {},
   "source": [
    "Instead of numpy arrays or pandas dataFrame, XGBoost uses DMatrices. A DMatrix can contain both the features and the target. If you already have loaded you data into numpy arrays X and y, you can create a DMatrix"
   ]
  },
  {
   "cell_type": "code",
   "execution_count": 66,
   "metadata": {},
   "outputs": [],
   "source": [
    "X_train2 = X_train.astype('float64')\n",
    "X_val2   = X_val.astype('float64')\n",
    "X_test2  = X_test.astype('float64')"
   ]
  },
  {
   "cell_type": "code",
   "execution_count": 67,
   "metadata": {},
   "outputs": [],
   "source": [
    "xgboost_train = xgb.DMatrix(X_train2,  label=y_train)\n",
    "xgboost_test  = xgb.DMatrix(X_val2,    label=y_val)\n",
    "xgboost_newdata = xgb.DMatrix(X_test2, label= y_test)"
   ]
  },
  {
   "cell_type": "markdown",
   "metadata": {},
   "source": [
    "**Hyperparameter tuning**"
   ]
  },
  {
   "cell_type": "markdown",
   "metadata": {},
   "source": [
    "In order to tune the other hyperparameters, we will use the cv function from XGBoost. It allows us to run cross-validation on our training dataset and returns logloss score.\n",
    "\n",
    "We need to pass it:\n",
    "* num_boost_rounds: It specifies number of boosting trees while training\n",
    "early_stopping_rounds: This parameter evaluates performance of model for a specified number of rounds, and if the performance does not improve during those many rounds, the training process is stopped.\n",
    "* max_depth: Depth of a tree is distance between the root and the leaf furthest from the root. Model becomes more complex and tends to overfit as this value increases. Also, memory consumption increases with increase in tree depth.\n",
    "* min_child_weight: This is used to control the partitioning of tree as it impacts splits within the tree. If a node has sum of instance weight less the minimum specified, then the process will not partition that node.\n",
    "* Subsample: It is the proportion of the data randomly sampled by XGBoost.By default it is set to 1 meaning that we use all rows.\n",
    "* colsample_bytree: It is the ratio of the number of columns used in tree construction. By default it is set to 1 meaning that we use all rows.\n",
    "* eta: It is the learning rate. Higher values make boosting process conservative by shrinking the weights of the features and prevents overfitting.having a lower eta makes our model more robust to overfitting It corresponds to the shrinkage of the weights associated to features after each round, in other words it defines the amount of \"correction\" we make at each step. thus, usually, the lower the learning rate, the best. But with a lower eta, we need more boosting rounds, which takes more time to train, sometimes for only marginal improvements\n",
    "\n",
    "We will use logistic loss function to assess the accuracy of predictions, as this is a classification problem"
   ]
  },
  {
   "cell_type": "code",
   "execution_count": 35,
   "metadata": {},
   "outputs": [
    {
     "name": "stdout",
     "output_type": "stream",
     "text": [
      "[0]\tTest-logloss:0.497617\n",
      "Will train until Test-logloss hasn't improved in 10 rounds.\n",
      "[1]\tTest-logloss:0.390693\n",
      "[2]\tTest-logloss:0.325477\n",
      "[3]\tTest-logloss:0.283189\n",
      "[4]\tTest-logloss:0.255702\n",
      "[5]\tTest-logloss:0.236403\n",
      "[6]\tTest-logloss:0.223274\n",
      "[7]\tTest-logloss:0.214541\n",
      "[8]\tTest-logloss:0.208598\n",
      "[9]\tTest-logloss:0.203509\n",
      "[10]\tTest-logloss:0.200127\n",
      "[11]\tTest-logloss:0.19781\n",
      "[12]\tTest-logloss:0.195951\n",
      "[13]\tTest-logloss:0.194421\n",
      "[14]\tTest-logloss:0.193179\n",
      "[15]\tTest-logloss:0.192417\n",
      "[16]\tTest-logloss:0.1919\n",
      "[17]\tTest-logloss:0.191176\n",
      "[18]\tTest-logloss:0.190645\n",
      "[19]\tTest-logloss:0.19026\n",
      "[20]\tTest-logloss:0.189946\n",
      "[21]\tTest-logloss:0.190031\n",
      "[22]\tTest-logloss:0.189996\n",
      "[23]\tTest-logloss:0.189796\n",
      "[24]\tTest-logloss:0.189354\n",
      "[25]\tTest-logloss:0.189496\n",
      "[26]\tTest-logloss:0.18932\n",
      "[27]\tTest-logloss:0.189355\n",
      "[28]\tTest-logloss:0.189287\n",
      "[29]\tTest-logloss:0.189253\n",
      "[30]\tTest-logloss:0.189099\n",
      "[31]\tTest-logloss:0.189024\n",
      "[32]\tTest-logloss:0.188965\n",
      "[33]\tTest-logloss:0.188872\n",
      "[34]\tTest-logloss:0.1885\n",
      "[35]\tTest-logloss:0.188386\n",
      "[36]\tTest-logloss:0.188317\n",
      "[37]\tTest-logloss:0.188469\n",
      "[38]\tTest-logloss:0.188423\n",
      "[39]\tTest-logloss:0.188445\n",
      "[40]\tTest-logloss:0.188232\n",
      "[41]\tTest-logloss:0.188217\n",
      "[42]\tTest-logloss:0.188203\n",
      "[43]\tTest-logloss:0.188127\n",
      "[44]\tTest-logloss:0.188076\n",
      "[45]\tTest-logloss:0.188225\n",
      "[46]\tTest-logloss:0.188369\n",
      "[47]\tTest-logloss:0.188242\n",
      "[48]\tTest-logloss:0.188245\n",
      "[49]\tTest-logloss:0.188259\n",
      "[50]\tTest-logloss:0.188262\n",
      "[51]\tTest-logloss:0.188202\n",
      "[52]\tTest-logloss:0.18833\n",
      "[53]\tTest-logloss:0.188285\n",
      "[54]\tTest-logloss:0.188208\n",
      "Stopping. Best iteration:\n",
      "[44]\tTest-logloss:0.188076\n",
      "\n",
      "Best Logloss: 0.188 | Rounds: 45\n"
     ]
    }
   ],
   "source": [
    "# We will set num_boost_rounds to 100, early_stopping_rounds to 10, and objective to binary:logistic.\n",
    "# All the other values at this stage are default values.\n",
    "# We will tune our model by chaning the default values.\n",
    "\n",
    "params = {'max_depth':6, \n",
    "          'min_child_weight':1, \n",
    "          'eta':0.3, \n",
    "          'subsample':1, \n",
    "          'colsample_bytree':1, \n",
    "          'objective':'binary:logistic',}\n",
    "\n",
    "# We will use logloss function to evaluate the model's performance\n",
    "params['eval_metric'] = \"logloss\"\n",
    "\n",
    "xgmodel = xgb.train(params, dtrain = xgboost_train, \n",
    "                    num_boost_round = 100, \n",
    "                    evals = [(xgboost_test,\"Test\")], \n",
    "                    early_stopping_rounds = 10)\n",
    "\n",
    "print(\"Best Logloss: {:.3f} | Rounds: {}\".format(xgmodel.best_score,\n",
    "                                                 xgmodel.best_iteration+1))"
   ]
  },
  {
   "cell_type": "code",
   "execution_count": 43,
   "metadata": {},
   "outputs": [],
   "source": [
    "# Parameters: max-depth and min_child_weight (finding its optimal values)\n",
    "\n",
    "gridsearch_params = [(max_depth, min_child_weight)\n",
    "                    for max_depth in range(2,4)\n",
    "                    for min_child_weight in range(5,8)]"
   ]
  },
  {
   "cell_type": "code",
   "execution_count": 44,
   "metadata": {},
   "outputs": [
    {
     "name": "stdout",
     "output_type": "stream",
     "text": [
      "max_depth: 2 | min_child_weight: 5 with Logloss: 0.191\n",
      "\n",
      "max_depth: 2 | min_child_weight: 6 with Logloss: 0.191\n",
      "\n",
      "max_depth: 2 | min_child_weight: 7 with Logloss: 0.191\n",
      "\n",
      "max_depth: 3 | min_child_weight: 5 with Logloss: 0.189\n",
      "\n",
      "max_depth: 3 | min_child_weight: 6 with Logloss: 0.189\n",
      "\n",
      "max_depth: 3 | min_child_weight: 7 with Logloss: 0.189\n",
      "\n",
      "Best Parameters: max_depth: 3 | min_child_weight: 7 with Logloss: 0.189\n"
     ]
    }
   ],
   "source": [
    "logloss_min = float(\"Inf\")\n",
    "best_params = None\n",
    "\n",
    "for max_depth, min_child_weight in gridsearch_params:\n",
    "    params['max_depth'] = max_depth\n",
    "    params['min_child_weight'] = min_child_weight\n",
    "    \n",
    "    xg_cvresults = xgb.cv(params, \n",
    "                          dtrain = xgboost_train, \n",
    "                          num_boost_round = 100,\n",
    "                          seed = 303, \n",
    "                          nfold=10, \n",
    "                          metrics = {'logloss'}, \n",
    "                          early_stopping_rounds = 10,)\n",
    "    \n",
    "    logloss_mean = xg_cvresults['test-logloss-mean'].min()\n",
    "    \n",
    "    print(\"max_depth: {} | min_child_weight: {} with Logloss: {:.3}\\n\".format(max_depth,\n",
    "                                                                              min_child_weight,\n",
    "                                                                              logloss_mean))\n",
    "    \n",
    "    if logloss_mean < logloss_min:\n",
    "        logloss_min = logloss_mean\n",
    "        best_params = (max_depth, min_child_weight)\n",
    "\n",
    "        \n",
    "print(\"Best Parameters: max_depth: {} | min_child_weight: {} with Logloss: {:.3f}\". \\\n",
    "      format(best_params[0], best_params[1], logloss_min))"
   ]
  },
  {
   "cell_type": "code",
   "execution_count": 46,
   "metadata": {},
   "outputs": [],
   "source": [
    "# so far best is max depth 3, min child weight 7\n",
    "params['max_depth'] = 3\n",
    "params['min_child_weight'] = 7"
   ]
  },
  {
   "cell_type": "code",
   "execution_count": 53,
   "metadata": {},
   "outputs": [],
   "source": [
    "# Parameters: subsample and colsample_bytree\n",
    "\n",
    "gridsearch_params = [\n",
    "    (subsample, colsample)\n",
    "    for subsample in [i/10. for i in range(8,11)]\n",
    "    for colsample in [i/10. for i in range(5,10)]\n",
    "]"
   ]
  },
  {
   "cell_type": "code",
   "execution_count": 54,
   "metadata": {},
   "outputs": [
    {
     "name": "stdout",
     "output_type": "stream",
     "text": [
      "max_depth: 0.8 | min_child_weight: 0.5 with Logloss: 0.19\n",
      "\n",
      "max_depth: 0.8 | min_child_weight: 0.6 with Logloss: 0.19\n",
      "\n",
      "max_depth: 0.8 | min_child_weight: 0.7 with Logloss: 0.19\n",
      "\n",
      "max_depth: 0.8 | min_child_weight: 0.8 with Logloss: 0.19\n",
      "\n",
      "max_depth: 0.8 | min_child_weight: 0.9 with Logloss: 0.19\n",
      "\n",
      "max_depth: 0.9 | min_child_weight: 0.5 with Logloss: 0.19\n",
      "\n",
      "max_depth: 0.9 | min_child_weight: 0.6 with Logloss: 0.189\n",
      "\n",
      "max_depth: 0.9 | min_child_weight: 0.7 with Logloss: 0.19\n",
      "\n",
      "max_depth: 0.9 | min_child_weight: 0.8 with Logloss: 0.189\n",
      "\n",
      "max_depth: 0.9 | min_child_weight: 0.9 with Logloss: 0.19\n",
      "\n",
      "max_depth: 1.0 | min_child_weight: 0.5 with Logloss: 0.189\n",
      "\n",
      "max_depth: 1.0 | min_child_weight: 0.6 with Logloss: 0.189\n",
      "\n",
      "max_depth: 1.0 | min_child_weight: 0.7 with Logloss: 0.189\n",
      "\n",
      "max_depth: 1.0 | min_child_weight: 0.8 with Logloss: 0.19\n",
      "\n",
      "max_depth: 1.0 | min_child_weight: 0.9 with Logloss: 0.189\n",
      "\n",
      "Best Parameters: max_depth: 1.0 | min_child_weight: 0.9 with Logloss: 0.189\n"
     ]
    }
   ],
   "source": [
    "logloss_min = float(\"Inf\")\n",
    "best_params = None\n",
    "\n",
    "for subsample, colsample in (gridsearch_params):\n",
    "    \n",
    "    params['subsample'] = subsample\n",
    "    params['colsample_bytree'] = colsample\n",
    "    \n",
    "    xg_cvresults = xgb.cv(params, \n",
    "                          dtrain = xgboost_train, \n",
    "                          num_boost_round = 100,\n",
    "                          seed = 303, \n",
    "                          nfold=10, \n",
    "                          metrics = {'logloss'}, \n",
    "                          early_stopping_rounds = 10,)\n",
    "    \n",
    "    logloss_mean = xg_cvresults['test-logloss-mean'].min()\n",
    "    \n",
    "    print(\"subsample: {} | colsample: {} with Logloss: {:.3}\\n\".format(subsample,\n",
    "                                                                              colsample,\n",
    "                                                                              logloss_mean))\n",
    "    \n",
    "    if logloss_mean < logloss_min:\n",
    "        logloss_min = logloss_mean\n",
    "        best_params = (subsample,colsample)\n",
    "\n",
    "        \n",
    "print(\"Best Parameters: subsample: {} | colsample: {} with Logloss: {:.3f}\". \\\n",
    "      format(best_params[0], best_params[1], logloss_min))"
   ]
  },
  {
   "cell_type": "code",
   "execution_count": 55,
   "metadata": {},
   "outputs": [],
   "source": [
    "# so far best subsample is 1.0 and best colsample is 0.9\n",
    "\n",
    "params['subsample'] = 1.0\n",
    "params['colsample_bytree'] = 0.9"
   ]
  },
  {
   "cell_type": "code",
   "execution_count": 56,
   "metadata": {},
   "outputs": [
    {
     "name": "stdout",
     "output_type": "stream",
     "text": [
      "eta: 0.3 with Logloss: 0.189\n",
      "\n",
      "eta: 0.2 with Logloss: 0.19\n",
      "\n",
      "eta: 0.1 with Logloss: 0.195\n",
      "\n",
      "eta: 0.05 with Logloss: 0.203\n",
      "\n",
      "eta: 0.01 with Logloss: 0.332\n",
      "\n",
      "eta: 0.005 with Logloss: 0.445\n",
      "\n",
      "Best Parameter: eta: 0.3 with Logloss: 0.189\n"
     ]
    }
   ],
   "source": [
    "# Parameter: eta\n",
    "\n",
    "logloss_min = float(\"Inf\")\n",
    "best_params = None\n",
    "\n",
    "for eta in [0.3, 0.2, 0.1, 0.05, 0.01, 0.005]:\n",
    "    \n",
    "    params['eta'] = eta\n",
    "    \n",
    "    xg_cvresults = xgb.cv(params, dtrain = xgboost_train, \n",
    "                          num_boost_round = 100,\n",
    "                          seed = 303, \n",
    "                          nfold=10, \n",
    "                          metrics = {'logloss'}, early_stopping_rounds = 10,)\n",
    "    \n",
    "    logloss_mean = xg_cvresults['test-logloss-mean'].min()\n",
    "    print(\"eta: {} with Logloss: {:.3}\\n\".format(eta,logloss_mean))\n",
    "    \n",
    "    if logloss_mean < logloss_min:\n",
    "        logloss_min = logloss_mean\n",
    "        best_params = eta\n",
    "        \n",
    "print(\"Best Parameter: eta: {} with Logloss: {:.3f}\". format(best_params, logloss_min))"
   ]
  },
  {
   "cell_type": "code",
   "execution_count": 57,
   "metadata": {},
   "outputs": [],
   "source": [
    "# Setting the optimum paramters\n",
    "\n",
    "params = {'colsample_bytree': 0.9,\n",
    "          'eta': 0.3,\n",
    "          'eval_metric': 'logloss',\n",
    "          'max_depth': 3,\n",
    "          'min_child_weight': 7,\n",
    "          'objective':'binary:logistic',\n",
    "          'subsample': 1}"
   ]
  },
  {
   "cell_type": "code",
   "execution_count": 64,
   "metadata": {},
   "outputs": [
    {
     "name": "stdout",
     "output_type": "stream",
     "text": [
      "[0]\tTest-logloss:0.500467\n",
      "[1]\tTest-logloss:0.395313\n",
      "[2]\tTest-logloss:0.331291\n",
      "[3]\tTest-logloss:0.290234\n",
      "[4]\tTest-logloss:0.263034\n",
      "[5]\tTest-logloss:0.24473\n",
      "[6]\tTest-logloss:0.232143\n",
      "[7]\tTest-logloss:0.223243\n",
      "[8]\tTest-logloss:0.216963\n",
      "[9]\tTest-logloss:0.212393\n",
      "[10]\tTest-logloss:0.209236\n",
      "[11]\tTest-logloss:0.206118\n",
      "[12]\tTest-logloss:0.203628\n",
      "[13]\tTest-logloss:0.201949\n",
      "[14]\tTest-logloss:0.200297\n",
      "[15]\tTest-logloss:0.199026\n",
      "[16]\tTest-logloss:0.198031\n",
      "[17]\tTest-logloss:0.19724\n",
      "[18]\tTest-logloss:0.196586\n",
      "[19]\tTest-logloss:0.196071\n",
      "[20]\tTest-logloss:0.195701\n",
      "[21]\tTest-logloss:0.195245\n",
      "[22]\tTest-logloss:0.194827\n",
      "[23]\tTest-logloss:0.194258\n",
      "[24]\tTest-logloss:0.193916\n",
      "[25]\tTest-logloss:0.193488\n",
      "[26]\tTest-logloss:0.193081\n",
      "[27]\tTest-logloss:0.192662\n",
      "[28]\tTest-logloss:0.192299\n",
      "[29]\tTest-logloss:0.19186\n",
      "[30]\tTest-logloss:0.191301\n",
      "[31]\tTest-logloss:0.191094\n",
      "[32]\tTest-logloss:0.190605\n",
      "[33]\tTest-logloss:0.190397\n",
      "[34]\tTest-logloss:0.189906\n",
      "[35]\tTest-logloss:0.189828\n",
      "[36]\tTest-logloss:0.189297\n",
      "[37]\tTest-logloss:0.189083\n",
      "[38]\tTest-logloss:0.188939\n",
      "[39]\tTest-logloss:0.188711\n",
      "[40]\tTest-logloss:0.18845\n",
      "[41]\tTest-logloss:0.188364\n",
      "[42]\tTest-logloss:0.18832\n",
      "[43]\tTest-logloss:0.18811\n",
      "[44]\tTest-logloss:0.187702\n",
      "[45]\tTest-logloss:0.187523\n",
      "[46]\tTest-logloss:0.187447\n",
      "[47]\tTest-logloss:0.187131\n",
      "[48]\tTest-logloss:0.187058\n",
      "[49]\tTest-logloss:0.186918\n",
      "[50]\tTest-logloss:0.186825\n",
      "[51]\tTest-logloss:0.18677\n",
      "[52]\tTest-logloss:0.186458\n",
      "[53]\tTest-logloss:0.186254\n",
      "[54]\tTest-logloss:0.186052\n",
      "[55]\tTest-logloss:0.185973\n",
      "[56]\tTest-logloss:0.185926\n",
      "[57]\tTest-logloss:0.185782\n",
      "[58]\tTest-logloss:0.185676\n",
      "[59]\tTest-logloss:0.185639\n",
      "[60]\tTest-logloss:0.185453\n",
      "[61]\tTest-logloss:0.185319\n",
      "[62]\tTest-logloss:0.185233\n",
      "[63]\tTest-logloss:0.18519\n",
      "[64]\tTest-logloss:0.185069\n",
      "[65]\tTest-logloss:0.185026\n",
      "[66]\tTest-logloss:0.184797\n",
      "[67]\tTest-logloss:0.184758\n",
      "[68]\tTest-logloss:0.184671\n",
      "[69]\tTest-logloss:0.184669\n",
      "[70]\tTest-logloss:0.184572\n",
      "[71]\tTest-logloss:0.184529\n",
      "[72]\tTest-logloss:0.184434\n",
      "[73]\tTest-logloss:0.184393\n",
      "[74]\tTest-logloss:0.184336\n",
      "[75]\tTest-logloss:0.184176\n",
      "[76]\tTest-logloss:0.184245\n",
      "[77]\tTest-logloss:0.18427\n",
      "[78]\tTest-logloss:0.184237\n",
      "[79]\tTest-logloss:0.184291\n",
      "[80]\tTest-logloss:0.184241\n",
      "[81]\tTest-logloss:0.18426\n",
      "[82]\tTest-logloss:0.184118\n",
      "[83]\tTest-logloss:0.18404\n",
      "[84]\tTest-logloss:0.184088\n",
      "[85]\tTest-logloss:0.184066\n",
      "[86]\tTest-logloss:0.184027\n",
      "[87]\tTest-logloss:0.184007\n",
      "[88]\tTest-logloss:0.183998\n",
      "[89]\tTest-logloss:0.183901\n",
      "[90]\tTest-logloss:0.183855\n",
      "[91]\tTest-logloss:0.183806\n",
      "[92]\tTest-logloss:0.183866\n",
      "[93]\tTest-logloss:0.183812\n",
      "[94]\tTest-logloss:0.183842\n",
      "[95]\tTest-logloss:0.183807\n",
      "[96]\tTest-logloss:0.183849\n",
      "[97]\tTest-logloss:0.183794\n",
      "[98]\tTest-logloss:0.183704\n",
      "[99]\tTest-logloss:0.183667\n",
      "[100]\tTest-logloss:0.183738\n",
      "[101]\tTest-logloss:0.183758\n",
      "[102]\tTest-logloss:0.183742\n",
      "[103]\tTest-logloss:0.18372\n",
      "[104]\tTest-logloss:0.183773\n",
      "[105]\tTest-logloss:0.183698\n",
      "[106]\tTest-logloss:0.183777\n",
      "[107]\tTest-logloss:0.183766\n",
      "[108]\tTest-logloss:0.183767\n",
      "[109]\tTest-logloss:0.183713\n",
      "[110]\tTest-logloss:0.18364\n",
      "[111]\tTest-logloss:0.183575\n",
      "[112]\tTest-logloss:0.183513\n",
      "[113]\tTest-logloss:0.183546\n",
      "[114]\tTest-logloss:0.183298\n",
      "[115]\tTest-logloss:0.183269\n",
      "[116]\tTest-logloss:0.183202\n",
      "[117]\tTest-logloss:0.183172\n"
     ]
    },
    {
     "data": {
      "text/plain": [
       "117"
      ]
     },
     "execution_count": 64,
     "metadata": {},
     "output_type": "execute_result"
    }
   ],
   "source": [
    "# Finding the optimal number of rounds for the model with new parameters\n",
    "\n",
    "xgmodel_tuned = xgb.train(params, dtrain = xgboost_train, \n",
    "                          num_boost_round=118, \n",
    "                          evals=[(xgboost_test,\"Test\")])\n",
    "\n",
    "\n",
    "xgmodel_tuned.best_iteration"
   ]
  },
  {
   "cell_type": "code",
   "execution_count": 65,
   "metadata": {},
   "outputs": [],
   "source": [
    "# Save rf to file in the current working directory\n",
    "xgb_filename = \"xgb.pkl\"\n",
    "# with open(xgb_filename, 'wb') as xgbfile:\n",
    "#    pickle.dump(xgmodel_tuned, xgbfile)\n",
    "    \n",
    "# Load from file\n",
    "with open(xgb_filename, 'rb') as xgbfile:\n",
    "    pickle_xgbmmodel = pickle.load(xgbfile)"
   ]
  },
  {
   "cell_type": "markdown",
   "metadata": {},
   "source": [
    "**Get prediction on validation**"
   ]
  },
  {
   "cell_type": "code",
   "execution_count": 72,
   "metadata": {},
   "outputs": [],
   "source": [
    "xgb_y_pred = xgmodel_tuned.predict(xgboost_test)\n",
    "\n",
    "xgb_y_pred = np.where(xgb_y_pred > 0.5, 1, 0)"
   ]
  },
  {
   "cell_type": "code",
   "execution_count": 84,
   "metadata": {
    "scrolled": true
   },
   "outputs": [
    {
     "name": "stdout",
     "output_type": "stream",
     "text": [
      "Confusion Matrix:\n",
      "[[24854   328]\n",
      " [ 1532   800]]\n",
      "Classification Report:\n",
      "              precision    recall  f1-score   support\n",
      "\n",
      "           0       0.94      0.99      0.96     25182\n",
      "           1       0.71      0.34      0.46      2332\n",
      "\n",
      "    accuracy                           0.93     27514\n",
      "   macro avg       0.83      0.67      0.71     27514\n",
      "weighted avg       0.92      0.93      0.92     27514\n",
      "\n",
      "Accuracy: 0.9323980519008505\n"
     ]
    }
   ],
   "source": [
    "xgb_result = confusion_matrix(y_val, xgb_y_pred)\n",
    "print(\"Confusion Matrix:\")\n",
    "print(xgb_result)\n",
    "xgb_result1 = classification_report(y_val, xgb_y_pred)\n",
    "print(\"Classification Report:\",)\n",
    "print (xgb_result1)\n",
    "xgb_result2 = accuracy_score(y_val, xgb_y_pred)\n",
    "print(\"Accuracy:\", xgb_result2)"
   ]
  },
  {
   "cell_type": "markdown",
   "metadata": {},
   "source": [
    "XGBoost improves the accuracy as compared to LightGBM"
   ]
  },
  {
   "cell_type": "markdown",
   "metadata": {},
   "source": [
    "# Run trained model on test"
   ]
  },
  {
   "cell_type": "markdown",
   "metadata": {},
   "source": [
    "Logistic"
   ]
  },
  {
   "cell_type": "code",
   "execution_count": 106,
   "metadata": {},
   "outputs": [],
   "source": [
    "test_df_cleaned3[\"hospital_death\"] = pickle_logitmodel.predict_proba(X_test)[:,1]"
   ]
  },
  {
   "cell_type": "code",
   "execution_count": 107,
   "metadata": {},
   "outputs": [
    {
     "data": {
      "text/html": [
       "<div>\n",
       "<style scoped>\n",
       "    .dataframe tbody tr th:only-of-type {\n",
       "        vertical-align: middle;\n",
       "    }\n",
       "\n",
       "    .dataframe tbody tr th {\n",
       "        vertical-align: top;\n",
       "    }\n",
       "\n",
       "    .dataframe thead th {\n",
       "        text-align: right;\n",
       "    }\n",
       "</style>\n",
       "<table border=\"1\" class=\"dataframe\">\n",
       "  <thead>\n",
       "    <tr style=\"text-align: right;\">\n",
       "      <th></th>\n",
       "      <th>encounter_id</th>\n",
       "      <th>hospital_death</th>\n",
       "    </tr>\n",
       "  </thead>\n",
       "  <tbody>\n",
       "    <tr>\n",
       "      <th>0</th>\n",
       "      <td>2</td>\n",
       "      <td>0.038499</td>\n",
       "    </tr>\n",
       "    <tr>\n",
       "      <th>1</th>\n",
       "      <td>5</td>\n",
       "      <td>0.007940</td>\n",
       "    </tr>\n",
       "    <tr>\n",
       "      <th>2</th>\n",
       "      <td>7</td>\n",
       "      <td>0.028109</td>\n",
       "    </tr>\n",
       "    <tr>\n",
       "      <th>3</th>\n",
       "      <td>8</td>\n",
       "      <td>0.285137</td>\n",
       "    </tr>\n",
       "    <tr>\n",
       "      <th>4</th>\n",
       "      <td>10</td>\n",
       "      <td>0.106563</td>\n",
       "    </tr>\n",
       "  </tbody>\n",
       "</table>\n",
       "</div>"
      ],
      "text/plain": [
       "   encounter_id  hospital_death\n",
       "0             2        0.038499\n",
       "1             5        0.007940\n",
       "2             7        0.028109\n",
       "3             8        0.285137\n",
       "4            10        0.106563"
      ]
     },
     "execution_count": 107,
     "metadata": {},
     "output_type": "execute_result"
    }
   ],
   "source": [
    "test_df_cleaned3[[\"encounter_id\",\"hospital_death\"]].to_csv(\"logistic_submission.csv\",index=False)\n",
    "test_df_cleaned3[[\"encounter_id\",\"hospital_death\"]].head()"
   ]
  },
  {
   "cell_type": "markdown",
   "metadata": {},
   "source": [
    "Light GBM"
   ]
  },
  {
   "cell_type": "code",
   "execution_count": null,
   "metadata": {},
   "outputs": [],
   "source": [
    "test_df_cleaned3[\"hospital_death\"] = lgbm_best1.predict(X_test, pred_contrib=False)"
   ]
  },
  {
   "cell_type": "code",
   "execution_count": 126,
   "metadata": {},
   "outputs": [
    {
     "data": {
      "text/html": [
       "<div>\n",
       "<style scoped>\n",
       "    .dataframe tbody tr th:only-of-type {\n",
       "        vertical-align: middle;\n",
       "    }\n",
       "\n",
       "    .dataframe tbody tr th {\n",
       "        vertical-align: top;\n",
       "    }\n",
       "\n",
       "    .dataframe thead th {\n",
       "        text-align: right;\n",
       "    }\n",
       "</style>\n",
       "<table border=\"1\" class=\"dataframe\">\n",
       "  <thead>\n",
       "    <tr style=\"text-align: right;\">\n",
       "      <th></th>\n",
       "      <th>encounter_id</th>\n",
       "      <th>hospital_death</th>\n",
       "    </tr>\n",
       "  </thead>\n",
       "  <tbody>\n",
       "    <tr>\n",
       "      <th>0</th>\n",
       "      <td>2</td>\n",
       "      <td>0.038535</td>\n",
       "    </tr>\n",
       "    <tr>\n",
       "      <th>1</th>\n",
       "      <td>5</td>\n",
       "      <td>0.017650</td>\n",
       "    </tr>\n",
       "    <tr>\n",
       "      <th>2</th>\n",
       "      <td>7</td>\n",
       "      <td>0.015687</td>\n",
       "    </tr>\n",
       "    <tr>\n",
       "      <th>3</th>\n",
       "      <td>8</td>\n",
       "      <td>0.159368</td>\n",
       "    </tr>\n",
       "    <tr>\n",
       "      <th>4</th>\n",
       "      <td>10</td>\n",
       "      <td>0.736519</td>\n",
       "    </tr>\n",
       "  </tbody>\n",
       "</table>\n",
       "</div>"
      ],
      "text/plain": [
       "   encounter_id  hospital_death\n",
       "0             2        0.038535\n",
       "1             5        0.017650\n",
       "2             7        0.015687\n",
       "3             8        0.159368\n",
       "4            10        0.736519"
      ]
     },
     "execution_count": 126,
     "metadata": {},
     "output_type": "execute_result"
    }
   ],
   "source": [
    "test_df_cleaned3[[\"encounter_id\",\"hospital_death\"]].to_csv(\"lightagbm2_submission.csv\",index=False)\n",
    "test_df_cleaned3[[\"encounter_id\",\"hospital_death\"]].head()"
   ]
  },
  {
   "cell_type": "markdown",
   "metadata": {},
   "source": [
    "Random forest"
   ]
  },
  {
   "cell_type": "code",
   "execution_count": 137,
   "metadata": {},
   "outputs": [],
   "source": [
    "test_df_cleaned3[\"hospital_death\"] = pickle_rfmmodel.predict_proba(X_test)[:,1]"
   ]
  },
  {
   "cell_type": "code",
   "execution_count": 138,
   "metadata": {},
   "outputs": [
    {
     "data": {
      "text/html": [
       "<div>\n",
       "<style scoped>\n",
       "    .dataframe tbody tr th:only-of-type {\n",
       "        vertical-align: middle;\n",
       "    }\n",
       "\n",
       "    .dataframe tbody tr th {\n",
       "        vertical-align: top;\n",
       "    }\n",
       "\n",
       "    .dataframe thead th {\n",
       "        text-align: right;\n",
       "    }\n",
       "</style>\n",
       "<table border=\"1\" class=\"dataframe\">\n",
       "  <thead>\n",
       "    <tr style=\"text-align: right;\">\n",
       "      <th></th>\n",
       "      <th>encounter_id</th>\n",
       "      <th>hospital_death</th>\n",
       "    </tr>\n",
       "  </thead>\n",
       "  <tbody>\n",
       "    <tr>\n",
       "      <th>0</th>\n",
       "      <td>2</td>\n",
       "      <td>0.086445</td>\n",
       "    </tr>\n",
       "    <tr>\n",
       "      <th>1</th>\n",
       "      <td>5</td>\n",
       "      <td>0.028347</td>\n",
       "    </tr>\n",
       "    <tr>\n",
       "      <th>2</th>\n",
       "      <td>7</td>\n",
       "      <td>0.026277</td>\n",
       "    </tr>\n",
       "    <tr>\n",
       "      <th>3</th>\n",
       "      <td>8</td>\n",
       "      <td>0.174839</td>\n",
       "    </tr>\n",
       "    <tr>\n",
       "      <th>4</th>\n",
       "      <td>10</td>\n",
       "      <td>0.407568</td>\n",
       "    </tr>\n",
       "  </tbody>\n",
       "</table>\n",
       "</div>"
      ],
      "text/plain": [
       "   encounter_id  hospital_death\n",
       "0             2        0.086445\n",
       "1             5        0.028347\n",
       "2             7        0.026277\n",
       "3             8        0.174839\n",
       "4            10        0.407568"
      ]
     },
     "execution_count": 138,
     "metadata": {},
     "output_type": "execute_result"
    }
   ],
   "source": [
    "test_df_cleaned3[[\"encounter_id\",\"hospital_death\"]].to_csv(\"rf_submission.csv\",index=False)\n",
    "test_df_cleaned3[[\"encounter_id\",\"hospital_death\"]].head()"
   ]
  },
  {
   "cell_type": "markdown",
   "metadata": {},
   "source": [
    "XGboost"
   ]
  },
  {
   "cell_type": "code",
   "execution_count": 94,
   "metadata": {},
   "outputs": [],
   "source": [
    "test_df_cleaned3[\"hospital_death\"] = pickle_xgbmmodel.predict(xgboost_newdata)"
   ]
  },
  {
   "cell_type": "code",
   "execution_count": 95,
   "metadata": {},
   "outputs": [
    {
     "data": {
      "text/html": [
       "<div>\n",
       "<style scoped>\n",
       "    .dataframe tbody tr th:only-of-type {\n",
       "        vertical-align: middle;\n",
       "    }\n",
       "\n",
       "    .dataframe tbody tr th {\n",
       "        vertical-align: top;\n",
       "    }\n",
       "\n",
       "    .dataframe thead th {\n",
       "        text-align: right;\n",
       "    }\n",
       "</style>\n",
       "<table border=\"1\" class=\"dataframe\">\n",
       "  <thead>\n",
       "    <tr style=\"text-align: right;\">\n",
       "      <th></th>\n",
       "      <th>encounter_id</th>\n",
       "      <th>hospital_death</th>\n",
       "    </tr>\n",
       "  </thead>\n",
       "  <tbody>\n",
       "    <tr>\n",
       "      <th>0</th>\n",
       "      <td>2</td>\n",
       "      <td>0.006731</td>\n",
       "    </tr>\n",
       "    <tr>\n",
       "      <th>1</th>\n",
       "      <td>5</td>\n",
       "      <td>0.009273</td>\n",
       "    </tr>\n",
       "    <tr>\n",
       "      <th>2</th>\n",
       "      <td>7</td>\n",
       "      <td>0.006090</td>\n",
       "    </tr>\n",
       "    <tr>\n",
       "      <th>3</th>\n",
       "      <td>8</td>\n",
       "      <td>0.140188</td>\n",
       "    </tr>\n",
       "    <tr>\n",
       "      <th>4</th>\n",
       "      <td>10</td>\n",
       "      <td>0.186957</td>\n",
       "    </tr>\n",
       "  </tbody>\n",
       "</table>\n",
       "</div>"
      ],
      "text/plain": [
       "   encounter_id  hospital_death\n",
       "0             2        0.006731\n",
       "1             5        0.009273\n",
       "2             7        0.006090\n",
       "3             8        0.140188\n",
       "4            10        0.186957"
      ]
     },
     "execution_count": 95,
     "metadata": {},
     "output_type": "execute_result"
    }
   ],
   "source": [
    "test_df_cleaned3[[\"encounter_id\",\"hospital_death\"]].to_csv(\"xgb_submission.csv\",index=False)\n",
    "test_df_cleaned3[[\"encounter_id\",\"hospital_death\"]].head()"
   ]
  },
  {
   "cell_type": "code",
   "execution_count": null,
   "metadata": {},
   "outputs": [],
   "source": []
  }
 ],
 "metadata": {
  "colab": {
   "collapsed_sections": [],
   "name": "ICU_Survivability.ipynb",
   "provenance": [],
   "toc_visible": true
  },
  "kernelspec": {
   "display_name": "Python 3",
   "language": "python",
   "name": "python3"
  },
  "language_info": {
   "codemirror_mode": {
    "name": "ipython",
    "version": 3
   },
   "file_extension": ".py",
   "mimetype": "text/x-python",
   "name": "python",
   "nbconvert_exporter": "python",
   "pygments_lexer": "ipython3",
   "version": "3.7.3"
  }
 },
 "nbformat": 4,
 "nbformat_minor": 1
}
